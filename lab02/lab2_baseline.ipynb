{
 "cells": [
  {
   "attachments": {},
   "cell_type": "markdown",
   "metadata": {},
   "source": [
    "# Speech Processing - Instituto Superior Técnico\n",
    "### Laboratory Assignment 2 - Spoken Language Indentification challenge\n",
    "\n",
    "The second laboratory assignment of the course is designed to simulate a **spoken language identification** challenge. In this challenge, partipants (a.k.a students enrolled in the course) receive a train, development and evaluation (blind) data set, and a simple (and weak) baseline system for the task at hand: closed-set identification of the spoken language in a given audio file out of a set of six target langauges: Basque,  Catalan,  English,  Galician,  Portuguese and  Spanish.\n",
    "\n",
    "The **goal** for each participant is to develop/build the best spoken language identification system. To this end, participants are encouraged to modify this baseline, incorporate any other techniques and in general explore any approach that permit  improving their results.\n",
    "\n",
    "During the first week (Part 1), students are expected to:\n",
    "- Run and understand the main components of the baseline.\n",
    "- Propose and develop simple modifications to the baseline feature extraction process.\n",
    "- Propose and develop simple modifications to the baseline GMM language models.\n",
    "- Evaluate the models on the development partition.\n",
    "\n",
    "During the second week (Part 2), students are expected to:\n",
    "- Propose and develop other *classical* modifications to any component of the processing pipeline (openSMILE features, segment-based features, SVM classifiers, MLP/CNN classifiers, etc.)\n",
    "- Run and understand the second part of Notebook that explores a pre-trained model.\n",
    "- Propose and develop more recent advanced approaches, including x-vectors.\n",
    "- Evaluate the models on the development partition.\n",
    "- Obtain predictions for the blind test partition and prepare the submission.\n",
    "\n",
    "The challenge distinguishes two different tracks or evaluation conditions:\n",
    "- Track 1 - Participants are not allowed to use any kind of pre-trained model (such as x-vectors).\n",
    "- Track 2 - Participants are allowed to use anything.\n",
    "\n",
    "\n",
    "## About the data\n",
    "\n",
    "The data consists of mono audio files sampled at 16 kHz all of them containing speech of only one of the following target languages:\n",
    "```python \n",
    "LANGUAGES = ('Basque',  'Catalan',  'English',  'Galician',  'Portuguese',  'Spanish')\n",
    "```\n",
    "\n",
    "The dataset is organized in 4 partitions:\n",
    "- `'train'`: This is the full training set, consisting of 3060 clean audio samples correponding to speech segments of TV broadcast shows. (**ATENTION**: Do not use this dataset for training your models, unless your system is very fast or if you want to build your final model. It can be slow)\n",
    "- `'train100'`: This is a subset of the full training set that consists of 100 audio files per target language (**RECOMMENDATION**: Use this partition in your quick experiments, to more rapidly validate alternatives)\n",
    "- `'dev'`: This is the development set. It contains audio extracted from YouTube. You will typically use this to validate the quality of your model.\n",
    "- `'evl'`: This is the evaluation set. It contains audio extracted from YouTube. You don't have the groud-truth for this set. You are expected to produce it and submit it.\n",
    "\n",
    "The data used in this challenge is a subset of the KALAKA-3 database: https://aclanthology.org/L14-1576/\n",
    "\n",
    "The  difference is that only the clean train audio segments and the Plenty Closed evaluation condition have been considered. "
   ]
  },
  {
   "attachments": {},
   "cell_type": "markdown",
   "metadata": {},
   "source": [
    "## Before starting\n",
    "The following conditions are neecessary to run correctly this notebook:\n",
    "\n",
    "*   All modules included in the requirements file need to be \n",
    "installed in the Python environment.\n",
    "*   The module `pf_tools` needs to be accessible (if you are using Google Colab, you will need to copy the `pf_tools.py` every time you start a new session)."
   ]
  },
  {
   "cell_type": "code",
   "execution_count": 1,
   "metadata": {},
   "outputs": [],
   "source": [
    "from pf_tools import CheckThisCell"
   ]
  },
  {
   "attachments": {},
   "cell_type": "markdown",
   "metadata": {},
   "source": [
    "## How can you download (and process) the data\n",
    "\n",
    "The first thing we have to do is to set our working directory. If you are using Google Colab, you  probably want to mount Google Drive to keep persistent information, such as data, features and models:"
   ]
  },
  {
   "cell_type": "code",
   "execution_count": 2,
   "metadata": {},
   "outputs": [
    {
     "data": {
      "text/plain": [
       "'/Users/leonorbarreiros/Desktop/P4/PF/Spoken-Language-Processing/lab02'"
      ]
     },
     "execution_count": 2,
     "metadata": {},
     "output_type": "execute_result"
    }
   ],
   "source": [
    "import os \n",
    "CWD = os.getcwd() # Change this variable to your working directory to store data, features and models\n",
    "CWD"
   ]
  },
  {
   "attachments": {},
   "cell_type": "markdown",
   "metadata": {},
   "source": [
    "The class `Kalaka` permits downloading, transforming and storing the different data partitions. Each `Kalaka` instance can be used to iterate over all the samples of the partition. It can also be used in combination with pytorch dataloader to read batches of data to train neural networks with pytorch. For instance, consider the following piece of code:\n"
   ]
  },
  {
   "cell_type": "code",
   "execution_count": 3,
   "metadata": {},
   "outputs": [
    {
     "name": "stderr",
     "output_type": "stream",
     "text": [
      "/Users/duartealmeida/PF/Spoken-Language-Processing/lab02/pf_tools.py:91: UserWarning: The feature directory already exists, and no new feature extraction will be performed.\n",
      "  warnings.warn(\"The feature directory already exists, and no new feature extraction will be performed.\")\n"
     ]
    }
   ],
   "source": [
    "import numpy as np\n",
    "from pf_tools import Kalaka\n",
    "import librosa \n",
    "\n",
    "def audio_transform(filename):\n",
    "    y, _ = librosa.load(filename, sr=16000, mono=True)\n",
    "    return y.reshape(-1,1)\n",
    "    \n",
    "trainkalaka = Kalaka(CWD, 'train100', transform_id='raw', audio_transform=audio_transform)"
   ]
  },
  {
   "attachments": {},
   "cell_type": "markdown",
   "metadata": {},
   "source": [
    "\n",
    "This will first download and uncompress the .tar.gz file containing all the necessary data of the `'train100'` partition, that is, the audio files that are stored to disk (in CWD/train100/audio/) and key file (CWD/train100/key.lst). Then, the audio transformation `'transform'` will be applied to each file and the result stored to disk CWD/train100/raw/. \n",
    "\n",
    "**Audio transformations** receive a filename of an audio file and returns an array of dimensions (NxD), in which N is the time dimension and D the dimension of the feature vector. In this simple case D is 1 because the transform is just returning the raw audio signal.\n",
    "\n",
    "The `Kalaka` class permits chunking the output of the audio transformation (of size NxD) in chunks of CxD size. The chunking operation divides the orignal sample, in multiple smaller samples with a configurable chunk size and hop length. These chunks can be further transformed and stored as individual feature files. For instance:"
   ]
  },
  {
   "cell_type": "code",
   "execution_count": 4,
   "metadata": {},
   "outputs": [],
   "source": [
    "trainkalaka = Kalaka(CWD, 'train100', \n",
    "                     transform_id='chunks', \n",
    "                     audio_transform=audio_transform, \n",
    "                     chunk_size=4*16000, \n",
    "                     chunk_hop=2*16000)"
   ]
  },
  {
   "attachments": {},
   "cell_type": "markdown",
   "metadata": {},
   "source": [
    "This will download and uncompress the partition data, only if was not already done before. Then, as previously, the simple tranform that returns the waveform is applied to each audio file. After this, the resulting array of dimension Nx1, in which N=16000xduration_in_seconds, is split in continuous chunks of length 64000 (that is, 4 seconds) with chunk hop of 2 seconds. Each one of these chunks of 4 seconds is stored and will be accessed whenever we iterate the dataset. \n",
    "\n",
    "Adittionally, the optional argument `chunk_transform` pertmits defining a transformation to be applied to each chunk before storing to disk. It can be any function that receives an array of size CxD and returns an array HxW, in which H is the *new time dimension*. For instance, the following example takes the audio segments of 64000x1, computes the mean and variance every 0.1 sec (1600 samples) and returns a feature vector of size 40x2."
   ]
  },
  {
   "cell_type": "code",
   "execution_count": 5,
   "metadata": {},
   "outputs": [],
   "source": [
    "def chunk_transform(x):\n",
    "    x = x.reshape(-1,1600)\n",
    "    return np.concatenate((x.mean(axis=1, keepdims=True), x.std(axis=1, keepdims=True)),axis=1)\n",
    "\n",
    "trainkalaka = Kalaka(CWD, 'train100', \n",
    "                     transform_id='chunks_mv', \n",
    "                     audio_transform=audio_transform, \n",
    "                     chunk_size=4*16000, \n",
    "                     chunk_hop=2*16000, \n",
    "                     chunk_transform=chunk_transform)\n"
   ]
  },
  {
   "attachments": {},
   "cell_type": "markdown",
   "metadata": {},
   "source": [
    "\n",
    "Notice that, while the above example is probably useless as an effective feature extraction method, the proper combination of audio and chunk transformations is expected to permit quite flexible feature extraction that (hopefully) can match the needs of almost any training setting. \n",
    "\n",
    "Once we have instanciated a Kalaka dataset, it can be iterated to have access to each processed sample, for instance: "
   ]
  },
  {
   "cell_type": "code",
   "execution_count": 6,
   "metadata": {},
   "outputs": [
    {
     "name": "stdout",
     "output_type": "stream",
     "text": [
      "0 (40, 2) 6 0006ebda\n",
      "1000 (40, 2) 1 11a3790f\n",
      "2000 (40, 2) 4 271621da\n",
      "3000 (40, 2) 5 3b9d2c2f\n",
      "4000 (40, 2) 1 4d10f8f2\n",
      "5000 (40, 2) 6 5fb949a1\n",
      "6000 (40, 2) 6 70d28e30\n",
      "7000 (40, 2) 6 7d5515f0\n",
      "8000 (40, 2) 3 937623c2\n",
      "9000 (40, 2) 5 a4a7491b\n",
      "10000 (40, 2) 5 bc3f6e51\n",
      "11000 (40, 2) 3 cd82bcca\n",
      "12000 (40, 2) 1 df0b27f2\n",
      "13000 (40, 2) 3 f3ba1f4d\n",
      "Finished reading all data in 3.522908926010132\n"
     ]
    }
   ],
   "source": [
    "import time\n",
    "start = time.time()\n",
    "for i, sample in enumerate(trainkalaka):\n",
    "    data, label, basename = sample # array, int, str\n",
    "    if i % 1000 == 0:\n",
    "        print(i, data.shape, label, basename)\n",
    "\n",
    "print(f'Finished reading all data in {time.time() - start}')"
   ]
  },
  {
   "attachments": {},
   "cell_type": "markdown",
   "metadata": {},
   "source": [
    "Now you can use the `Kalaka` class to check the  number of files and size (in minutes) of the training set for each target language. You cankKeep these numbers to include in your system description paper:"
   ]
  },
  {
   "cell_type": "code",
   "execution_count": 7,
   "metadata": {},
   "outputs": [
    {
     "name": "stderr",
     "output_type": "stream",
     "text": [
      "  0%|                                                                                                     | 0/600 [00:00<?, ?it/s]/Users/duartealmeida/PF/Spoken-Language-Processing/lab02/pf_tools.py:145: FutureWarning: get_duration() keyword argument 'filename' has been renamed to 'path' in version 0.10.0.\n",
      "\tThis alias will be removed in version 1.0.\n",
      "  minutes[language] += librosa.get_duration(filename=audioin)\n",
      "100%|███████████████████████████████████████████████████████████████████████████████████████████| 600/600 [00:20<00:00, 29.53it/s]"
     ]
    },
    {
     "name": "stdout",
     "output_type": "stream",
     "text": [
      "Number of files per language:\n",
      "\tBasque: 100\n",
      "\tCatalan: 100\n",
      "\tEnglish: 100\n",
      "\tGalician: 100\n",
      "\tPortuguese: 100\n",
      "\tSpanish: 100\n",
      "\n",
      "Minutes per language:\n",
      "\tBasque: 4743.38\n",
      "\tCatalan: 5111.188999999999\n",
      "\tEnglish: 5254.2998125\n",
      "\tGalician: 4833.832437500003\n",
      "\tPortuguese: 4569.997062499999\n",
      "\tSpanish: 4745.947999999998\n",
      "\n"
     ]
    },
    {
     "name": "stderr",
     "output_type": "stream",
     "text": [
      "\n"
     ]
    }
   ],
   "source": [
    "# Inspect the training data to find the size of each training language\n",
    "num_files, minutes = trainkalaka.get_metrics_per_language()\n",
    "\n",
    "print(\"Number of files per language:\\n\\tBasque: {}\\n\\tCatalan: {}\\n\\tEnglish: {}\\n\\tGalician: {}\\n\\tPortuguese: {}\\n\\tSpanish: {}\\n\"\\\n",
    "    .format(num_files['Basque'], num_files['Catalan'], num_files['English'], num_files['Galician'], num_files['Portuguese'], num_files['Spanish']))\n",
    "print(\"Minutes per language:\\n\\tBasque: {}\\n\\tCatalan: {}\\n\\tEnglish: {}\\n\\tGalician: {}\\n\\tPortuguese: {}\\n\\tSpanish: {}\\n\"\\\n",
    "    .format(minutes['Basque'], minutes['Catalan'], minutes['English'], minutes['Galician'], minutes['Portuguese'], minutes['Spanish']))\n",
    "\n",
    "#raise CheckThisCell ## <---- Remove this after completeing/checking this cell"
   ]
  },
  {
   "attachments": {},
   "cell_type": "markdown",
   "metadata": {},
   "source": [
    "Notice that the `Kalaka` class extends the `torch.utils.data.Dataset` and it can be used in combination with a Pytorch DataLoader to read data in batches:"
   ]
  },
  {
   "cell_type": "code",
   "execution_count": 8,
   "metadata": {},
   "outputs": [
    {
     "name": "stderr",
     "output_type": "stream",
     "text": [
      "/Users/duartealmeida/PF/Spoken-Language-Processing/lab02/pf_tools.py:91: UserWarning: The feature directory already exists, and no new feature extraction will be performed.\n",
      "  warnings.warn(\"The feature directory already exists, and no new feature extraction will be performed.\")\n"
     ]
    },
    {
     "name": "stdout",
     "output_type": "stream",
     "text": [
      "torch.Size([10, 40, 2]) torch.Size([10]) 10\n",
      "torch.Size([10, 40, 2]) torch.Size([10]) 10\n",
      "torch.Size([10, 40, 2]) torch.Size([10]) 10\n",
      "torch.Size([10, 40, 2]) torch.Size([10]) 10\n",
      "torch.Size([10, 40, 2]) torch.Size([10]) 10\n",
      "torch.Size([10, 40, 2]) torch.Size([10]) 10\n",
      "torch.Size([10, 40, 2]) torch.Size([10]) 10\n",
      "torch.Size([10, 40, 2]) torch.Size([10]) 10\n",
      "torch.Size([10, 40, 2]) torch.Size([10]) 10\n",
      "torch.Size([10, 40, 2]) torch.Size([10]) 10\n",
      "torch.Size([10, 40, 2]) torch.Size([10]) 10\n",
      "torch.Size([10, 40, 2]) torch.Size([10]) 10\n",
      "torch.Size([10, 40, 2]) torch.Size([10]) 10\n",
      "torch.Size([10, 40, 2]) torch.Size([10]) 10\n",
      "Finished reading all data in 4.791247844696045\n"
     ]
    }
   ],
   "source": [
    "import torch \n",
    "\n",
    "trainkalaka = Kalaka(CWD, 'train100', \n",
    "                     transform_id='chunks_mv', \n",
    "                     audio_transform=audio_transform, \n",
    "                     chunk_size=4*16000, \n",
    "                     chunk_hop=2*16000, \n",
    "                     chunk_transform=chunk_transform)\n",
    "\n",
    "dataloader = torch.utils.data.DataLoader(\n",
    "        dataset=trainkalaka,\n",
    "        batch_size=10,\n",
    "        shuffle=True\n",
    ")\n",
    "\n",
    "start = time.time()\n",
    "for i, batch in enumerate(dataloader):\n",
    "    data, label, basename = batch\n",
    "    if i % 100 == 0:\n",
    "        print(data.shape, label.shape, len(basename))\n",
    "\n",
    "print(f'Finished reading all data in {time.time() - start}')\n"
   ]
  },
  {
   "attachments": {},
   "cell_type": "markdown",
   "metadata": {},
   "source": [
    "Finally, remind that you can change anything you want. This includes the Kalaka class. Eventually, you can decide not using it at all and loading the data in some alternative way.  You can inspect the class to find the URLs for downloading the datasets. It is up to you! \n",
    "\n",
    "Before moving to the next stage, you probably want to delete the folders containing the dummy features that you just generated."
   ]
  },
  {
   "attachments": {},
   "cell_type": "markdown",
   "metadata": {},
   "source": [
    "# PART 1 - The baseline (Track 1)\n",
    "The baseline consists of MFCC feature extraction  (based on the `librosa` module) with SDC computation and VAD removal, followed by GMMs of 64 dimensions for each language (using the `sklearn` module). The rest of this notebook contains the guide and code cells (some of them partially incomplete) that permit implementing this baseline and score it on the development set. Read carefully the Markdown information, but also the comments inside the code cells (they provide useful information and hints), and also the code itself. The better you understand it, the easier will be modyfing it."
   ]
  },
  {
   "attachments": {},
   "cell_type": "markdown",
   "metadata": {},
   "source": [
    "## Initialization and importing modules"
   ]
  },
  {
   "cell_type": "code",
   "execution_count": 3,
   "metadata": {},
   "outputs": [],
   "source": [
    "import os\n",
    "from pf_tools import Kalaka\n",
    "import librosa\n",
    "import numpy as np\n",
    "import torch\n",
    "from sklearn.mixture import GaussianMixture\n",
    "from sklearn.neural_network import MLPClassifier, MLPRegressor\n",
    "from sklearn.svm import SVC\n",
    "from sklearn.decomposition import PCA\n",
    "from sklearn.cluster import KMeans\n",
    "from sklearn.metrics import classification_report, accuracy_score, confusion_matrix\n",
    "import matplotlib.pyplot as plt\n",
    "\n",
    "import time\n",
    "import random\n",
    "import datetime\n",
    "from pathlib import Path\n",
    "import pickle\n",
    "import csv \n",
    "from tqdm import tqdm\n",
    "\n",
    "from nn import FeedforwardNetwork, ClassificationDataset\n",
    "import torch.optim as optim\n",
    "import torch.nn as nn\n",
    "\n",
    "# from parselmouth import praat\n",
    "\n",
    "GLOBAL_SEED = 35731\n",
    "\n",
    "np.random.seed(GLOBAL_SEED)\n",
    "torch.manual_seed(GLOBAL_SEED)\n",
    "random.seed(GLOBAL_SEED)\n",
    "\n",
    "\n",
    "LANGUAGES = ('Basque',  'Catalan',  'English',  'Galician',  'Portuguese',  'Spanish')\n",
    "LANG2ID = {'Basque':1, 'Catalan':2, 'English':3, 'Galician':4, 'Portuguese':5, 'Spanish':6}\n",
    "ID2LANG = dict((LANG2ID[k],k)for k in LANG2ID)"
   ]
  },
  {
   "attachments": {},
   "cell_type": "markdown",
   "metadata": {},
   "source": [
    "## The baseline feature extraction module\n",
    "The next function extracts MFCCs, but there are plenty of things that can be improved. You are free to change anything you want, including the number of formal parameters, the number of returned expressions, etc. "
   ]
  },
  {
   "cell_type": "code",
   "execution_count": 18,
   "metadata": {},
   "outputs": [],
   "source": [
    "import math\n",
    "# Read carefully this function and understand it\n",
    "def feat_extract(filename, orig_sr=16000, mono=True, n_mfcc = 13, remove_c0=False, delta_order=0, apply_sdc=False, apply_vad=False, apply_cmvn=False,\n",
    "                 num_formants = 0, cluster_order = 0):\n",
    "    \n",
    "    sr=16000\n",
    "    n_mels = 40\n",
    "    n_fft = 512 \n",
    "    hop_length = 160\n",
    "    fmin = 50\n",
    "    fmax = 7800\n",
    "    \n",
    "    if apply_sdc and (delta_order > 0):\n",
    "        raise ValueError(\"Applying SDC and delta > 0 is not compatible\")\n",
    "\n",
    "    # Load audio wav into numpy array\n",
    "    y, _ = librosa.load(filename, sr=orig_sr, mono=mono)\n",
    "    \n",
    "    # Resample in case it's needed\n",
    "    if orig_sr != sr:\n",
    "        y = librosa.resample(y, orig_sr=orig_sr,target_sr=sr)\n",
    "\n",
    "    ## OPTIONAL ADDIDITIONAL STAGES - LAB WORK\n",
    "    # 1 - PREPROCESSING - Typical preprocessing may include normalization of audio (mean removal), \n",
    "    #                       but also speech enhancement and others more complex\n",
    "\n",
    "    # Extract MFFCs\n",
    "    mfcc = librosa.feature.mfcc(y=y, sr=sr, n_fft=n_fft, \n",
    "                                n_mfcc=n_mfcc, n_mels=n_mels, \n",
    "                                hop_length=hop_length, \n",
    "                                fmin=fmin, fmax=fmax, htk=False).T\n",
    "    \n",
    "    # print(\"After MFCC:\")\n",
    "    # print(\"T: \", mfcc.shape[0])\n",
    "    # print(\"D: \", mfcc.shape[1])\n",
    "    \n",
    "    ## OPTIONAL ADDIDITIONAL STAGES - LAB WORK\n",
    "\n",
    "    # 2 Compute deltas --> Hint you can use librosa (order size may be a parameter?)\n",
    "    if delta_order > 0:\n",
    "        mfcc = compute_delta(mfcc)\n",
    "        \n",
    "    # print(\"After DELTAS:\")\n",
    "    # print(\"T: \", mfcc.shape[0])\n",
    "    # print(\"D: \", mfcc.shape[1])\n",
    "    \n",
    "    # 3 SDC --> Hint: You can build this using deltas (of extented context)  \n",
    "    if apply_sdc:\n",
    "        mfcc = compute_sdc(mfcc)\n",
    "    \n",
    "    # print(\"After SDC:\")\n",
    "    # print(\"T: \", mfcc.shape[0])\n",
    "    # print(\"D: \", mfcc.shape[1])\n",
    "    \n",
    "    # Compute formants\n",
    "    if num_formants > 0:\n",
    "        sound = parselmouth.Sound(filename)\n",
    "        formants = praat.call(sound, \"To Formant (burg)\", (hop_length / sr), num_formants, 5500, (n_fft / sr), 50)\n",
    "        all_formants = np.zeros((len(mfcc), num_formants))\n",
    "        for i in range(len(mfcc)):\n",
    "            t = i * (hop_length / sr)\n",
    "            for j in range(num_formants):\n",
    "                all_formants[i, j] = praat.call(formants, \"Get value at time\", j + 1, t, \"Hertz\", \"Linear\")\n",
    "        mfcc = np.concatenate((mfcc, all_formants), axis = 1)\n",
    "        mfcc = np.nan_to_num(mfcc)\n",
    "        \n",
    "    \n",
    "    # 4 COMPUTE VAD --> Hint: You can use any vad (theshold energy, something avaialble in the net, a biGaussian model...).\n",
    "    #                         Coeff0 is highly related with Energy and sometimes it is removed\n",
    "    #                   ATTENTION: Using a VAD may have a significant impact  \n",
    "    if apply_vad:\n",
    "        energy = librosa.feature.rms(y = y, hop_length = hop_length)\n",
    "        mfcc, vad = compute_vad(mfcc, energy = librosa.feature.rms(y = y, hop_length = hop_length).reshape(-1, 1))\n",
    "        mfcc = mfcc[:, 1:]\n",
    "    \n",
    "    # print(\"After VAD:\")\n",
    "    # print(\"T: \", mfcc.shape[0])\n",
    "    # print(\"D: \", mfcc.shape[1])\n",
    "             \n",
    "    # 5 APPLY CMVN --> ATTENTION: Using normalization may have a significant impact\n",
    "    if apply_cmvn:\n",
    "        mfcc = compute_cmvn(mfcc)\n",
    "    \n",
    "    # print(\"After CMVN:\")\n",
    "    # print(\"T: \", mfcc.shape[0])\n",
    "    # print(\"D: \", mfcc.shape[1])\n",
    "    \n",
    "    if cluster_order > 0:\n",
    "        mfcc = KMeans(cluster_order).fit(mfcc).cluster_centers_\n",
    "    #print(mfcc)\n",
    "        \n",
    "    return mfcc, y\n"
   ]
  },
  {
   "attachments": {},
   "cell_type": "markdown",
   "metadata": {},
   "source": [
    "Try to define some or all of the following steps to improve your feature extraction pipeline "
   ]
  },
  {
   "cell_type": "code",
   "execution_count": 19,
   "metadata": {},
   "outputs": [],
   "source": [
    "# Numpy arrays have methods to compute mean and variance, so this one should be really easy\n",
    "def compute_cmvn(features):\n",
    "    # subtract the mean and divide by the variance along each column\n",
    "    if (features.shape[0] == 0):\n",
    "        return features\n",
    "    else:\n",
    "        stddev = np.std(features, axis = 0)\n",
    "        stddev[stddev == 0] = 1\n",
    "        return (features - np.mean(features, axis = 0)) / stddev\n"
   ]
  },
  {
   "cell_type": "code",
   "execution_count": 20,
   "metadata": {},
   "outputs": [],
   "source": [
    "# librosa contains functions to compute deltas\n",
    "def compute_delta(features, win=3, delta_order=2, keep_static=True):\n",
    "    deltas = librosa.feature.delta(features, width = win, order = 1)\n",
    "    for i in range(1, delta_order):\n",
    "        new_delta = librosa.feature.delta(features, width = win, order = i + 1)\n",
    "        deltas = np.concatenate((deltas, new_delta), axis = 1)\n",
    "    if keep_static:\n",
    "        return np.concatenate((features, deltas), axis = 1)\n",
    "    else:\n",
    "        return deltas"
   ]
  },
  {
   "cell_type": "code",
   "execution_count": 21,
   "metadata": {},
   "outputs": [],
   "source": [
    "# Compute deltas and then select previous and next deltas with fixed intervals to cocatentate. \n",
    "# You may need to code a bit here or dinf some function that helps with this\n",
    "def compute_sdc(features, P=3, D=1, K=7, keep_static=True):\n",
    "    N = len(features)\n",
    "    \n",
    "    # need to pad with D zeros before and after (to allow order-1 delta at all vectors)\n",
    "    # need to pad with (K - 1) * P zeros at the end so that the last vector can have the other K - 1 deltas\n",
    "    features_pad = np.pad(features, ((D, D + ((K - 1) * P)), (0, 0)), mode = \"edge\")\n",
    "    \n",
    "    # NOTE: librosa does not allow deltas at a window smaller than 3\n",
    "    deltas = features_pad[2 * D:] - features_pad[0 : -2 * D]\n",
    "    sdc = deltas[:N]\n",
    "    # append the delta vector at distace k * P (k = 1, ..., K - 1)\n",
    "    for k in range(1, K):\n",
    "        sdc = np.concatenate((sdc, deltas[k * P: k * P + N]), axis = 1)\n",
    "        \n",
    "    if keep_static:\n",
    "        return np.concatenate((features, sdc), axis = 1)\n",
    "    else:\n",
    "        return sdc\n"
   ]
  },
  {
   "cell_type": "code",
   "execution_count": 22,
   "metadata": {},
   "outputs": [],
   "source": [
    "# You can think of several strattegies to compute VAD, simple ones based on energy and a threshold, or maybe some more \n",
    "# ellaborated ones, like training a GMM with 2 mixtures with the Energy. \n",
    "# In addition to the features without some frames, this function may return a sequence of 0s and 1s that helps you to validate the method.\n",
    "def compute_vad(features, energy, y=None):\n",
    "    gm = GaussianMixture(n_components = 2, random_state = GLOBAL_SEED).fit(energy)\n",
    "    voiced = np.argmax(gm.means_)\n",
    "    vad = gm.fit_predict(energy)\n",
    "    voiced_features = features[vad == voiced]\n",
    "    return voiced_features, vad"
   ]
  },
  {
   "attachments": {},
   "cell_type": "markdown",
   "metadata": {},
   "source": [
    "You can test in an isolated audio file and inspect the dimensions, verify that your code is doing what is expected, inspect and visualize the data using some of the lessons learnt in LAB1. Also, don't forget to listen some of the examples!!"
   ]
  },
  {
   "cell_type": "code",
   "execution_count": 15,
   "metadata": {},
   "outputs": [],
   "source": [
    "print(\"ONLY MFCC\")\n",
    "mfcc_sdc, _ = feat_extract('sample.wav')\n",
    "print(\"DELTA MFCC\")\n",
    "mfcc_sdc, _ = feat_extract('sample.wav', delta_order=2)\n",
    "print(\"SDC MFCC\")\n",
    "mfcc_sdc, _ = feat_extract('sample.wav', apply_sdc=True)\n",
    "print(\"VAD MFCC\")\n",
    "mfcc_sdc, _ = feat_extract('sample.wav', apply_vad=True)\n",
    "print(\"CMVN MFCC\")\n",
    "mfcc_sdc, _ = feat_extract('sample.wav', apply_cmvn=True)\n",
    "print(\"SDC, VAD, CMVN\")\n",
    "mfcc_sdc = feat_extract('sample.wav', apply_sdc=True, apply_vad=True, apply_cmvn=True)"
   ]
  },
  {
   "attachments": {},
   "cell_type": "markdown",
   "metadata": {},
   "source": [
    "To run the data processing stage for the train100 partition we will simply instanciate the Kalaka class as mentioned previosly. Take a sit because it can take a bit:"
   ]
  },
  {
   "cell_type": "code",
   "execution_count": 23,
   "metadata": {},
   "outputs": [
    {
     "name": "stderr",
     "output_type": "stream",
     "text": [
      "/Users/leonorbarreiros/Desktop/P4/PF/Spoken-Language-Processing/lab02/pf_tools.py:91: UserWarning: The feature directory already exists, and no new feature extraction will be performed.\n",
      "  warnings.warn(\"The feature directory already exists, and no new feature extraction will be performed.\")\n"
     ]
    }
   ],
   "source": [
    "sr = 16000\n",
    "sec = 8\n",
    "hop_length = 160\n",
    "vectors_4_sec = int((sr * sec) // hop_length)\n",
    "\n",
    "transform = { 'mfcc_sdc_vad_chunk_300_300' : \n",
    "                 { \n",
    "                     'audio_transform': lambda x : feat_extract(x, orig_sr=16000, mono=True, n_mfcc = 7, apply_sdc=True, apply_vad=True, apply_cmvn=True)[0],\n",
    "                     'chunk_transform': None,\n",
    "                     'chunk_size': 300,\n",
    "                     'chunk_hop':300\n",
    "                 },\n",
    "                 'mfcc13' : \n",
    "                 { \n",
    "                     'audio_transform': lambda x : feat_extract(x, orig_sr=16000, mono=True, n_mfcc = 13, apply_sdc=False, apply_vad=False, apply_cmvn=True)[0],\n",
    "                     'chunk_transform': None,\n",
    "                     'chunk_size': 300,\n",
    "                     'chunk_hop':300\n",
    "                 },\n",
    "                 'mfcc7' : \n",
    "                 { \n",
    "                     'audio_transform': lambda x: feat_extract(x, orig_sr=16000, mono=True, n_mfcc = 7, apply_sdc = False, apply_vad = True, apply_cmvn = True)[0],\n",
    "                     'chunk_transform': None,\n",
    "                     'chunk_size': vectors_4_sec,\n",
    "                     'chunk_hop': vectors_4_sec\n",
    "                 },\n",
    "                 'mfcc7_delta_deltadelta' : \n",
    "                 { \n",
    "                     'audio_transform': lambda x: feat_extract(x, orig_sr=16000, mono=True, n_mfcc = 7, apply_sdc = False, delta_order = 2, apply_vad = True, apply_cmvn = True)[0],\n",
    "                     'chunk_transform': None,\n",
    "                     'chunk_size': vectors_4_sec,\n",
    "                     'chunk_hop': vectors_4_sec\n",
    "                 },\n",
    "                 'mfcc4_formants5_cluster' : \n",
    "                 { \n",
    "                     'audio_transform': lambda x: feat_extract(x, orig_sr=16000, mono=True, n_mfcc = 4, apply_sdc = False, apply_vad = True, apply_cmvn = True, num_formants = 5)[0],\n",
    "                     'chunk_transform': None,\n",
    "                     'chunk_size': 300, \n",
    "                     'chunk_hop': 300, \n",
    "                 },\n",
    "            }\n",
    "\n",
    "\n",
    "trainset = 'train100'\n",
    "transform_id = 'mfcc_sdc_vad_chunk_300_300'\n",
    "\n",
    "trainkalaka = Kalaka(CWD, trainset, \n",
    "                 transform_id=transform_id, \n",
    "                 audio_transform=transform[transform_id]['audio_transform'], \n",
    "                 chunk_transform=transform[transform_id]['chunk_transform'],\n",
    "                 chunk_size=transform[transform_id]['chunk_size'], \n",
    "                 chunk_hop=transform[transform_id]['chunk_hop']\n",
    "                )\n"
   ]
  },
  {
   "cell_type": "raw",
   "metadata": {},
   "source": [
    "Check your current folder, many things happened!! \n",
    "\n",
    "Notice that if you instanciate again the Kalaka class for the 'train100' partition, the data will not be downloaded again. \n",
    "Additionally, if there is already a folder with the name `transform_id`, feature extraction will not run again. You need to delete from your filesystem the folder with the features if you want to run again the feature extraction (using the same identifier) or , alternatively, you can change the identifier. Be careful because you can easily increase the amount of data generated. If you try a feature extraction method that provides bad results, you probably don't want to keep the features in disk."
   ]
  },
  {
   "attachments": {},
   "cell_type": "markdown",
   "metadata": {},
   "source": [
    "## The baseline spoken language models\n",
    "The baseline model is extremely simple: we'll train an individual GMM model for each language on top of the features that we just extracted. Later, in prediction time, given a test audio sample, we'll compute the loglikelihood obtained with each GMM model and select as the identified language the one whose model gives the highest likelihood. Let's go for it!!\n"
   ]
  },
  {
   "cell_type": "code",
   "execution_count": 24,
   "metadata": {},
   "outputs": [
    {
     "name": "stdout",
     "output_type": "stream",
     "text": [
      "Finished reading all data in 1.8277580738067627\n"
     ]
    }
   ],
   "source": [
    "# IN GMM training each training sample contains more than one frame;\n",
    "# so we cocatenate all data to have all training datain one array \n",
    "# and the corresponding label with same time duration\n",
    "# actually, here the chunking process is useless, \n",
    "#I could have obtained the same without chunking (with slight differences due to trunkation)\n",
    "\n",
    "start = time.time()\n",
    "train_data = []\n",
    "train_labels = []\n",
    "dict_languages = {}\n",
    "for data, label, basename in trainkalaka:\n",
    "    train_data.append(data)\n",
    "    train_labels.append(np.full(data.shape[0], label)) \n",
    "\n",
    "train_data = np.concatenate(train_data)\n",
    "train_labels = np.concatenate(train_labels)\n",
    "\n",
    "print(f'Finished reading all data in {time.time() - start}')"
   ]
  },
  {
   "attachments": {},
   "cell_type": "markdown",
   "metadata": {},
   "source": [
    "Now we have two arrays containing the complete training dataset and the corresponging reference labels. Check the sizes, may be have a look to the content of one time instant. Do some checks on the data to be sure that everything is as expected:"
   ]
  },
  {
   "cell_type": "code",
   "execution_count": 38,
   "metadata": {},
   "outputs": [
    {
     "name": "stdout",
     "output_type": "stream",
     "text": [
      "Training data size (frames) after feature extraction: 1750659\n"
     ]
    },
    {
     "name": "stderr",
     "output_type": "stream",
     "text": [
      "/Users/leonorbarreiros/Desktop/P4/PF/Spoken-Language-Processing/lab02/pf_tools.py:91: UserWarning: The feature directory already exists, and no new feature extraction will be performed.\n",
      "  warnings.warn(\"The feature directory already exists, and no new feature extraction will be performed.\")\n"
     ]
    },
    {
     "name": "stdout",
     "output_type": "stream",
     "text": [
      "Training data size (frames) before feature extraction: 468138341\n"
     ]
    }
   ],
   "source": [
    "# Check the traininig data. Notice that if you apply VAD, the size of the training data must be smaller than the complete data set. \n",
    "# Register the size in frames and in time of training data for each language\n",
    "print(f'Training data size (frames) after feature extraction: {train_data.shape[0]}')\n",
    "\n",
    "def audio_transform(filename):\n",
    "    y, _ = librosa.load(filename, sr=16000, mono=True)\n",
    "    return y.reshape(-1,1)\n",
    "\n",
    "aux_kalaka = Kalaka(CWD, 'train100', transform_id='raw', audio_transform=audio_transform)\n",
    "aux = []\n",
    "for data, label, basename in aux_kalaka:\n",
    "    aux.append(data)\n",
    "\n",
    "aux = np.concatenate(aux)\n",
    "\n",
    "print(f'Training data size (frames) before feature extraction: {aux.shape[0]}')\n",
    "\n",
    "assert(aux.shape[0] > train_data.shape[0])"
   ]
  },
  {
   "attachments": {},
   "cell_type": "markdown",
   "metadata": {},
   "source": [
    "Let's go training. Again, depending of the amount of data used, the model complexity and computational resources of the machine that you're using, this can take a while. So, relax while the computer works for you!"
   ]
  },
  {
   "cell_type": "code",
   "execution_count": 13,
   "metadata": {},
   "outputs": [],
   "source": [
    "# TRAIN UBM\n",
    "train_ubm = 0\n",
    "\n",
    "if train_ubm:\n",
    "    n_gauss = 64\n",
    "    ubm = GaussianMixture(\n",
    "                n_components=n_gauss, \n",
    "                covariance_type='diag', \n",
    "                max_iter=20, n_init=1, \n",
    "                init_params='kmeans', \n",
    "                verbose=2, \n",
    "                verbose_interval=1)\n",
    "    ubm.fit(train_data)\n"
   ]
  },
  {
   "cell_type": "code",
   "execution_count": 15,
   "metadata": {},
   "outputs": [
    {
     "name": "stdout",
     "output_type": "stream",
     "text": [
      "Training model for Basque\n",
      "Initialization 0\n",
      "  Iteration 1\t time lapse 54.15162s\t ll change inf\n",
      "  Iteration 2\t time lapse 8.25729s\t ll change 0.51271\n",
      "  Iteration 3\t time lapse 7.02597s\t ll change 0.25797\n",
      "  Iteration 4\t time lapse 7.08793s\t ll change 0.15030\n",
      "  Iteration 5\t time lapse 8.20545s\t ll change 0.09637\n",
      "  Iteration 6\t time lapse 6.71543s\t ll change 0.06705\n",
      "  Iteration 7\t time lapse 6.85406s\t ll change 0.04885\n",
      "  Iteration 8\t time lapse 6.88202s\t ll change 0.03682\n",
      "  Iteration 9\t time lapse 6.77681s\t ll change 0.02857\n",
      "  Iteration 10\t time lapse 6.93975s\t ll change 0.02284\n",
      "  Iteration 11\t time lapse 7.73295s\t ll change 0.01879\n",
      "  Iteration 12\t time lapse 6.69661s\t ll change 0.01589\n",
      "  Iteration 13\t time lapse 6.70995s\t ll change 0.01375\n",
      "  Iteration 14\t time lapse 6.60774s\t ll change 0.01202\n",
      "  Iteration 15\t time lapse 6.70496s\t ll change 0.01055\n",
      "  Iteration 16\t time lapse 6.63422s\t ll change 0.00932\n",
      "  Iteration 17\t time lapse 6.73956s\t ll change 0.00831\n",
      "  Iteration 18\t time lapse 6.64425s\t ll change 0.00749\n",
      "  Iteration 19\t time lapse 6.71267s\t ll change 0.00680\n",
      "  Iteration 20\t time lapse 6.73496s\t ll change 0.00621\n",
      "Initialization converged: False\t time lapse 186.81432s\t ll -69.31089\n"
     ]
    },
    {
     "name": "stderr",
     "output_type": "stream",
     "text": [
      "/Users/leonorbarreiros/miniconda3/envs/PF/lib/python3.9/site-packages/sklearn/mixture/_base.py:274: ConvergenceWarning: Initialization 1 did not converge. Try different init parameters, or increase max_iter, tol or check for degenerate data.\n",
      "  warnings.warn(\n"
     ]
    },
    {
     "name": "stdout",
     "output_type": "stream",
     "text": [
      "Training model for Catalan\n",
      "Initialization 0\n",
      "  Iteration 1\t time lapse 51.42951s\t ll change inf\n",
      "  Iteration 2\t time lapse 11.36651s\t ll change 0.45375\n",
      "  Iteration 3\t time lapse 8.56262s\t ll change 0.22219\n",
      "  Iteration 4\t time lapse 8.46616s\t ll change 0.12877\n",
      "  Iteration 5\t time lapse 8.53300s\t ll change 0.08239\n",
      "  Iteration 6\t time lapse 8.50620s\t ll change 0.05805\n",
      "  Iteration 7\t time lapse 8.51809s\t ll change 0.04278\n",
      "  Iteration 8\t time lapse 8.47630s\t ll change 0.03281\n",
      "  Iteration 9\t time lapse 8.53041s\t ll change 0.02632\n",
      "  Iteration 10\t time lapse 9.87052s\t ll change 0.02181\n",
      "  Iteration 11\t time lapse 8.47427s\t ll change 0.01843\n",
      "  Iteration 12\t time lapse 8.75084s\t ll change 0.01582\n",
      "  Iteration 13\t time lapse 10.59945s\t ll change 0.01365\n",
      "  Iteration 14\t time lapse 12.43433s\t ll change 0.01177\n",
      "  Iteration 15\t time lapse 8.79926s\t ll change 0.01015\n",
      "  Iteration 16\t time lapse 8.65853s\t ll change 0.00877\n",
      "  Iteration 17\t time lapse 8.73940s\t ll change 0.00763\n",
      "  Iteration 18\t time lapse 8.83396s\t ll change 0.00673\n",
      "  Iteration 19\t time lapse 8.71578s\t ll change 0.00603\n",
      "  Iteration 20\t time lapse 8.69606s\t ll change 0.00546\n",
      "Initialization converged: False\t time lapse 224.96132s\t ll -69.88287\n"
     ]
    },
    {
     "name": "stderr",
     "output_type": "stream",
     "text": [
      "/Users/leonorbarreiros/miniconda3/envs/PF/lib/python3.9/site-packages/sklearn/mixture/_base.py:274: ConvergenceWarning: Initialization 1 did not converge. Try different init parameters, or increase max_iter, tol or check for degenerate data.\n",
      "  warnings.warn(\n"
     ]
    },
    {
     "name": "stdout",
     "output_type": "stream",
     "text": [
      "Training model for English\n",
      "Initialization 0\n",
      "  Iteration 1\t time lapse 45.16045s\t ll change inf\n",
      "  Iteration 2\t time lapse 7.09788s\t ll change 0.51594\n",
      "  Iteration 3\t time lapse 7.07476s\t ll change 0.23059\n",
      "  Iteration 4\t time lapse 7.08728s\t ll change 0.13921\n",
      "  Iteration 5\t time lapse 7.08336s\t ll change 0.09506\n",
      "  Iteration 6\t time lapse 7.12399s\t ll change 0.06837\n",
      "  Iteration 7\t time lapse 7.07612s\t ll change 0.05094\n",
      "  Iteration 8\t time lapse 7.08432s\t ll change 0.03904\n",
      "  Iteration 9\t time lapse 7.00248s\t ll change 0.03056\n",
      "  Iteration 10\t time lapse 7.00945s\t ll change 0.02450\n",
      "  Iteration 11\t time lapse 6.97823s\t ll change 0.02028\n",
      "  Iteration 12\t time lapse 7.01844s\t ll change 0.01738\n",
      "  Iteration 13\t time lapse 7.03534s\t ll change 0.01512\n",
      "  Iteration 14\t time lapse 9.15793s\t ll change 0.01317\n",
      "  Iteration 15\t time lapse 7.11389s\t ll change 0.01148\n",
      "  Iteration 16\t time lapse 7.05662s\t ll change 0.01008\n",
      "  Iteration 17\t time lapse 6.96284s\t ll change 0.00895\n",
      "  Iteration 18\t time lapse 6.97990s\t ll change 0.00798\n",
      "  Iteration 19\t time lapse 6.91914s\t ll change 0.00710\n",
      "  Iteration 20\t time lapse 6.90427s\t ll change 0.00635\n",
      "Initialization converged: False\t time lapse 180.92688s\t ll -69.22927\n"
     ]
    },
    {
     "name": "stderr",
     "output_type": "stream",
     "text": [
      "/Users/leonorbarreiros/miniconda3/envs/PF/lib/python3.9/site-packages/sklearn/mixture/_base.py:274: ConvergenceWarning: Initialization 1 did not converge. Try different init parameters, or increase max_iter, tol or check for degenerate data.\n",
      "  warnings.warn(\n"
     ]
    },
    {
     "name": "stdout",
     "output_type": "stream",
     "text": [
      "Training model for Galician\n",
      "Initialization 0\n",
      "  Iteration 1\t time lapse 43.12446s\t ll change inf\n",
      "  Iteration 2\t time lapse 6.86435s\t ll change 0.47487\n",
      "  Iteration 3\t time lapse 6.72798s\t ll change 0.24684\n",
      "  Iteration 4\t time lapse 6.78568s\t ll change 0.17141\n",
      "  Iteration 5\t time lapse 6.97165s\t ll change 0.09505\n",
      "  Iteration 6\t time lapse 6.64102s\t ll change 0.05938\n",
      "  Iteration 7\t time lapse 6.70676s\t ll change 0.04357\n",
      "  Iteration 8\t time lapse 6.70115s\t ll change 0.03404\n",
      "  Iteration 9\t time lapse 6.66423s\t ll change 0.02733\n",
      "  Iteration 10\t time lapse 6.71246s\t ll change 0.02238\n",
      "  Iteration 11\t time lapse 6.68178s\t ll change 0.01869\n",
      "  Iteration 12\t time lapse 7.01346s\t ll change 0.01592\n",
      "  Iteration 13\t time lapse 8.99492s\t ll change 0.01387\n",
      "  Iteration 14\t time lapse 7.03049s\t ll change 0.01226\n",
      "  Iteration 15\t time lapse 6.87850s\t ll change 0.01081\n",
      "  Iteration 16\t time lapse 9.09047s\t ll change 0.00948\n",
      "  Iteration 17\t time lapse 6.72645s\t ll change 0.00833\n",
      "  Iteration 18\t time lapse 6.56677s\t ll change 0.00739\n",
      "  Iteration 19\t time lapse 6.60780s\t ll change 0.00659\n",
      "  Iteration 20\t time lapse 6.57526s\t ll change 0.00590\n",
      "Initialization converged: False\t time lapse 176.06575s\t ll -69.66772\n"
     ]
    },
    {
     "name": "stderr",
     "output_type": "stream",
     "text": [
      "/Users/leonorbarreiros/miniconda3/envs/PF/lib/python3.9/site-packages/sklearn/mixture/_base.py:274: ConvergenceWarning: Initialization 1 did not converge. Try different init parameters, or increase max_iter, tol or check for degenerate data.\n",
      "  warnings.warn(\n"
     ]
    },
    {
     "name": "stdout",
     "output_type": "stream",
     "text": [
      "Training model for Portuguese\n",
      "Initialization 0\n",
      "  Iteration 1\t time lapse 32.72643s\t ll change inf\n",
      "  Iteration 2\t time lapse 5.85107s\t ll change 0.53949\n",
      "  Iteration 3\t time lapse 5.89309s\t ll change 0.25382\n",
      "  Iteration 4\t time lapse 5.86714s\t ll change 0.14520\n",
      "  Iteration 5\t time lapse 5.82811s\t ll change 0.09568\n",
      "  Iteration 6\t time lapse 5.87222s\t ll change 0.06895\n",
      "  Iteration 7\t time lapse 5.92005s\t ll change 0.05166\n",
      "  Iteration 8\t time lapse 5.84917s\t ll change 0.04008\n",
      "  Iteration 9\t time lapse 5.82499s\t ll change 0.03116\n",
      "  Iteration 10\t time lapse 5.94750s\t ll change 0.02414\n",
      "  Iteration 11\t time lapse 5.83220s\t ll change 0.01917\n",
      "  Iteration 12\t time lapse 5.81251s\t ll change 0.01588\n",
      "  Iteration 13\t time lapse 5.83950s\t ll change 0.01365\n",
      "  Iteration 14\t time lapse 5.81701s\t ll change 0.01209\n",
      "  Iteration 15\t time lapse 5.86468s\t ll change 0.01095\n",
      "  Iteration 16\t time lapse 5.82697s\t ll change 0.00992\n",
      "  Iteration 17\t time lapse 5.92771s\t ll change 0.00882\n",
      "  Iteration 18\t time lapse 5.81919s\t ll change 0.00771\n",
      "  Iteration 19\t time lapse 5.82538s\t ll change 0.00675\n",
      "  Iteration 20\t time lapse 5.86170s\t ll change 0.00597\n",
      "Initialization converged: False\t time lapse 144.00675s\t ll -69.94005\n"
     ]
    },
    {
     "name": "stderr",
     "output_type": "stream",
     "text": [
      "/Users/leonorbarreiros/miniconda3/envs/PF/lib/python3.9/site-packages/sklearn/mixture/_base.py:274: ConvergenceWarning: Initialization 1 did not converge. Try different init parameters, or increase max_iter, tol or check for degenerate data.\n",
      "  warnings.warn(\n"
     ]
    },
    {
     "name": "stdout",
     "output_type": "stream",
     "text": [
      "Training model for Spanish\n",
      "Initialization 0\n",
      "  Iteration 1\t time lapse 46.01222s\t ll change inf\n",
      "  Iteration 2\t time lapse 9.53526s\t ll change 0.40750\n",
      "  Iteration 3\t time lapse 7.73160s\t ll change 0.20433\n",
      "  Iteration 4\t time lapse 7.65048s\t ll change 0.13831\n",
      "  Iteration 5\t time lapse 7.57882s\t ll change 0.08970\n",
      "  Iteration 6\t time lapse 7.66462s\t ll change 0.05842\n",
      "  Iteration 7\t time lapse 7.74766s\t ll change 0.04182\n",
      "  Iteration 8\t time lapse 7.62302s\t ll change 0.03209\n",
      "  Iteration 9\t time lapse 7.65884s\t ll change 0.02561\n",
      "  Iteration 10\t time lapse 7.76141s\t ll change 0.02097\n",
      "  Iteration 11\t time lapse 8.62557s\t ll change 0.01745\n",
      "  Iteration 12\t time lapse 7.49709s\t ll change 0.01477\n",
      "  Iteration 13\t time lapse 7.62220s\t ll change 0.01269\n",
      "  Iteration 14\t time lapse 8.82013s\t ll change 0.01103\n",
      "  Iteration 15\t time lapse 7.59911s\t ll change 0.00969\n",
      "  Iteration 16\t time lapse 7.60276s\t ll change 0.00860\n",
      "  Iteration 17\t time lapse 7.64533s\t ll change 0.00773\n",
      "  Iteration 18\t time lapse 7.63690s\t ll change 0.00701\n",
      "  Iteration 19\t time lapse 7.57372s\t ll change 0.00639\n",
      "  Iteration 20\t time lapse 7.57337s\t ll change 0.00585\n",
      "Initialization converged: False\t time lapse 195.16024s\t ll -70.27833\n"
     ]
    },
    {
     "name": "stderr",
     "output_type": "stream",
     "text": [
      "/Users/leonorbarreiros/miniconda3/envs/PF/lib/python3.9/site-packages/sklearn/mixture/_base.py:274: ConvergenceWarning: Initialization 1 did not converge. Try different init parameters, or increase max_iter, tol or check for degenerate data.\n",
      "  warnings.warn(\n"
     ]
    }
   ],
   "source": [
    "from sklearn.base import clone\n",
    "from copy import deepcopy\n",
    "from scipy.stats import multivariate_normal\n",
    "\n",
    "if train_ubm:\n",
    "    # PERFORM MAP ADAPTATION\n",
    "    models = {}\n",
    "    weights = ubm.weights_\n",
    "    means = ubm.means_\n",
    "    covariances = ubm.covariances_\n",
    "    for lang in LANGUAGES:\n",
    "        print(f\"Training model for {lang}\")\n",
    "        data_lang = train_data[train_labels == LANG2ID[lang], :]\n",
    "        component_probs = np.zeros((data_lang.shape[0], n_gauss))\n",
    "        for i in range(n_gauss):\n",
    "            component_probs[:, i] = multivariate_normal.pdf(data_lang, mean=means[i], cov=np.diag(covariances[i]))\n",
    "\n",
    "        Pr_unnormalized = component_probs * weigths\n",
    "        Pr = Pr_unnormalized / np.sum(Pr_unnormalized, axis = 1).reshape(-1, 1)\n",
    "        n = np.sum(Pr, axis = 0).reshape(-1, 1)\n",
    "        E = (Pr.T @ data_lang) / n\n",
    "        E_sqr = (Pr.T @ (data_lang ** 2)) / n\n",
    "        alpha = n / (n + 128)\n",
    "        new_means = E * alpha + means * (1 - alpha)\n",
    "        new_covariances = E_sqr * alpha + (1 - alpha) * (covariances + (means ** 2)) - (new_means ** 2)\n",
    "        new_weights = alpha.flatten() * (n.flatten() / data_lang.shape[0]) + (1 - alpha.flatten()) * weights\n",
    "        new_weights = new_weights / np.sum(new_weights)\n",
    "\n",
    "        models[lang] = deepcopy(ubm)\n",
    "        models[lang].means_ = new_means\n",
    "        models[lang].covariances_ = new_covariances\n",
    "        models[lang].weights_ = new_weights\n",
    "else:\n",
    "    # TRAIN GMM models (ML) \n",
    "    models = {}\n",
    "    n_gauss = 256\n",
    "    for lang in LANGUAGES:\n",
    "        models[lang] = GaussianMixture(\n",
    "                            n_components=n_gauss, \n",
    "                            covariance_type='diag', \n",
    "                            max_iter=20, n_init=1, \n",
    "                            init_params='kmeans', \n",
    "                            verbose=2, \n",
    "                            verbose_interval=1)\n",
    "\n",
    "    for lang in LANGUAGES:\n",
    "        print(f'Training model for {lang}')\n",
    "        models[lang].fit(train_data[train_labels==LANG2ID[lang]])\n"
   ]
  },
  {
   "cell_type": "code",
   "execution_count": 16,
   "metadata": {},
   "outputs": [],
   "source": [
    "normalize = 0\n",
    "\n",
    "if normalize:\n",
    "    new_models = {lang: (models[lang],) for lang in LANGUAGES}\n",
    "    for lang in LANGUAGES:\n",
    "        print(f\"Evaluating mean and variance for {lang}\")\n",
    "        curr = new_models[lang][0]\n",
    "        impostor_scores = curr.score_samples(train_data)\n",
    "        new_models[lang] += (np.mean(impostor_scores), np.var(impostor_scores))\n",
    "\n",
    "\n"
   ]
  },
  {
   "attachments": {},
   "cell_type": "markdown",
   "metadata": {},
   "source": [
    "Once the models have been trained, we can store them in disk for later usage. Again, be careful and avoid storing versions of useless models. By default, the model is stored in a folder inside the data partition folder and contains the feature extraction in the name and the date."
   ]
  },
  {
   "cell_type": "code",
   "execution_count": 17,
   "metadata": {},
   "outputs": [],
   "source": [
    "# save models     \n",
    "now = str(datetime.datetime.now()).replace(' ','_').split('.')[0]\n",
    "path = Path(CWD) / trainset / 'models'\n",
    "if not os.path.isdir(path):\n",
    "    os.mkdir(path)\n",
    "filename = f'{path}/gmm_{transform_id}_{now}.model'\n",
    "pickle.dump(models, open(filename, 'wb'))"
   ]
  },
  {
   "attachments": {},
   "cell_type": "markdown",
   "metadata": {},
   "source": [
    "You can also check the `sklearn` documentation and inspect the models trained:"
   ]
  },
  {
   "cell_type": "code",
   "execution_count": 18,
   "metadata": {},
   "outputs": [
    {
     "data": {
      "text/plain": [
       "(256, 55)"
      ]
     },
     "execution_count": 18,
     "metadata": {},
     "output_type": "execute_result"
    }
   ],
   "source": [
    "models['Portuguese'].means_.shape"
   ]
  },
  {
   "attachments": {},
   "cell_type": "markdown",
   "metadata": {},
   "source": [
    "## Identification and generation of the predictions file\n",
    "\n",
    "Now that we  already have trained models, let's predict/identify language in new audio data and test our model!!! \n",
    "\n",
    "But first, we need to obtain the development partition and do the feature extraction more or less as previously (using the Kalaka class).\n",
    "\n",
    "**IMPORTANT WARNING** Make sure to use the exact same feature extraction process as the one used for the train set. Otherwise, your model will be in disagreement with your evaluation data, and very likely, will not work at all.\n"
   ]
  },
  {
   "cell_type": "code",
   "execution_count": 19,
   "metadata": {},
   "outputs": [
    {
     "name": "stderr",
     "output_type": "stream",
     "text": [
      "/Users/leonorbarreiros/Desktop/P4/PF/Spoken-Language-Processing/lab02/pf_tools.py:91: UserWarning: The feature directory already exists, and no new feature extraction will be performed.\n",
      "  warnings.warn(\"The feature directory already exists, and no new feature extraction will be performed.\")\n"
     ]
    }
   ],
   "source": [
    "# Download and feature extract\n",
    "transform_id = 'mfcc_sdc_vad_chunk_300_300'\n",
    "#transform_id = 'mfcc4_formants5_cluster'\n",
    "\n",
    "# Notice that the chunking is mostly useless both in training and prediction with GMMs: each frame is a sample for which we obtain the probs\n",
    "devkalaka = Kalaka(CWD,'dev', \n",
    "                 transform_id=transform_id, \n",
    "                 audio_transform=transform[transform_id]['audio_transform'], \n",
    "                 chunk_transform=transform[transform_id]['chunk_transform'],\n",
    "                 chunk_size=transform[transform_id]['chunk_size'], \n",
    "                 chunk_hop=transform[transform_id]['chunk_hop']\n",
    "                )"
   ]
  },
  {
   "attachments": {},
   "cell_type": "markdown",
   "metadata": {},
   "source": [
    "Now, we can iterate the data and use the models for scoring:"
   ]
  },
  {
   "cell_type": "code",
   "execution_count": 20,
   "metadata": {},
   "outputs": [
    {
     "name": "stdout",
     "output_type": "stream",
     "text": [
      "Finished reading all data in 2.001857042312622\n"
     ]
    }
   ],
   "source": [
    "start = time.time()\n",
    "dev_data = {}\n",
    "\n",
    "for data, label, basename in devkalaka:\n",
    "        if basename not in dev_data:\n",
    "                dev_data[basename] = {'data':[], 'label':label}\n",
    "        dev_data[basename]['data'].append(data)\n",
    "\n",
    "## We concatenate all the frames belonging to the same filename\n",
    "for basename in dev_data:\n",
    "        dev_data[basename]['data'] = np.concatenate(dev_data[basename]['data'])\n",
    "print(f'Finished reading all data in {time.time() - start}')\n"
   ]
  },
  {
   "cell_type": "code",
   "execution_count": null,
   "metadata": {},
   "outputs": [],
   "source": [
    "\n",
    "results_dev = {}\n",
    "results_dev['ref'] =  np.empty(len(dev_data),dtype=np.int32)\n",
    "results_dev['hyp'] =  np.empty(len(dev_data),dtype=np.int32)\n",
    "results_dev['llhs'] = np.empty((len(dev_data), len(LANGUAGES)), dtype=np.float64)\n",
    "results_dev['fileids'] = list()\n",
    "\n",
    "i = 0\n",
    "for i, fileid in tqdm(enumerate(sorted(dev_data)), total=len(dev_data)):\n",
    "    data = dev_data[fileid][\"data\"]\n",
    "    \n",
    "    results_dev['fileids'].append(fileid)     #fileid\n",
    "    \n",
    "    # obtain the log-likelihood score for each model and store\n",
    "    if data.shape[0] == 0:\n",
    "        data = np.zeros((1, 55))\n",
    "    \n",
    "    results_dev['llhs'][i,:] = np.array([models[lang].score(data) for lang in LANGUAGES]) \n",
    "    # store the reference. Notice that I only have this for the dev set, not for the eval\n",
    "    results_dev['ref'][i] = (dev_data[fileid]['label']) #referemce\n",
    "\n",
    "    # Obtain the maximum likelihood languge estimation\n",
    "    ix = np.argmax(results_dev['llhs'][i,:])\n",
    "    results_dev['hyp'][i] = LANG2ID[LANGUAGES[ix]]\n",
    "\n",
    "print(f'Finished predicting all data in {time.time() - start}')\n"
   ]
  },
  {
   "attachments": {},
   "cell_type": "markdown",
   "metadata": {},
   "source": [
    "\n",
    "## Evaluation\n",
    "After running the previous cells, we obtain two arrays with the reference and hypothesis labels, respectively (we can also reload them in case we need them). We can use these to obtain different evaluation metrics and inspect the performance (and potential problems) of our system. Of course, you will only be able to do this evaluation with the development set, since you don't have access to the eval labels."
   ]
  },
  {
   "attachments": {},
   "cell_type": "markdown",
   "metadata": {},
   "source": [
    "You can for instance obtain a classification report summary:"
   ]
  },
  {
   "cell_type": "code",
   "execution_count": 28,
   "metadata": {},
   "outputs": [
    {
     "name": "stdout",
     "output_type": "stream",
     "text": [
      "              precision    recall  f1-score   support\n",
      "\n",
      "      Basque       0.45      0.54      0.49       154\n",
      "     Catalan       0.80      0.42      0.55       149\n",
      "     English       0.94      0.69      0.80       150\n",
      "    Galician       0.63      0.30      0.41       151\n",
      "  Portuguese       0.54      0.82      0.65       160\n",
      "     Spanish       0.39      0.58      0.47       153\n",
      "\n",
      "    accuracy                           0.56       917\n",
      "   macro avg       0.62      0.56      0.56       917\n",
      "weighted avg       0.62      0.56      0.56       917\n",
      "\n"
     ]
    }
   ],
   "source": [
    "ref, hyp = results_dev['ref'], results_dev['hyp']\n",
    "print(classification_report(ref, hyp, target_names=LANGUAGES))"
   ]
  },
  {
   "attachments": {},
   "cell_type": "markdown",
   "metadata": {},
   "source": [
    "Overall accuracy (this will be the **main metric for system ranking**):"
   ]
  },
  {
   "cell_type": "code",
   "execution_count": 29,
   "metadata": {},
   "outputs": [
    {
     "data": {
      "text/plain": [
       "0.5627044711014176"
      ]
     },
     "execution_count": 29,
     "metadata": {},
     "output_type": "execute_result"
    }
   ],
   "source": [
    "accuracy_score(ref, hyp)"
   ]
  },
  {
   "attachments": {},
   "cell_type": "markdown",
   "metadata": {},
   "source": [
    "Or a confusion matrix: "
   ]
  },
  {
   "cell_type": "code",
   "execution_count": 30,
   "metadata": {},
   "outputs": [
    {
     "data": {
      "text/plain": [
       "array([[ 83,   1,   1,   1,  19,  49],\n",
       "       [ 24,  63,   0,  12,  16,  34],\n",
       "       [ 13,   3, 104,   1,  24,   5],\n",
       "       [ 20,   6,   0,  46,  35,  44],\n",
       "       [ 17,   0,   5,   1, 131,   6],\n",
       "       [ 27,   6,   1,  12,  18,  89]])"
      ]
     },
     "execution_count": 30,
     "metadata": {},
     "output_type": "execute_result"
    }
   ],
   "source": [
    "confusion_matrix(ref, hyp)"
   ]
  },
  {
   "attachments": {},
   "cell_type": "markdown",
   "metadata": {},
   "source": [
    "and visualize it:"
   ]
  },
  {
   "cell_type": "code",
   "execution_count": 31,
   "metadata": {},
   "outputs": [
    {
     "data": {
      "image/png": "[encoded data removed]",
      "text/plain": [
       "<Figure size 300x300 with 1 Axes>"
      ]
     },
     "metadata": {},
     "output_type": "display_data"
    }
   ],
   "source": [
    "conf_matrix = confusion_matrix(ref, hyp)\n",
    "\n",
    "fig, ax = plt.subplots(figsize=(3.0, 3.0))\n",
    "ax.matshow(conf_matrix, cmap=plt.cm.Blues, alpha=0.3)\n",
    "for i in range(conf_matrix.shape[0]):\n",
    "    for j in range(conf_matrix.shape[1]):\n",
    "        ax.text(x=j, y=i,s=conf_matrix[i, j], va='center', ha='center')\n",
    "\n",
    "plt.xlabel('Predictions', fontsize=12)\n",
    "plt.ylabel('Actuals', fontsize=12)\n",
    "plt.title(f'Confusion Matrix\\n(Accuracy {100*accuracy_score(ref, hyp):.2f})', fontsize=12)\n",
    "plt.show()"
   ]
  },
  {
   "attachments": {},
   "cell_type": "markdown",
   "metadata": {},
   "source": [
    "These results are poor. The baseline system is very limited in several aspects (features, time context, generative model, etc.). For instance, the likelihood scores are not normalized. It may happen, that one model  provides slightly higher scores for some reason. The following trick sometimes increases slightly the results:"
   ]
  },
  {
   "cell_type": "code",
   "execution_count": 32,
   "metadata": {},
   "outputs": [],
   "source": [
    "llhs_norm = (results_dev['llhs'] - results_dev['llhs'].mean(axis=0))\n",
    "hyp_norm = np.empty(hyp.shape, like=hyp)\n",
    "for i in range(len(results_dev['fileids'])):\n",
    "    ix = np.argmax(llhs_norm[i,:])\n",
    "    hyp_norm[i] = LANG2ID[LANGUAGES[ix]]\n"
   ]
  },
  {
   "cell_type": "code",
   "execution_count": 33,
   "metadata": {},
   "outputs": [
    {
     "data": {
      "image/png": "[encoded data removed]",
      "text/plain": [
       "<Figure size 300x300 with 1 Axes>"
      ]
     },
     "metadata": {},
     "output_type": "display_data"
    }
   ],
   "source": [
    "conf_matrix = confusion_matrix(ref, hyp_norm)\n",
    "\n",
    "fig, ax = plt.subplots(figsize=(3.0, 3.0))\n",
    "ax.matshow(conf_matrix, cmap=plt.cm.Blues, alpha=0.3)\n",
    "for i in range(conf_matrix.shape[0]):\n",
    "    for j in range(conf_matrix.shape[1]):\n",
    "        ax.text(x=j, y=i,s=conf_matrix[i, j], va='center', ha='center')\n",
    "\n",
    "plt.xlabel('Predictions', fontsize=12)\n",
    "plt.ylabel('Actuals', fontsize=12)\n",
    "plt.title(f'Confusion Matrix\\n(Accuracy {100*accuracy_score(ref, hyp_norm):.2f})', fontsize=12)\n",
    "plt.show()"
   ]
  },
  {
   "attachments": {},
   "cell_type": "markdown",
   "metadata": {},
   "source": [
    "This \"trick\" is probematic. Can you discuss why? Can you think of an altenative way of doing the same kind of normalization?"
   ]
  },
  {
   "attachments": {},
   "cell_type": "markdown",
   "metadata": {},
   "source": [
    "## Running the prediction on the evl partition\n",
    "\n",
    "Once you are happy with your system and the results obtained in the development set, you are ready to generate the predictions on the `'evl'` partition. To do that, you have to follow the same process as for the development partition, but of course, this time you will not be able to obtain performance results because you don't have labels for this partition. \n",
    "\n",
    "We start by instantiating the `Kalaka` class for the `'evl'` partition:\n"
   ]
  },
  {
   "cell_type": "code",
   "execution_count": 35,
   "metadata": {},
   "outputs": [
    {
     "name": "stderr",
     "output_type": "stream",
     "text": [
      "/Users/leonorbarreiros/Desktop/P4/PF/Spoken-Language-Processing/lab02/pf_tools.py:91: UserWarning: The feature directory already exists, and no new feature extraction will be performed.\n",
      "  warnings.warn(\"The feature directory already exists, and no new feature extraction will be performed.\")\n"
     ]
    }
   ],
   "source": [
    "transform_id = 'mfcc_sdc_vad_chunk_300_300'\n",
    "\n",
    "evlkalaka = Kalaka(CWD,'evl', \n",
    "                 transform_id=transform_id, \n",
    "                 audio_transform=transform[transform_id]['audio_transform'], \n",
    "                 chunk_transform=transform[transform_id]['chunk_transform'],\n",
    "                 chunk_size=transform[transform_id]['chunk_size'], \n",
    "                 chunk_hop=transform[transform_id]['chunk_hop']\n",
    "                )\n"
   ]
  },
  {
   "attachments": {},
   "cell_type": "markdown",
   "metadata": {},
   "source": [
    "Then, we load the evaluation data:"
   ]
  },
  {
   "cell_type": "code",
   "execution_count": 36,
   "metadata": {},
   "outputs": [
    {
     "name": "stdout",
     "output_type": "stream",
     "text": [
      "Finished reading all data in 3.5259358882904053\n"
     ]
    }
   ],
   "source": [
    "start = time.time()\n",
    "evl_data = {}\n",
    "\n",
    "for data, label, basename in evlkalaka:\n",
    "        if basename not in evl_data:\n",
    "                evl_data[basename] = {'data':[], 'label':label}\n",
    "        evl_data[basename]['data'].append(data)\n",
    "\n",
    "for basename in evl_data:\n",
    "        evl_data[basename]['data'] = np.concatenate(evl_data[basename]['data'])\n",
    "\n",
    "print(f'Finished reading all data in {time.time() - start}')"
   ]
  },
  {
   "attachments": {},
   "cell_type": "markdown",
   "metadata": {},
   "source": [
    "And apply the model(s) to the new `'evl'` data:"
   ]
  },
  {
   "cell_type": "code",
   "execution_count": null,
   "metadata": {},
   "outputs": [],
   "source": [
    "start = time.time()\n",
    "\n",
    "results_evl = {}\n",
    "results_evl['ref'] =  None\n",
    "results_evl['hyp'] =  np.empty(len(evl_data),dtype=np.int32)\n",
    "results_evl['llhs'] = np.empty((len(evl_data), len(LANGUAGES)), dtype=np.float64)\n",
    "results_evl['fileids'] = list()\n",
    "\n",
    "\n",
    "# Obtain LLH matrix\n",
    "for i, fileid in tqdm(enumerate(sorted(evl_data)), total=len(evl_data)):\n",
    "\n",
    "    data = evl_data[fileid]['data']  # the features\n",
    "    if data.shape[0] == 0:\n",
    "        data = np.zeros((1, 55))\n",
    "    results_evl['fileids'].append(fileid)     #fileid\n",
    "\n",
    "    # obtain the log-likelihood score for each model and store\n",
    "    results_evl['llhs'][i,:] = np.array([models[lang].score(data) for lang in LANGUAGES])\n",
    "\n",
    "    # Obtain the maximum likelihood languge estimation\n",
    "    ix = np.argmax(results_evl['llhs'][i,:])\n",
    "    results_evl['hyp'][i] = LANG2ID[LANGUAGES[ix]]    \n",
    "\n",
    "print(f'Finished predicting all data in {time.time() - start}')"
   ]
  },
  {
   "attachments": {},
   "cell_type": "markdown",
   "metadata": {},
   "source": [
    "## Create the predictions file\n",
    "\n",
    "The predictions file used for submission and scoring is a CSV file containing the predictions of both the `dev` and `evl` partitions.\n",
    "The file has two fields: fileId and Lang. The fileId is the unique audio file identifier and the Lang field is the language prediction (numeric from 1 to 6). The predictions file name must be as follows:\n",
    "\n",
    "`T<X>_G<YY>_<SYSTEMID>.csv` \n",
    "\n",
    "where `<X>` can be 1 or 2 depending on being a system for track 1 or track 2 evaluation; `<YY>` is the students' group number (use 2 digits) and `<SYSTEMID>` is a identifying string for that submission/system."
   ]
  },
  {
   "cell_type": "code",
   "execution_count": 40,
   "metadata": {},
   "outputs": [],
   "source": [
    "group, system = '03', 'baseline_train100'\n",
    "with open(f'{os.getcwd()}/T1_G{group}_{system}.csv', 'w') as file:\n",
    "    csv_writer = csv.writer(file) # CSV writer\n",
    "    csv_writer.writerow(('fileId', 'Lang')) # Header of the CSV\n",
    "\n",
    "    # Save dev results\n",
    "    for i in range(len(results_dev['fileids'])):\n",
    "        csv_writer.writerow((results_dev['fileids'][i], results_dev['hyp'][i]))\n",
    "    # Save evl results\n",
    "    for i in range(len(results_evl['fileids'])):\n",
    "        csv_writer.writerow((results_evl['fileids'][i], results_evl['hyp'][i]))"
   ]
  },
  {
   "attachments": {},
   "cell_type": "markdown",
   "metadata": {},
   "source": [
    "## Submit your prediction\n",
    "You can submit your prediction in the following Kaggle competition: https://www.kaggle.com/competitions/speech-processing-lab-2/\n",
    "\n",
    "## What should/can you do next?\n",
    "**Everything!!** Try to extend and improve the feature extraction. Try to play with the parameters. Try completely different feature extraction modules (look for openSMILE, torchaudio,). Try to increase the model complexity. Try different modeling approaches. Try to understand the impact of the different modifications. Once you are happy with your system, try to train on the full set and check the impact of adding data to your system.\n"
   ]
  },
  {
   "attachments": {},
   "cell_type": "markdown",
   "metadata": {},
   "source": [
    "# PART 2 - Using pre-trained embeddings (Track 2)\n",
    "\n",
    "There exist plenty of resources and pre-trained models that can be extremely useful for our task. For instance, x-vectors are currently the state of the art approach to obtain speech embeddings that characterize very efficiently speaker or language, among others. Particularly, the following x-vector model is available and it has been trained using a large corpus of 107 languages for language identification: https://huggingface.co/speechbrain/lang-id-voxlingua107-ecapa\n",
    "\n",
    "You can obtain it from the `speechbrain` module, that you need to install now if you are using Google Colab:\n",
    "\n"
   ]
  },
  {
   "cell_type": "code",
   "execution_count": null,
   "metadata": {},
   "outputs": [],
   "source": [
    "# If you are using Google Colab, you'll have to install the speechbrain module\n",
    "#raise CheckThisCell ## <---- Remove this after completing/checking this cell\n",
    "#!pip install speechbrain"
   ]
  },
  {
   "attachments": {},
   "cell_type": "markdown",
   "metadata": {},
   "source": [
    "The following code cell imports such model and shows how to obtain an embedding vector:"
   ]
  },
  {
   "cell_type": "code",
   "execution_count": 4,
   "metadata": {},
   "outputs": [
    {
     "name": "stderr",
     "output_type": "stream",
     "text": [
      "/Users/leonorbarreiros/miniconda3/envs/PF/lib/python3.9/site-packages/tqdm/auto.py:21: TqdmWarning: IProgress not found. Please update jupyter and ipywidgets. See https://ipywidgets.readthedocs.io/en/stable/user_install.html\n",
      "  from .autonotebook import tqdm as notebook_tqdm\n",
      "/Users/leonorbarreiros/miniconda3/envs/PF/lib/python3.9/site-packages/torch/functional.py:641: UserWarning: stft with return_complex=False is deprecated. In a future pytorch release, stft will return complex tensors for all inputs, and return_complex=False will raise an error.\n",
      "Note: you can still call torch.view_as_real on the complex output to recover the old return format. (Triggered internally at /Users/runner/work/pytorch/pytorch/pytorch/aten/src/ATen/native/SpectralOps.cpp:867.)\n",
      "  return _VF.stft(input, n_fft, hop_length, win_length, window,  # type: ignore[attr-defined]\n"
     ]
    }
   ],
   "source": [
    "import torchaudio\n",
    "import speechbrain\n",
    "\n",
    "from speechbrain.pretrained import EncoderClassifier\n",
    "from torch.nn.utils.rnn import pad_sequence\n",
    "\n",
    "language_id = EncoderClassifier.from_hparams(source=\"speechbrain/lang-id-voxlingua107-ecapa\", savedir=\"tmp\")\n",
    "\n",
    "signal = language_id.load_audio(f'{CWD}/train100/audio/0a5c0729.wav')\n",
    "emb =  language_id.encode_batch(signal)"
   ]
  },
  {
   "attachments": {},
   "cell_type": "markdown",
   "metadata": {},
   "source": [
    "In fact, the model is trained for language identification of 107 languages and we could use it directly for identification:"
   ]
  },
  {
   "cell_type": "code",
   "execution_count": 6,
   "metadata": {},
   "outputs": [],
   "source": [
    "prediction =  language_id.classify_batch(signal)"
   ]
  },
  {
   "attachments": {},
   "cell_type": "markdown",
   "metadata": {},
   "source": [
    "Invest some time to inspect the model and the outputs. Notice that the six target languages are included among the 107. The output indices are: \n",
    "\n",
    "```python\n",
    "XVEC_LANG_INDEX = (24,13,20,29,75,22) \n",
    "```\n",
    "\n",
    "corresponding respectively to the following languages:\n",
    "\n",
    "```python \n",
    "LANGUAGES = ('Basque',  'Catalan',  'English',  'Galician',  'Portuguese',  'Spanish')\n",
    "```\n",
    "\n",
    "Knowing this, it should be easy to obtain the predicted class among the six possible candidates:"
   ]
  },
  {
   "cell_type": "code",
   "execution_count": 7,
   "metadata": {},
   "outputs": [
    {
     "name": "stdout",
     "output_type": "stream",
     "text": [
      "(tensor([[-2.9975e+01, -2.4753e+01, -2.6890e+01, -2.5036e+01, -2.5616e+01,\n",
      "         -2.9381e+01, -2.6129e+01, -2.4117e+01, -2.1818e+01, -2.5811e+01,\n",
      "         -2.7217e+01, -2.1010e+01, -1.9641e+01, -1.1617e+01, -2.8839e+01,\n",
      "         -2.2405e+01, -2.3068e+01, -2.5963e+01, -2.4562e+01, -2.3203e+01,\n",
      "         -2.5318e+01, -2.5335e+01, -1.2961e+01, -2.2991e+01, -1.8358e-05,\n",
      "         -2.4563e+01, -2.2281e+01, -2.2013e+01, -2.4234e+01, -1.1917e+01,\n",
      "         -2.0779e+01, -2.8328e+01, -2.8824e+01, -2.6362e+01, -2.8434e+01,\n",
      "         -2.5956e+01, -2.1831e+01, -2.9302e+01, -2.0622e+01, -2.2650e+01,\n",
      "         -2.1664e+01, -2.3153e+01, -2.3304e+01, -1.6736e+01, -2.2176e+01,\n",
      "         -2.3187e+01, -2.4300e+01, -2.4373e+01, -2.5808e+01, -3.0292e+01,\n",
      "         -2.7065e+01, -2.3673e+01, -2.1856e+01, -2.7216e+01, -2.6991e+01,\n",
      "         -2.7725e+01, -2.4401e+01, -2.3977e+01, -2.5947e+01, -2.5304e+01,\n",
      "         -1.8570e+01, -2.6321e+01, -2.5487e+01, -2.8656e+01, -2.3365e+01,\n",
      "         -2.3755e+01, -2.9803e+01, -2.4354e+01, -2.6542e+01, -2.2383e+01,\n",
      "         -2.4229e+01, -1.5478e+01, -2.5342e+01, -2.2168e+01, -2.2650e+01,\n",
      "         -2.2360e+01, -1.9789e+01, -2.6602e+01, -3.3803e+01, -2.7995e+01,\n",
      "         -2.8686e+01, -2.5382e+01, -2.2458e+01, -2.3041e+01, -2.7549e+01,\n",
      "         -2.5373e+01, -1.9212e+01, -2.2192e+01, -2.7005e+01, -2.4563e+01,\n",
      "         -2.2843e+01, -2.5973e+01, -2.5653e+01, -2.1928e+01, -2.8901e+01,\n",
      "         -2.9568e+01, -2.5699e+01, -2.8488e+01, -2.5253e+01, -2.6160e+01,\n",
      "         -2.7212e+01, -2.3934e+01, -2.5982e+01, -2.8327e+01, -2.7347e+01,\n",
      "         -3.3176e+01, -2.8574e+01]]), tensor([-1.8358e-05]), tensor([24]), ['eu: Basque'])\n"
     ]
    }
   ],
   "source": [
    "XVEC_LANG_INDEX = (24,13,20,29,75,22) \n",
    "\n",
    "# Obtain the predicted class out of the 6 target ones\n",
    "print(prediction)\n",
    "#res = prediction[1][0]"
   ]
  },
  {
   "attachments": {},
   "cell_type": "markdown",
   "metadata": {},
   "source": [
    "## Using the x-vector up-stream model for language ID\n",
    "\n",
    "Let's try first something simple: use the the pre-trained model for idenfication. In this simple test, you don't need to train anyhing simply classify the dev and test sets. To do so, first configure the right transformation for the Kalaka class (one that simply loads the audio without any chunking):"
   ]
  },
  {
   "cell_type": "code",
   "execution_count": 8,
   "metadata": {},
   "outputs": [],
   "source": [
    "def extract_xvec(x):\n",
    "    signal = librosa.load(x, sr=16000, mono=True)[0]\n",
    "    emb =  language_id.encode_batch(torch.tensor(signal))\n",
    "    return emb[0][0]\n",
    "def extract_xvec_segments(x, sec):\n",
    "    signal = torch.tensor(librosa.load(x, sr=16000, mono=True)[0])\n",
    "    split_signal = torch.split(signal, (16000 * sec))\n",
    "    batch_split = pad_sequence(split_signal, batch_first=True, padding_value=0)\n",
    "    emb = language_id.encode_batch(batch_split)\n",
    "    return emb.reshape(emb.shape[0], emb.shape[2])\n",
    "def extract_pretrained(x):\n",
    "    signal = language_id.load_audio(x)\n",
    "    emb = language_id.classify_batch(signal)\n",
    "    return emb[0][0]"
   ]
  },
  {
   "cell_type": "code",
   "execution_count": 9,
   "metadata": {},
   "outputs": [
    {
     "name": "stderr",
     "output_type": "stream",
     "text": [
      "/Users/leonorbarreiros/Desktop/P4/PF/Spoken-Language-Processing/lab02/pf_tools.py:91: UserWarning: The feature directory already exists, and no new feature extraction will be performed.\n",
      "  warnings.warn(\"The feature directory already exists, and no new feature extraction will be performed.\")\n"
     ]
    },
    {
     "name": "stdout",
     "output_type": "stream",
     "text": [
      "(600, 256)\n",
      "(600,)\n",
      "[[  7.080835   42.231976   -6.7442527 ... -12.48605    -7.172511\n",
      "   12.03504  ]\n",
      " [ 16.806192   46.11722   -11.014365  ...  -3.3605313  -1.7083125\n",
      "   10.2018175]\n",
      " [ 24.528316   64.027695  -21.087847  ...   3.4166384  -6.8625894\n",
      "   32.325115 ]\n",
      " ...\n",
      " [ 19.083399   48.657433  -18.808382  ...   7.300444  -10.468651\n",
      "   30.819828 ]\n",
      " [ 14.750253   56.72532   -10.772012  ...   6.426393   -2.1882544\n",
      "   18.284267 ]\n",
      " [ 19.349356   30.084457   -6.329684  ... -11.324935   -7.501055\n",
      "   35.524357 ]]\n"
     ]
    }
   ],
   "source": [
    "trainset = 'train100'\n",
    "transform_id = 'raw_xvec'\n",
    "\n",
    "transform = {  'raw' :\n",
    "                {\n",
    "                    'audio_transform': lambda x: extract_xvec(x),\n",
    "                    'chunk_transform': None,\n",
    "                    'chunk_size': 0,\n",
    "                    'chunk_hop':0   \n",
    "                },\n",
    "                'raw_xvec' :\n",
    "                {\n",
    "                    'audio_transform': lambda x: extract_xvec(x),\n",
    "                    'chunk_transform': None,\n",
    "                    'chunk_size': 0,\n",
    "                    'chunk_hop':0   \n",
    "                },\n",
    "                'raw_xvec_segments_2' :\n",
    "                {\n",
    "                    'audio_transform': lambda x: extract_xvec_segments(x, 2),\n",
    "                    'chunk_transform': None,\n",
    "                    'chunk_size': 0,\n",
    "                    'chunk_hop':0   \n",
    "                },\n",
    "                 'raw_xvec_segments_4' :\n",
    "                {\n",
    "                    'audio_transform': lambda x: extract_xvec_segments(x, 4),\n",
    "                    'chunk_transform': None,\n",
    "                    'chunk_size': 0,\n",
    "                    'chunk_hop':0   \n",
    "                },\n",
    "                'raw_xvec_segments_16' :\n",
    "                {\n",
    "                    'audio_transform': lambda x: extract_xvec_segments(x, 16),\n",
    "                    'chunk_transform': None,\n",
    "                    'chunk_size': 0,\n",
    "                    'chunk_hop':0   \n",
    "                },\n",
    "                 'pretrained' :\n",
    "                {\n",
    "                    'audio_transform': lambda x: extract_xvec_pretrained(x),\n",
    "                    'chunk_transform': None,\n",
    "                    'chunk_size': 0,\n",
    "                    'chunk_hop':0   \n",
    "                }\n",
    "             \n",
    "             \n",
    "            }\n",
    "\n",
    "trainkalaka = Kalaka(CWD, trainset, \n",
    "                 transform_id=transform_id, \n",
    "                 audio_transform=transform[transform_id]['audio_transform'], \n",
    "                 chunk_transform=transform[transform_id]['chunk_transform'],\n",
    "                 chunk_size=transform[transform_id]['chunk_size'], \n",
    "                 chunk_hop=transform[transform_id]['chunk_hop']\n",
    "                )\n",
    "\n",
    "ensemble = 0\n",
    "if ensemble == 0:\n",
    "    train_data = []\n",
    "    train_labels = []\n",
    "    dict_languages = {}\n",
    "    for data, label, basename in trainkalaka:\n",
    "        train_data.append(data.numpy())\n",
    "        train_labels.append(label)\n",
    "        # train_data.append(data)\n",
    "        # train_labels.append(np.full(data.shape[0], label)) \n",
    "\n",
    "    # train_data = np.concatenate(train_data)\n",
    "    # train_labels = np.concatenate(train_labels)\n",
    "\n",
    "    train_data = np.array(train_data)\n",
    "    train_labels = np.array(train_labels)\n",
    "\n",
    "    print(train_data.shape)\n",
    "    print(train_labels.shape)\n",
    "\n",
    "    print(train_data)\n",
    "else:\n",
    "    num_datasets = 10\n",
    "    train_data_dict = {}\n",
    "    train_labels_dict = {}\n",
    "    for i in range(num_datasets):\n",
    "        train_data_dict[i] = []\n",
    "        train_labels_dict[i] = []\n",
    "    count = 0\n",
    "    for data, label, basename in trainkalaka:\n",
    "        sizes = [(i * data.shape[0]) // num_datasets for i in range(num_datasets)]\n",
    "        sizes.append(data.shape[0])\n",
    "        sizes = np.array([[sizes[i], sizes[i + 1]] for i in range(len(sizes) - 1)])\n",
    "        np.random.shuffle(sizes)\n",
    "\n",
    "        curr_data = data\n",
    "        np.random.shuffle(curr_data)\n",
    "\n",
    "        for i in range(num_datasets):\n",
    "            curr_train_data = curr_data[sizes[i][0] : sizes[i][1], :]\n",
    "            train_data_dict[i].append(curr_train_data)\n",
    "            train_labels_dict[i].append(np.full(curr_train_data.shape[0], label)) \n",
    "\n",
    "    for i in range(num_datasets):\n",
    "        train_data_dict[i] = np.concatenate(train_data_dict[i])\n",
    "        train_labels_dict[i] = np.concatenate(train_labels_dict[i])\n",
    "\n",
    "\n",
    "    print(train_data_dict[1].shape)\n",
    "    print(train_labels_dict[1].shape)\n"
   ]
  },
  {
   "cell_type": "code",
   "execution_count": 10,
   "metadata": {},
   "outputs": [
    {
     "name": "stdout",
     "output_type": "stream",
     "text": [
      "[LibSVM]*\n",
      "optimization finished, #iter = 108\n",
      "obj = -0.000406, rho = 0.500444\n",
      "nSV = 24, nBSV = 0\n",
      "*\n",
      "optimization finished, #iter = 34\n",
      "obj = -0.000087, rho = 0.753677\n",
      "nSV = 12, nBSV = 0\n",
      "*\n",
      "optimization finished, #iter = 134\n",
      "obj = -0.000446, rho = 0.024424\n",
      "nSV = 29, nBSV = 0\n",
      "*\n",
      "optimization finished, #iter = 80\n",
      "obj = -0.000168, rho = 0.473201\n",
      "nSV = 24, nBSV = 0\n",
      "*.*\n",
      "optimization finished, #iter = 206\n",
      "obj = -0.000639, rho = 0.645483\n",
      "nSV = 39, nBSV = 0\n",
      "*\n",
      "optimization finished, #iter = 20\n",
      "obj = -0.000126, rho = 0.620269\n",
      "nSV = 9, nBSV = 0\n",
      "*\n",
      "optimization finished, #iter = 146\n",
      "obj = -0.000531, rho = -0.862278\n",
      "nSV = 28, nBSV = 0\n",
      "*\n",
      "optimization finished, #iter = 62\n",
      "obj = -0.000326, rho = -0.635653\n",
      "nSV = 16, nBSV = 0\n",
      "*\n",
      "optimization finished, #iter = 149\n",
      "obj = -0.000882, rho = -0.109690\n",
      "nSV = 29, nBSV = 0\n",
      "*\n",
      "optimization finished, #iter = 41\n",
      "obj = -0.000071, rho = -0.987406\n",
      "nSV = 12, nBSV = 0\n",
      "*\n",
      "optimization finished, #iter = 60\n",
      "obj = -0.000130, rho = -1.119989\n",
      "nSV = 19, nBSV = 0\n",
      "*\n",
      "optimization finished, #iter = 43\n",
      "obj = -0.000076, rho = -0.925595\n",
      "nSV = 15, nBSV = 0\n",
      "*\n",
      "optimization finished, #iter = 69\n",
      "obj = -0.000190, rho = 0.719407\n",
      "nSV = 19, nBSV = 0\n",
      ".*\n",
      "optimization finished, #iter = 352\n",
      "obj = -0.002635, rho = 3.092109\n",
      "nSV = 45, nBSV = 0\n",
      "*\n",
      "optimization finished, #iter = 55\n",
      "obj = -0.000163, rho = -0.561142\n",
      "nSV = 16, nBSV = 0\n",
      "Total nSV = 178\n"
     ]
    },
    {
     "data": {
      "text/html": [
       "<style>#sk-container-id-1 {color: black;background-color: white;}#sk-container-id-1 pre{padding: 0;}#sk-container-id-1 div.sk-toggleable {background-color: white;}#sk-container-id-1 label.sk-toggleable__label {cursor: pointer;display: block;width: 100%;margin-bottom: 0;padding: 0.3em;box-sizing: border-box;text-align: center;}#sk-container-id-1 label.sk-toggleable__label-arrow:before {content: \"▸\";float: left;margin-right: 0.25em;color: #696969;}#sk-container-id-1 label.sk-toggleable__label-arrow:hover:before {color: black;}#sk-container-id-1 div.sk-estimator:hover label.sk-toggleable__label-arrow:before {color: black;}#sk-container-id-1 div.sk-toggleable__content {max-height: 0;max-width: 0;overflow: hidden;text-align: left;background-color: #f0f8ff;}#sk-container-id-1 div.sk-toggleable__content pre {margin: 0.2em;color: black;border-radius: 0.25em;background-color: #f0f8ff;}#sk-container-id-1 input.sk-toggleable__control:checked~div.sk-toggleable__content {max-height: 200px;max-width: 100%;overflow: auto;}#sk-container-id-1 input.sk-toggleable__control:checked~label.sk-toggleable__label-arrow:before {content: \"▾\";}#sk-container-id-1 div.sk-estimator input.sk-toggleable__control:checked~label.sk-toggleable__label {background-color: #d4ebff;}#sk-container-id-1 div.sk-label input.sk-toggleable__control:checked~label.sk-toggleable__label {background-color: #d4ebff;}#sk-container-id-1 input.sk-hidden--visually {border: 0;clip: rect(1px 1px 1px 1px);clip: rect(1px, 1px, 1px, 1px);height: 1px;margin: -1px;overflow: hidden;padding: 0;position: absolute;width: 1px;}#sk-container-id-1 div.sk-estimator {font-family: monospace;background-color: #f0f8ff;border: 1px dotted black;border-radius: 0.25em;box-sizing: border-box;margin-bottom: 0.5em;}#sk-container-id-1 div.sk-estimator:hover {background-color: #d4ebff;}#sk-container-id-1 div.sk-parallel-item::after {content: \"\";width: 100%;border-bottom: 1px solid gray;flex-grow: 1;}#sk-container-id-1 div.sk-label:hover label.sk-toggleable__label {background-color: #d4ebff;}#sk-container-id-1 div.sk-serial::before {content: \"\";position: absolute;border-left: 1px solid gray;box-sizing: border-box;top: 0;bottom: 0;left: 50%;z-index: 0;}#sk-container-id-1 div.sk-serial {display: flex;flex-direction: column;align-items: center;background-color: white;padding-right: 0.2em;padding-left: 0.2em;position: relative;}#sk-container-id-1 div.sk-item {position: relative;z-index: 1;}#sk-container-id-1 div.sk-parallel {display: flex;align-items: stretch;justify-content: center;background-color: white;position: relative;}#sk-container-id-1 div.sk-item::before, #sk-container-id-1 div.sk-parallel-item::before {content: \"\";position: absolute;border-left: 1px solid gray;box-sizing: border-box;top: 0;bottom: 0;left: 50%;z-index: -1;}#sk-container-id-1 div.sk-parallel-item {display: flex;flex-direction: column;z-index: 1;position: relative;background-color: white;}#sk-container-id-1 div.sk-parallel-item:first-child::after {align-self: flex-end;width: 50%;}#sk-container-id-1 div.sk-parallel-item:last-child::after {align-self: flex-start;width: 50%;}#sk-container-id-1 div.sk-parallel-item:only-child::after {width: 0;}#sk-container-id-1 div.sk-dashed-wrapped {border: 1px dashed gray;margin: 0 0.4em 0.5em 0.4em;box-sizing: border-box;padding-bottom: 0.4em;background-color: white;}#sk-container-id-1 div.sk-label label {font-family: monospace;font-weight: bold;display: inline-block;line-height: 1.2em;}#sk-container-id-1 div.sk-label-container {text-align: center;}#sk-container-id-1 div.sk-container {/* jupyter's `normalize.less` sets `[hidden] { display: none; }` but bootstrap.min.css set `[hidden] { display: none !important; }` so we also need the `!important` here to be able to override the default hidden behavior on the sphinx rendered scikit-learn.org. See: https://github.com/scikit-learn/scikit-learn/issues/21755 */display: inline-block !important;position: relative;}#sk-container-id-1 div.sk-text-repr-fallback {display: none;}</style><div id=\"sk-container-id-1\" class=\"sk-top-container\"><div class=\"sk-text-repr-fallback\"><pre>SVC(kernel=&#x27;linear&#x27;, verbose=True)</pre><b>In a Jupyter environment, please rerun this cell to show the HTML representation or trust the notebook. <br />On GitHub, the HTML representation is unable to render, please try loading this page with nbviewer.org.</b></div><div class=\"sk-container\" hidden><div class=\"sk-item\"><div class=\"sk-estimator sk-toggleable\"><input class=\"sk-toggleable__control sk-hidden--visually\" id=\"sk-estimator-id-1\" type=\"checkbox\" checked><label for=\"sk-estimator-id-1\" class=\"sk-toggleable__label sk-toggleable__label-arrow\">SVC</label><div class=\"sk-toggleable__content\"><pre>SVC(kernel=&#x27;linear&#x27;, verbose=True)</pre></div></div></div></div></div>"
      ],
      "text/plain": [
       "SVC(kernel='linear', verbose=True)"
      ]
     },
     "execution_count": 10,
     "metadata": {},
     "output_type": "execute_result"
    }
   ],
   "source": [
    "#XVEC_LANG_INDEX = (24,13,20,29,75,22) \n",
    "#train_data = train_data[:, XVEC_LANG_INDEX]\n",
    "#print(train_data)\n",
    "\n",
    "model = SVC(kernel = \"linear\", verbose = True)\n",
    "model.fit(train_data, train_labels)\n",
    "\n",
    "#models = [SVC(kernel = \"linear\") for i in range(num_datasets)]\n",
    "#for i in range(num_datasets):\n",
    "#    print(f\"Dataset {i}\")\n",
    "#    models[i].fit(train_data_dict[i], train_labels_dict[i])\n",
    "\n",
    "#model = LogisticRegression(max_iter = int(1e6))\n",
    "#model.fit(train_data, train_labels)\n",
    "\n",
    "#model = MLPClassifier(hidden_layer_sizes = [12, 6], max_iter = int(1e6))\n",
    "#model.fit(train_data, train_labels)"
   ]
  },
  {
   "cell_type": "code",
   "execution_count": 11,
   "metadata": {},
   "outputs": [
    {
     "name": "stderr",
     "output_type": "stream",
     "text": [
      "/Users/leonorbarreiros/Desktop/P4/PF/Spoken-Language-Processing/lab02/pf_tools.py:91: UserWarning: The feature directory already exists, and no new feature extraction will be performed.\n",
      "  warnings.warn(\"The feature directory already exists, and no new feature extraction will be performed.\")\n"
     ]
    }
   ],
   "source": [
    "# Confifure the tranformation\n",
    "#raise CheckThisCell ## <---- Remove this after completeing/checking this cell\n",
    "\n",
    "\n",
    "# Download and feature extract\n",
    "transform_id = 'raw_xvec'\n",
    "\n",
    "\n",
    "devkalaka = Kalaka(CWD, 'dev', \n",
    "                 transform_id=transform_id, \n",
    "                 audio_transform=transform[transform_id]['audio_transform'], \n",
    "                 chunk_transform=transform[transform_id]['chunk_transform'],\n",
    "                 chunk_size=transform[transform_id]['chunk_size'], \n",
    "                 chunk_hop=transform[transform_id]['chunk_hop']\n",
    "                )"
   ]
  },
  {
   "attachments": {},
   "cell_type": "markdown",
   "metadata": {},
   "source": [
    "Now you have all the elements to predict langauge using the langID pre-trained model.\n",
    "In case you have access to a GPU, it may be good using a Pytorch Dataloader to batch the dev samples:"
   ]
  },
  {
   "cell_type": "code",
   "execution_count": 12,
   "metadata": {},
   "outputs": [],
   "source": [
    "import torch\n",
    "if torch.cuda.is_available():\n",
    "    device = torch.device('cuda:0')\n",
    "else:\n",
    "    device = torch.device('cpu')"
   ]
  },
  {
   "attachments": {},
   "cell_type": "markdown",
   "metadata": {},
   "source": [
    "Since the audios are of different size, we need to pass an auxiliary function to the dataloader that handles this (by adding 0s). This can be done as follows:"
   ]
  },
  {
   "cell_type": "code",
   "execution_count": 13,
   "metadata": {},
   "outputs": [],
   "source": [
    "def collate_batch(batch): \n",
    "    label_list, audio_list, basename_list, audiolen_list = [], [], [], []\n",
    "\n",
    "    for (_audio,_label, _basename) in batch:\n",
    "        label_list.append(_label)\n",
    "        audio_list.append(_audio)\n",
    "        basename_list.append(_basename)\n",
    "        audiolen_list.append(_audio.shape[0])\n",
    "\n",
    "    label_list = torch.tensor(label_list, dtype=torch.int64)\n",
    "    audio_list = pad_sequence(audio_list, batch_first=True, padding_value=0)\n",
    "    max_len = max(audiolen_list)\n",
    "    audiolen_list = torch.tensor([l/max_len for l in audiolen_list])\n",
    "\n",
    "    return audio_list.to(device),label_list.to(device), basename_list, audiolen_list.to(device)\n",
    "\n",
    "batch_size = 1\n",
    "dataloader = torch.utils.data.DataLoader(\n",
    "        dataset=devkalaka,\n",
    "        batch_size=batch_size,\n",
    "        collate_fn=collate_batch,\n",
    "        shuffle=False  # <-- We want to keep the original order of the dev set\n",
    ")\n"
   ]
  },
  {
   "attachments": {},
   "cell_type": "markdown",
   "metadata": {},
   "source": [
    "Complete the following piece of code to store properly the hypothesis and the reference:"
   ]
  },
  {
   "cell_type": "code",
   "execution_count": 23,
   "metadata": {},
   "outputs": [
    {
     "name": "stderr",
     "output_type": "stream",
     "text": [
      "100%|█████████▉| 917/918 [00:04<00:00, 188.85it/s]"
     ]
    },
    {
     "name": "stdout",
     "output_type": "stream",
     "text": [
      "Finished preocessing all data in 4.860921859741211\n"
     ]
    },
    {
     "name": "stderr",
     "output_type": "stream",
     "text": [
      "\n"
     ]
    }
   ],
   "source": [
    "import time\n",
    "from tqdm import tqdm\n",
    "from scipy import stats\n",
    "start = time.time()\n",
    "\n",
    "results_dev = {}\n",
    "results_dev['ref'] =  []\n",
    "results_dev['hyp'] =  []\n",
    "results_dev['fileids'] = [] \n",
    "\n",
    "for i, batch in tqdm(enumerate(dataloader), total=1+len(devkalaka)//batch_size):\n",
    "    data, label, basename, audiolen = batch\n",
    "    #predictions = language_id.classify_batch(data, wav_lens=audiolen)\n",
    "    \n",
    "    if ensemble:\n",
    "        prediction = []\n",
    "        for i in range(num_datasets):\n",
    "            prediction.append(model.predict(data[0]))\n",
    "        prediction = np.concatenate(prediction)\n",
    "        prediction = stats.mode(prediction, keepdims = True).mode[0]\n",
    "    else:\n",
    "        prediction = model.predict(data)\n",
    "    \n",
    "    # Complete the code to store the hypothesis (careful if you use argmax, you will ned to add 1 to the predicted class),\n",
    "    # the reference and the fileids. In the call to the prediction method, you should pass the audio length information, so that \n",
    "    # the padded 0s can be ignored\n",
    "    results_dev[\"hyp\"].append(prediction[0])\n",
    "    results_dev[\"ref\"].append(label[0].detach().numpy())\n",
    "    results_dev[\"fileids\"].append(basename[0])\n",
    "    #raise CheckThisCell ## <---- Remove this after completeing/checking this cell\n",
    "    \n",
    "print(f'Finished preocessing all data in {time.time() - start}')"
   ]
  },
  {
   "attachments": {},
   "cell_type": "markdown",
   "metadata": {},
   "source": [
    "And now let's see how well this model behaves on our dev partition:"
   ]
  },
  {
   "cell_type": "code",
   "execution_count": 25,
   "metadata": {},
   "outputs": [
    {
     "data": {
      "image/png": "[encoded data removed]",
      "text/plain": [
       "<Figure size 300x300 with 1 Axes>"
      ]
     },
     "metadata": {},
     "output_type": "display_data"
    }
   ],
   "source": [
    "ref, hyp = results_dev['ref'], results_dev['hyp']\n",
    "\n",
    "conf_matrix = confusion_matrix(ref, hyp)\n",
    "\n",
    "fig, ax = plt.subplots(figsize=(3.0, 3.0))\n",
    "ax.matshow(conf_matrix, cmap=plt.cm.Blues, alpha=0.3)\n",
    "for i in range(conf_matrix.shape[0]):\n",
    "    for j in range(conf_matrix.shape[1]):\n",
    "        ax.text(x=j, y=i,s=conf_matrix[i, j], va='center', ha='center')\n",
    "\n",
    "plt.xlabel('Predictions', fontsize=12)\n",
    "plt.ylabel('Actuals', fontsize=12)\n",
    "plt.title(f'Confusion Matrix\\n(Accuracy {100*accuracy_score(ref, hyp):.2f})', fontsize=12)\n",
    "plt.show()"
   ]
  },
  {
   "attachments": {},
   "cell_type": "markdown",
   "metadata": {},
   "source": [
    "That was pretty impressive, right!?! And  easier than Part I of this lab! \n",
    "\n",
    "Well, here comes some bad news: you can not use this langid classifier in the challenge. However, you can use the pre-trained x-vector embeddings as a feature extractor to train your language classification system (may be a simple K-means on top of the x-vectors work well). You can also try to change the classification head of the x-vector model and fine-tune with the challenge data. You have plenty of options, but remember, any system that use these pre-trained embeddings (or any similar ones) are only valid for the Track 2 of the Challenge and the prediction file should be  namedlike this: `T2_G<YY>_<SYSTEMID>.csv` \n",
    "\n"
   ]
  },
  {
   "cell_type": "code",
   "execution_count": 28,
   "metadata": {},
   "outputs": [
    {
     "name": "stderr",
     "output_type": "stream",
     "text": [
      "/Users/leonorbarreiros/Desktop/P4/PF/Spoken-Language-Processing/lab02/pf_tools.py:91: UserWarning: The feature directory already exists, and no new feature extraction will be performed.\n",
      "  warnings.warn(\"The feature directory already exists, and no new feature extraction will be performed.\")\n",
      "100%|█████████▉| 941/942 [00:05<00:00, 168.86it/s]\n"
     ]
    }
   ],
   "source": [
    "evlkalaka = Kalaka(CWD,'evl', \n",
    "                 transform_id=transform_id, \n",
    "                 audio_transform=transform[transform_id]['audio_transform'], \n",
    "                 chunk_transform=transform[transform_id]['chunk_transform'],\n",
    "                 chunk_size=transform[transform_id]['chunk_size'], \n",
    "                 chunk_hop=transform[transform_id]['chunk_hop']\n",
    "                )\n",
    "evl_data = {}\n",
    "\n",
    "for data, label, basename in evlkalaka:\n",
    "        if basename not in evl_data:\n",
    "                evl_data[basename] = {'data':[], 'label':label}\n",
    "        evl_data[basename]['data'].append(data)\n",
    "\n",
    "for basename in evl_data:\n",
    "        evl_data[basename]['data'] = np.concatenate(evl_data[basename]['data'])\n",
    "        \n",
    "results_evl = {}\n",
    "results_evl['ref'] =  []\n",
    "results_evl['hyp'] =  []\n",
    "results_evl['llhs'] = []\n",
    "results_evl['fileids'] = []\n",
    "\n",
    "dataloader = torch.utils.data.DataLoader(\n",
    "        dataset=evlkalaka,\n",
    "        batch_size=batch_size,\n",
    "        collate_fn=collate_batch,\n",
    "        shuffle=False  # <-- We want to keep the original order of the dev set\n",
    ")\n",
    "\n",
    "for i, batch in tqdm(enumerate(dataloader), total=1+len(evlkalaka)//batch_size):\n",
    "    data, label, basename, audiolen = batch\n",
    "    #predictions = language_id.classify_batch(data, wav_lens=audiolen)\n",
    "    \n",
    "    if ensemble:\n",
    "        prediction = []\n",
    "        for i in range(num_datasets):\n",
    "            prediction.append(model.predict(data[0]))\n",
    "        prediction = np.concatenate(prediction)\n",
    "        prediction = stats.mode(prediction, keepdims = True).mode[0]\n",
    "    else:\n",
    "        prediction = model.predict(data)\n",
    "    # Complete the code to store the hypothesis (careful if you use argmax, you will ned to add 1 to the predicted class),\n",
    "    # the reference and the fileids. In the call to the prediction method, you should pass the audio length information, so that \n",
    "    # the padded 0s can be ignored\n",
    "    results_evl[\"hyp\"].append(prediction[0])\n",
    "    results_evl[\"ref\"].append(label[0].detach().numpy())\n",
    "    results_evl[\"fileids\"].append(basename[0])"
   ]
  },
  {
   "cell_type": "code",
   "execution_count": 26,
   "metadata": {},
   "outputs": [],
   "source": [
    "group, system = '03', 'xvec_svm_train100'\n",
    "with open(f'{os.getcwd()}/T1_G{group}_{system}.csv', 'w') as file:\n",
    "    csv_writer = csv.writer(file) # CSV writer\n",
    "    csv_writer.writerow(('fileId', 'Lang')) # Header of the CSV\n",
    "\n",
    "    # Save dev results\n",
    "    for i in range(len(results_dev['fileids'])):\n",
    "        csv_writer.writerow((results_dev['fileids'][i], results_dev['hyp'][i]))\n",
    "    # Save evl results\n",
    "    for i in range(len(results_evl['fileids'])):\n",
    "        csv_writer.writerow((results_evl['fileids'][i], results_evl['hyp'][i]))"
   ]
  },
  {
   "attachments": {},
   "cell_type": "markdown",
   "metadata": {},
   "source": [
    "# What should you deliver at the end of this lab assignment?\n",
    "You should deliver the following three elements:\n",
    "- You must submit at least one prediction file to the Kaggle competition in the format previously described: https://www.kaggle.com/competitions/speech-processing-lab-2/\n",
    "- You must submit (via Fênix) the modified notebook (or code) of your proposed systems(s).\n",
    "- You must submit a report (via Fênix) of maximum 2 pages describing your system, approaches (may be unsuccesful), lessons learnt, results on the dev partition, etc. You can use the following Overleaf template for the report: https://www.overleaf.com/latex/templates/interspeech-2023-paper-kit/kzcdqdmkqvbr"
   ]
  },
  {
   "attachments": {},
   "cell_type": "markdown",
   "metadata": {},
   "source": [
    "# Contacts and support\n",
    "You can contact the professors during the classes or the office hours.\n",
    "\n",
    "Particularly, for this second laboratory assignment, you should contact Prof. Alberto Abad: alberto.abad@tecnico.ulisboa.pt\n",
    "\n",
    "\n",
    "\n"
   ]
  },
  {
   "attachments": {},
   "cell_type": "markdown",
   "metadata": {},
   "source": []
  }
 ],
 "metadata": {
  "kernelspec": {
   "display_name": "Python 3 (ipykernel)",
   "language": "python",
   "name": "python3"
  },
  "language_info": {
   "codemirror_mode": {
    "name": "ipython",
    "version": 3
   },
   "file_extension": ".py",
   "mimetype": "text/x-python",
   "name": "python",
   "nbconvert_exporter": "python",
   "pygments_lexer": "ipython3",
   "version": "3.9.16"
  }
 },
 "nbformat": 4,
 "nbformat_minor": 2
}
