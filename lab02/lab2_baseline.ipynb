{
 "cells": [
  {
   "cell_type": "markdown",
   "metadata": {},
   "source": [
    "# Speech Processing - Instituto Superior Técnico\n",
    "### Laboratory Assignment 2 - Spoken Language Indentification challenge\n",
    "\n",
    "The second laboratory assignment of the course is designed to simulate a **spoken language identification** challenge. In this challenge, partipants (a.k.a students enrolled in the course) receive a train, development and evaluation (blind) data set, and a simple (and weak) baseline system for the task at hand: closed-set identification of the spoken language in a given audio file out of a set of six target langauges: Basque,  Catalan,  English,  Galician,  Portuguese and  Spanish.\n",
    "\n",
    "The **goal** for each participant is to develop/build the best spoken language identification system. To this end, participants are encouraged to modify this baseline, incorporate any other techniques and in general explore any approach that permit  improving their results.\n",
    "\n",
    "During the first week (Part 1), students are expected to:\n",
    "- Run and understand the main components of the baseline.\n",
    "- Propose and develop simple modifications to the baseline feature extraction process.\n",
    "- Propose and develop simple modifications to the baseline GMM language models.\n",
    "- Evaluate the models on the development partition.\n",
    "\n",
    "During the second week (Part 2), students are expected to:\n",
    "- Propose and develop other *classical* modifications to any component of the processing pipeline (openSMILE features, segment-based features, SVM classifiers, MLP/CNN classifiers, etc.)\n",
    "- Run and understand the second part of Notebook that explores a pre-trained model.\n",
    "- Propose and develop more recent advanced approaches, including x-vectors.\n",
    "- Evaluate the models on the development partition.\n",
    "- Obtain predictions for the blind test partition and prepare the submission.\n",
    "\n",
    "The challenge distinguishes two different tracks or evaluation conditions:\n",
    "- Track 1 - Participants are not allowed to use any kind of pre-trained model (such as x-vectors).\n",
    "- Track 2 - Participants are allowed to use anything.\n",
    "\n",
    "\n",
    "## About the data\n",
    "\n",
    "The data consists of mono audio files sampled at 16 kHz all of them containing speech of only one of the following target languages:\n",
    "```python \n",
    "LANGUAGES = ('Basque',  'Catalan',  'English',  'Galician',  'Portuguese',  'Spanish')\n",
    "```\n",
    "\n",
    "The dataset is organized in 4 partitions:\n",
    "- `'train'`: This is the full training set, consisting of 3060 clean audio samples correponding to speech segments of TV broadcast shows. (**ATENTION**: Do not use this dataset for training your models, unless your system is very fast or if you want to build your final model. It can be slow)\n",
    "- `'train100'`: This is a subset of the full training set that consists of 100 audio files per target language (**RECOMMENDATION**: Use this partition in your quick experiments, to more rapidly validate alternatives)\n",
    "- `'dev'`: This is the development set. It contains audio extracted from YouTube. You will typically use this to validate the quality of your model.\n",
    "- `'evl'`: This is the evaluation set. It contains audio extracted from YouTube. You don't have the groud-truth for this set. You are expected to produce it and submit it.\n",
    "\n",
    "The data used in this challenge is a subset of the KALAKA-3 database: https://aclanthology.org/L14-1576/\n",
    "\n",
    "The  difference is that only the clean train audio segments and the Plenty Closed evaluation condition have been considered. "
   ]
  },
  {
   "cell_type": "markdown",
   "metadata": {},
   "source": [
    "## Before starting\n",
    "The following conditions are neecessary to run correctly this notebook:\n",
    "\n",
    "*   All modules included in the requirements file need to be \n",
    "installed in the Python environment.\n",
    "*   The module `pf_tools` needs to be accessible (if you are using Google Colab, you will need to copy the `pf_tools.py` every time you start a new session)."
   ]
  },
  {
   "cell_type": "code",
   "execution_count": 1,
   "metadata": {},
   "outputs": [],
   "source": [
    "from pf_tools import CheckThisCell"
   ]
  },
  {
   "cell_type": "markdown",
   "metadata": {},
   "source": [
    "## How can you download (and process) the data\n",
    "\n",
    "The first thing we have to do is to set our working directory. If you are using Google Colab, you  probably want to mount Google Drive to keep persistent information, such as data, features and models:"
   ]
  },
  {
   "cell_type": "code",
   "execution_count": 2,
   "metadata": {},
   "outputs": [
    {
     "data": {
      "text/plain": [
       "'/Users/duartealmeida/PF/Spoken-Language-Processing/lab02'"
      ]
     },
     "execution_count": 2,
     "metadata": {},
     "output_type": "execute_result"
    }
   ],
   "source": [
    "import os \n",
    "CWD = os.getcwd() # Change this variable to your working directory to store data, features and models\n",
    "CWD"
   ]
  },
  {
   "cell_type": "markdown",
   "metadata": {},
   "source": [
    "The class `Kalaka` permits downloading, transforming and storing the different data partitions. Each `Kalaka` instance can be used to iterate over all the samples of the partition. It can also be used in combination with pytorch dataloader to read batches of data to train neural networks with pytorch. For instance, consider the following piece of code:\n"
   ]
  },
  {
   "cell_type": "code",
   "execution_count": 3,
   "metadata": {},
   "outputs": [
    {
     "name": "stderr",
     "output_type": "stream",
     "text": [
      "/Users/duartealmeida/PF/Spoken-Language-Processing/lab02/pf_tools.py:91: UserWarning: The feature directory already exists, and no new feature extraction will be performed.\n",
      "  warnings.warn(\"The feature directory already exists, and no new feature extraction will be performed.\")\n"
     ]
    }
   ],
   "source": [
    "import numpy as np\n",
    "from pf_tools import Kalaka\n",
    "import librosa \n",
    "\n",
    "def audio_transform(filename):\n",
    "    y, _ = librosa.load(filename, sr=16000, mono=True)\n",
    "    return y.reshape(-1,1)\n",
    "    \n",
    "trainkalaka = Kalaka(CWD, 'train100', transform_id='raw', audio_transform=audio_transform)"
   ]
  },
  {
   "cell_type": "markdown",
   "metadata": {},
   "source": [
    "\n",
    "This will first download and uncompress the .tar.gz file containing all the necessary data of the `'train100'` partition, that is, the audio files that are stored to disk (in CWD/train100/audio/) and key file (CWD/train100/key.lst). Then, the audio transformation `'transform'` will be applied to each file and the result stored to disk CWD/train100/raw/. \n",
    "\n",
    "**Audio transformations** receive a filename of an audio file and returns an array of dimensions (NxD), in which N is the time dimension and D the dimension of the feature vector. In this simple case D is 1 because the transform is just returning the raw audio signal.\n",
    "\n",
    "The `Kalaka` class permits chunking the output of the audio transformation (of size NxD) in chunks of CxD size. The chunking operation divides the orignal sample, in multiple smaller samples with a configurable chunk size and hop length. These chunks can be further transformed and stored as individual feature files. For instance:"
   ]
  },
  {
   "cell_type": "code",
   "execution_count": 4,
   "metadata": {},
   "outputs": [],
   "source": [
    "trainkalaka = Kalaka(CWD, 'train100', \n",
    "                     transform_id='chunks', \n",
    "                     audio_transform=audio_transform, \n",
    "                     chunk_size=4*16000, \n",
    "                     chunk_hop=2*16000)"
   ]
  },
  {
   "cell_type": "markdown",
   "metadata": {},
   "source": [
    "This will download and uncompress the partition data, only if was not already done before. Then, as previously, the simple tranform that returns the waveform is applied to each audio file. After this, the resulting array of dimension Nx1, in which N=16000xduration_in_seconds, is split in continuous chunks of length 64000 (that is, 4 seconds) with chunk hop of 2 seconds. Each one of these chunks of 4 seconds is stored and will be accessed whenever we iterate the dataset. \n",
    "\n",
    "Adittionally, the optional argument `chunk_transform` pertmits defining a transformation to be applied to each chunk before storing to disk. It can be any function that receives an array of size CxD and returns an array HxW, in which H is the *new time dimension*. For instance, the following example takes the audio segments of 64000x1, computes the mean and variance every 0.1 sec (1600 samples) and returns a feature vector of size 40x2."
   ]
  },
  {
   "cell_type": "code",
   "execution_count": 5,
   "metadata": {},
   "outputs": [],
   "source": [
    "def chunk_transform(x):\n",
    "    x = x.reshape(-1,1600)\n",
    "    return np.concatenate((x.mean(axis=1, keepdims=True), x.std(axis=1, keepdims=True)),axis=1)\n",
    "\n",
    "trainkalaka = Kalaka(CWD, 'train100', \n",
    "                     transform_id='chunks_mv', \n",
    "                     audio_transform=audio_transform, \n",
    "                     chunk_size=4*16000, \n",
    "                     chunk_hop=2*16000, \n",
    "                     chunk_transform=chunk_transform)\n"
   ]
  },
  {
   "cell_type": "markdown",
   "metadata": {},
   "source": [
    "\n",
    "Notice that, while the above example is probably useless as an effective feature extraction method, the proper combination of audio and chunk transformations is expected to permit quite flexible feature extraction that (hopefully) can match the needs of almost any training setting. \n",
    "\n",
    "Once we have instanciated a Kalaka dataset, it can be iterated to have access to each processed sample, for instance: "
   ]
  },
  {
   "cell_type": "code",
   "execution_count": 6,
   "metadata": {},
   "outputs": [
    {
     "name": "stdout",
     "output_type": "stream",
     "text": [
      "0 (40, 2) 6 0006ebda\n",
      "1000 (40, 2) 1 11a3790f\n",
      "2000 (40, 2) 4 271621da\n",
      "3000 (40, 2) 5 3b9d2c2f\n",
      "4000 (40, 2) 1 4d10f8f2\n",
      "5000 (40, 2) 6 5fb949a1\n",
      "6000 (40, 2) 6 70d28e30\n",
      "7000 (40, 2) 6 7d5515f0\n",
      "8000 (40, 2) 3 937623c2\n",
      "9000 (40, 2) 5 a4a7491b\n",
      "10000 (40, 2) 5 bc3f6e51\n",
      "11000 (40, 2) 3 cd82bcca\n",
      "12000 (40, 2) 1 df0b27f2\n",
      "13000 (40, 2) 3 f3ba1f4d\n",
      "Finished reading all data in 4.21747612953186\n"
     ]
    }
   ],
   "source": [
    "import time\n",
    "start = time.time()\n",
    "for i, sample in enumerate(trainkalaka):\n",
    "    data, label, basename = sample # array, int, str\n",
    "    if i % 1000 == 0:\n",
    "        print(i, data.shape, label, basename)\n",
    "\n",
    "print(f'Finished reading all data in {time.time() - start}')"
   ]
  },
  {
   "cell_type": "markdown",
   "metadata": {},
   "source": [
    "Now you can use the `Kalaka` class to check the  number of files and size (in minutes) of the training set for each target language. You cankKeep these numbers to include in your system description paper:"
   ]
  },
  {
   "cell_type": "code",
   "execution_count": 7,
   "metadata": {},
   "outputs": [
    {
     "name": "stderr",
     "output_type": "stream",
     "text": [
      "  0%|                                                                                                     | 0/600 [00:00<?, ?it/s]/Users/duartealmeida/PF/Spoken-Language-Processing/lab02/pf_tools.py:145: FutureWarning: get_duration() keyword argument 'filename' has been renamed to 'path' in version 0.10.0.\n",
      "\tThis alias will be removed in version 1.0.\n",
      "  minutes[language] += librosa.get_duration(filename=audioin)\n",
      "100%|███████████████████████████████████████████████████████████████████████████████████████████| 600/600 [00:19<00:00, 30.68it/s]"
     ]
    },
    {
     "name": "stdout",
     "output_type": "stream",
     "text": [
      "Number of files per language:\n",
      "\tBasque: 100\n",
      "\tCatalan: 100\n",
      "\tEnglish: 100\n",
      "\tGalician: 100\n",
      "\tPortuguese: 100\n",
      "\tSpanish: 100\n",
      "\n",
      "Minutes per language:\n",
      "\tBasque: 4743.38\n",
      "\tCatalan: 5111.188999999999\n",
      "\tEnglish: 5254.2998125\n",
      "\tGalician: 4833.832437500003\n",
      "\tPortuguese: 4569.997062499999\n",
      "\tSpanish: 4745.947999999998\n",
      "\n"
     ]
    },
    {
     "name": "stderr",
     "output_type": "stream",
     "text": [
      "\n"
     ]
    }
   ],
   "source": [
    "# Inspect the training data to find the size of each training language\n",
    "num_files, minutes = trainkalaka.get_metrics_per_language()\n",
    "\n",
    "print(\"Number of files per language:\\n\\tBasque: {}\\n\\tCatalan: {}\\n\\tEnglish: {}\\n\\tGalician: {}\\n\\tPortuguese: {}\\n\\tSpanish: {}\\n\"\\\n",
    "    .format(num_files['Basque'], num_files['Catalan'], num_files['English'], num_files['Galician'], num_files['Portuguese'], num_files['Spanish']))\n",
    "print(\"Minutes per language:\\n\\tBasque: {}\\n\\tCatalan: {}\\n\\tEnglish: {}\\n\\tGalician: {}\\n\\tPortuguese: {}\\n\\tSpanish: {}\\n\"\\\n",
    "    .format(minutes['Basque'], minutes['Catalan'], minutes['English'], minutes['Galician'], minutes['Portuguese'], minutes['Spanish']))\n",
    "\n",
    "#raise CheckThisCell ## <---- Remove this after completeing/checking this cell"
   ]
  },
  {
   "cell_type": "markdown",
   "metadata": {},
   "source": [
    "Notice that the `Kalaka` class extends the `torch.utils.data.Dataset` and it can be used in combination with a Pytorch DataLoader to read data in batches:"
   ]
  },
  {
   "cell_type": "code",
   "execution_count": 20,
   "metadata": {},
   "outputs": [
    {
     "name": "stderr",
     "output_type": "stream",
     "text": [
      "/Users/duartealmeida/PF/Spoken-Language-Processing/lab02/pf_tools.py:91: UserWarning: The feature directory already exists, and no new feature extraction will be performed.\n",
      "  warnings.warn(\"The feature directory already exists, and no new feature extraction will be performed.\")\n"
     ]
    },
    {
     "name": "stdout",
     "output_type": "stream",
     "text": [
      "torch.Size([10, 40, 2]) torch.Size([10]) 10\n",
      "torch.Size([10, 40, 2]) torch.Size([10]) 10\n",
      "torch.Size([10, 40, 2]) torch.Size([10]) 10\n",
      "torch.Size([10, 40, 2]) torch.Size([10]) 10\n",
      "torch.Size([10, 40, 2]) torch.Size([10]) 10\n",
      "torch.Size([10, 40, 2]) torch.Size([10]) 10\n",
      "torch.Size([10, 40, 2]) torch.Size([10]) 10\n",
      "torch.Size([10, 40, 2]) torch.Size([10]) 10\n",
      "torch.Size([10, 40, 2]) torch.Size([10]) 10\n",
      "torch.Size([10, 40, 2]) torch.Size([10]) 10\n",
      "torch.Size([10, 40, 2]) torch.Size([10]) 10\n",
      "torch.Size([10, 40, 2]) torch.Size([10]) 10\n",
      "torch.Size([10, 40, 2]) torch.Size([10]) 10\n",
      "torch.Size([10, 40, 2]) torch.Size([10]) 10\n",
      "Finished reading all data in 1.538161039352417\n"
     ]
    }
   ],
   "source": [
    "import torch \n",
    "\n",
    "trainkalaka = Kalaka(CWD, 'train100', \n",
    "                     transform_id='chunks_mv', \n",
    "                     audio_transform=audio_transform, \n",
    "                     chunk_size=4*16000, \n",
    "                     chunk_hop=2*16000, \n",
    "                     chunk_transform=chunk_transform)\n",
    "\n",
    "dataloader = torch.utils.data.DataLoader(\n",
    "        dataset=trainkalaka,\n",
    "        batch_size=10,\n",
    "        shuffle=True\n",
    ")\n",
    "\n",
    "start = time.time()\n",
    "for i, batch in enumerate(dataloader):\n",
    "    data, label, basename = batch\n",
    "    if i % 100 == 0:\n",
    "        print(data.shape, label.shape, len(basename))\n",
    "\n",
    "print(f'Finished reading all data in {time.time() - start}')\n"
   ]
  },
  {
   "cell_type": "markdown",
   "metadata": {},
   "source": [
    "Finally, remind that you can change anything you want. This includes the Kalaka class. Eventually, you can decide not using it at all and loading the data in some alternative way.  You can inspect the class to find the URLs for downloading the datasets. It is up to you! \n",
    "\n",
    "Before moving to the next stage, you probably want to delete the folders containing the dummy features that you just generated."
   ]
  },
  {
   "cell_type": "markdown",
   "metadata": {},
   "source": [
    "# PART 1 - The baseline (Track 1)\n",
    "The baseline consists of MFCC feature extraction  (based on the `librosa` module) with SDC computation and VAD removal, followed by GMMs of 64 dimensions for each language (using the `sklearn` module). The rest of this notebook contains the guide and code cells (some of them partially incomplete) that permit implementing this baseline and score it on the development set. Read carefully the Markdown information, but also the comments inside the code cells (they provide useful information and hints), and also the code itself. The better you understand it, the easier will be modyfing it."
   ]
  },
  {
   "cell_type": "markdown",
   "metadata": {},
   "source": [
    "## Initialization and importing modules"
   ]
  },
  {
   "cell_type": "code",
   "execution_count": 73,
   "metadata": {},
   "outputs": [],
   "source": [
    "import os\n",
    "from pf_tools import Kalaka\n",
    "import librosa\n",
    "import numpy as np\n",
    "import torch\n",
    "from sklearn.mixture import GaussianMixture\n",
    "from sklearn.neural_network import MLPClassifier, MLPRegressor\n",
    "from sklearn.svm import SVC\n",
    "from sklearn.decomposition import PCA\n",
    "from sklearn.cluster import KMeans\n",
    "from sklearn.metrics import classification_report, accuracy_score, confusion_matrix\n",
    "import matplotlib.pyplot as plt\n",
    "\n",
    "import time\n",
    "import random\n",
    "import datetime\n",
    "from pathlib import Path\n",
    "import pickle\n",
    "import csv \n",
    "from tqdm import tqdm\n",
    "\n",
    "from nn import FeedforwardNetwork, ClassificationDataset\n",
    "import torch.optim as optim\n",
    "import torch.nn as nn\n",
    "\n",
    "from parselmouth import praat\n",
    "\n",
    "GLOBAL_SEED = 35731\n",
    "\n",
    "np.random.seed(GLOBAL_SEED)\n",
    "torch.manual_seed(GLOBAL_SEED)\n",
    "random.seed(GLOBAL_SEED)\n",
    "\n",
    "\n",
    "LANGUAGES = ('Basque',  'Catalan',  'English',  'Galician',  'Portuguese',  'Spanish')\n",
    "LANG2ID = {'Basque':1, 'Catalan':2, 'English':3, 'Galician':4, 'Portuguese':5, 'Spanish':6}\n",
    "ID2LANG = dict((LANG2ID[k],k)for k in LANG2ID)"
   ]
  },
  {
   "cell_type": "markdown",
   "metadata": {},
   "source": [
    "## The baseline feature extraction module\n",
    "The next function extracts MFCCs, but there are plenty of things that can be improved. You are free to change anything you want, including the number of formal parameters, the number of returned expressions, etc. "
   ]
  },
  {
   "cell_type": "code",
   "execution_count": 74,
   "metadata": {},
   "outputs": [],
   "source": [
    "import math\n",
    "# Read carefully this function and understand it\n",
    "def feat_extract(filename, orig_sr=16000, mono=True, n_mfcc = 13, remove_c0=False, delta_order=0, apply_sdc=False, apply_vad=False, apply_cmvn=False,\n",
    "                 num_formants = 0, cluster_order = 0):\n",
    "    \n",
    "    sr=16000\n",
    "    n_mels = 40\n",
    "    n_fft = 512 \n",
    "    hop_length = 160\n",
    "    fmin = 50\n",
    "    fmax = 7800\n",
    "    \n",
    "    if apply_sdc and (delta_order > 0):\n",
    "        raise ValueError(\"Applying SDC and delta > 0 is not compatible\")\n",
    "\n",
    "    # Load audio wav into numpy array\n",
    "    y, _ = librosa.load(filename, sr=orig_sr, mono=mono)\n",
    "    \n",
    "    # Resample in case it's needed\n",
    "    if orig_sr != sr:\n",
    "        y = librosa.resample(y, orig_sr=orig_sr,target_sr=sr)\n",
    "\n",
    "    ## OPTIONAL ADDIDITIONAL STAGES - LAB WORK\n",
    "    # 1 - PREPROCESSING - Typical preprocessing may include normalization of audio (mean removal), \n",
    "    #                       but also speech enhancement and others more complex\n",
    "\n",
    "    # Extract MFFCs\n",
    "    mfcc = librosa.feature.mfcc(y=y, sr=sr, n_fft=n_fft, \n",
    "                                n_mfcc=n_mfcc, n_mels=n_mels, \n",
    "                                hop_length=hop_length, \n",
    "                                fmin=fmin, fmax=fmax, htk=False).T\n",
    "    \n",
    "    ## OPTIONAL ADDIDITIONAL STAGES - LAB WORK\n",
    "\n",
    "    # 2 Compute deltas --> Hint you can use librosa (order size may be a parameter?)\n",
    "    if delta_order > 0:\n",
    "        mfcc = compute_delta(mfcc)\n",
    "    \n",
    "    # 3 SDC --> Hint: You can build this using deltas (of extented context)  \n",
    "    if apply_sdc:\n",
    "        mfcc = compute_sdc(mfcc)\n",
    "    \n",
    "    # Compute formants\n",
    "    if num_formants > 0:\n",
    "        sound = parselmouth.Sound(filename)\n",
    "        formants = praat.call(sound, \"To Formant (burg)\", (hop_length / sr), num_formants, 5500, (n_fft / sr), 50)\n",
    "        all_formants = np.zeros((len(mfcc), num_formants))\n",
    "        for i in range(len(mfcc)):\n",
    "            t = i * (hop_length / sr)\n",
    "            for j in range(num_formants):\n",
    "                all_formants[i, j] = praat.call(formants, \"Get value at time\", j + 1, t, \"Hertz\", \"Linear\")\n",
    "        mfcc = np.concatenate((mfcc, all_formants), axis = 1)\n",
    "        mfcc = np.nan_to_num(mfcc)\n",
    "        \n",
    "    \n",
    "    # 4 COMPUTE VAD --> Hint: You can use any vad (theshold energy, something avaialble in the net, a biGaussian model...).\n",
    "    #                         Coeff0 is highly related with Energy and sometimes it is removed\n",
    "    #                   ATTENTION: Using a VAD may have a significant impact  \n",
    "    if apply_vad:\n",
    "        energy = librosa.feature.rms(y = y, hop_length = hop_length)\n",
    "        mfcc, vad = compute_vad(mfcc, energy = librosa.feature.rms(y = y, hop_length = hop_length).reshape(-1, 1))\n",
    "        mfcc = mfcc[:, 1:]\n",
    "             \n",
    "    # 5 APPLY CMVN --> ATTENTION: Using normalization may have a significant impact\n",
    "    if apply_cmvn:\n",
    "        mfcc = compute_cmvn(mfcc)\n",
    "        \n",
    "    if cluster_order > 0:\n",
    "        mfcc = KMeans(cluster_order).fit(mfcc).cluster_centers_\n",
    "    #print(mfcc)\n",
    "        \n",
    "    \n",
    "    return mfcc, y\n"
   ]
  },
  {
   "cell_type": "markdown",
   "metadata": {},
   "source": [
    "Try to define some or all of the following steps to improve your feature extraction pipeline "
   ]
  },
  {
   "cell_type": "code",
   "execution_count": 75,
   "metadata": {},
   "outputs": [],
   "source": [
    "# Numpy arrays have methods to compute mean and variance, so this one should be really easy\n",
    "def compute_cmvn(features):\n",
    "    # subtract the mean and divide by the variance along each column\n",
    "    if (features.shape[0] == 0):\n",
    "        return features\n",
    "    else:\n",
    "        stddev = np.std(features, axis = 0)\n",
    "        stddev[stddev == 0] = 1\n",
    "        return (features - np.mean(features, axis = 0)) / stddev\n"
   ]
  },
  {
   "cell_type": "code",
   "execution_count": 76,
   "metadata": {},
   "outputs": [],
   "source": [
    "# librosa contains functions to compute deltas\n",
    "def compute_delta(features, win=3, delta_order=2, keep_static=True):\n",
    "    deltas = librosa.feature.delta(features, width = win, order = 1)\n",
    "    for i in range(1, delta_order):\n",
    "        new_delta = librosa.feature.delta(features, width = win, order = i + 1)\n",
    "        deltas = np.concatenate((deltas, new_delta), axis = 1)\n",
    "    if keep_static:\n",
    "        return np.concatenate((features, deltas), axis = 1)\n",
    "    else:\n",
    "        return deltas"
   ]
  },
  {
   "cell_type": "code",
   "execution_count": 77,
   "metadata": {},
   "outputs": [],
   "source": [
    "# Compute deltas and then select previous and next deltas with fixed intervals to cocatentate. \n",
    "# You may need to code a bit here or dinf some function that helps with this\n",
    "def compute_sdc(features, P=3, D=1, K=7, keep_static=True):\n",
    "    N = len(features)\n",
    "    \n",
    "    # need to pad with D zeros before and after (to allow order-1 delta at all vectors)\n",
    "    # need to pad with (K - 1) * P zeros at the end so that the last vector can have the other K - 1 deltas\n",
    "    features_pad = np.pad(features, ((D, D + ((K - 1) * P)), (0, 0)), mode = \"edge\")\n",
    "    \n",
    "    # NOTE: librosa does not allow deltas at a window smaller than 3\n",
    "    deltas = features_pad[2 * D:] - features_pad[0 : -2 * D]\n",
    "    sdc = deltas[:N]\n",
    "    # append the delta vector at distace k * P (k = 1, ..., K - 1)\n",
    "    for k in range(1, K):\n",
    "        sdc = np.concatenate((sdc, deltas[k * P: k * P + N]), axis = 1)\n",
    "        \n",
    "    if keep_static:\n",
    "        return np.concatenate((features, sdc), axis = 1)\n",
    "    else:\n",
    "        return sdc\n"
   ]
  },
  {
   "cell_type": "code",
   "execution_count": 26,
   "metadata": {},
   "outputs": [],
   "source": [
    "# You can think of several strattegies to compute VAD, simple ones based on energy and a threshold, or maybe some more \n",
    "# ellaborated ones, like training a GMM with 2 mixtures with the Energy. \n",
    "# In addition to the features without some frames, this function may return a sequence of 0s and 1s that helps you to validate the method.\n",
    "def compute_vad(features, energy, y=None):\n",
    "    gm = GaussianMixture(n_components = 2, random_state = GLOBAL_SEED).fit(energy)\n",
    "    voiced = np.argmax(gm.means_)\n",
    "    vad = gm.fit_predict(energy)\n",
    "    voiced_features = features[vad == voiced]\n",
    "    return voiced_features, vad"
   ]
  },
  {
   "cell_type": "markdown",
   "metadata": {},
   "source": [
    "You can test in an isolated audio file and inspect the dimensions, verify that your code is doing what is expected, inspect and visualize the data using some of the lessons learnt in LAB1. Also, don't forget to listen some of the examples!!"
   ]
  },
  {
   "cell_type": "code",
   "execution_count": 27,
   "metadata": {},
   "outputs": [],
   "source": [
    "#mfcc_sdc, _ = feat_extract('sample.wav', apply_cmvn=False, apply_sdc=True)\n",
    "#mfcc_dd, _ = feat_extract('sample.wav', apply_cmvn=False, delta_order=2)\n",
    "#mfcc_d, _ = feat_extract('sample.wav', apply_cmvn=False, delta_order=1)\n",
    "#mfcc, y = feat_extract('sample.wav', apply_vad=True, num_formants = 5, cluster_order = 5)\n"
   ]
  },
  {
   "cell_type": "markdown",
   "metadata": {},
   "source": [
    "To run the data processing stage for the train100 partition we will simply instanciate the Kalaka class as mentioned previosly. Take a sit because it can take a bit:"
   ]
  },
  {
   "cell_type": "code",
   "execution_count": 78,
   "metadata": {},
   "outputs": [],
   "source": [
    "sr = 16000\n",
    "sec = 8\n",
    "hop_length = 160\n",
    "vectors_4_sec = int((sr * sec) // hop_length)\n",
    "\n",
    "transform = { 'mfcc_sdc_vad_chunk_300_300' : \n",
    "                 { \n",
    "                     'audio_transform': lambda x : feat_extract(x, orig_sr=16000, mono=True, n_mfcc = 7, apply_sdc=True, apply_vad=True, apply_cmvn=True)[0],\n",
    "                     'chunk_transform': None,\n",
    "                     'chunk_size': 300,\n",
    "                     'chunk_hop':300\n",
    "                 },\n",
    "                 'mfcc13' : \n",
    "                 { \n",
    "                     'audio_transform': lambda x : feat_extract(x, orig_sr=16000, mono=True, n_mfcc = 13, apply_sdc=False, apply_vad=False, apply_cmvn=True)[0],\n",
    "                     'chunk_transform': None,\n",
    "                     'chunk_size': 300,\n",
    "                     'chunk_hop':300\n",
    "                 },\n",
    "                 'mfcc7' : \n",
    "                 { \n",
    "                     'audio_transform': lambda x: feat_extract(x, orig_sr=16000, mono=True, n_mfcc = 7, apply_sdc = False, apply_vad = True, apply_cmvn = True)[0],\n",
    "                     'chunk_transform': None,\n",
    "                     'chunk_size': vectors_4_sec,\n",
    "                     'chunk_hop': vectors_4_sec\n",
    "                 },\n",
    "                 'mfcc7_delta_deltadelta' : \n",
    "                 { \n",
    "                     'audio_transform': lambda x: feat_extract(x, orig_sr=16000, mono=True, n_mfcc = 7, apply_sdc = False, delta_order = 2, apply_vad = True, apply_cmvn = True)[0],\n",
    "                     'chunk_transform': None,\n",
    "                     'chunk_size': vectors_4_sec,\n",
    "                     'chunk_hop': vectors_4_sec\n",
    "                 },\n",
    "                 'mfcc4_formants5_cluster' : \n",
    "                 { \n",
    "                     'audio_transform': lambda x: feat_extract(x, orig_sr=16000, mono=True, n_mfcc = 4, apply_sdc = False, apply_vad = True, apply_cmvn = True, num_formants = 5)[0],\n",
    "                     'chunk_transform': None,\n",
    "                     'chunk_size': 300, \n",
    "                     'chunk_hop': 300, \n",
    "                 },\n",
    "            }\n",
    "\n",
    "\n",
    "trainset = 'train100'\n",
    "transform_id = 'mfcc_sdc_vad_chunk_300_300'\n",
    "\n",
    "trainkalaka = Kalaka(CWD, trainset, \n",
    "                 transform_id=transform_id, \n",
    "                 audio_transform=transform[transform_id]['audio_transform'], \n",
    "                 chunk_transform=transform[transform_id]['chunk_transform'],\n",
    "                 chunk_size=transform[transform_id]['chunk_size'], \n",
    "                 chunk_hop=transform[transform_id]['chunk_hop']\n",
    "                )\n"
   ]
  },
  {
   "cell_type": "raw",
   "metadata": {},
   "source": [
    "Check your current folder, many things happened!! \n",
    "\n",
    "Notice that if you instanciate again the Kalaka class for the 'train100' partition, the data will not be downloaded again. \n",
    "Additionally, if there is already a folder with the name `transform_id`, feature extraction will not run again. You need to delete from your filesystem the folder with the features if you want to run again the feature extraction (using the same identifier) or , alternatively, you can change the identifier. Be careful because you can easily increase the amount of data generated. If you try a feature extraction method that provides bad results, you probably don't want to keep the features in disk."
   ]
  },
  {
   "cell_type": "markdown",
   "metadata": {},
   "source": [
    "## The baseline spoken language models\n",
    "The baseline model is extremely simple: we'll train an individual GMM model for each language on top of the features that we just extracted. Later, in prediction time, given a test audio sample, we'll compute the loglikelihood obtained with each GMM model and select as the identified language the one whose model gives the highest likelihood. Let's go for it!!\n"
   ]
  },
  {
   "cell_type": "code",
   "execution_count": 79,
   "metadata": {},
   "outputs": [
    {
     "name": "stdout",
     "output_type": "stream",
     "text": [
      "(1667100, 55)\n",
      "(1667100,)\n",
      "Finished reading all data in 5.514747858047485\n"
     ]
    }
   ],
   "source": [
    "# IN GMM training each training sample contains more than one frame;\n",
    "# so we cocatenate all data to have all training datain one array \n",
    "# and the corresponding label with same time duration\n",
    "# actually, here the chunking process is useless, \n",
    "#I could have obtained the same without chunking (with slight differences due to trunkation)\n",
    "\n",
    "start = time.time()\n",
    "train_data = []\n",
    "train_labels = []\n",
    "dict_languages = {}\n",
    "for data, label, basename in trainkalaka:\n",
    "    train_data.append(data)\n",
    "    train_labels.append(np.full(data.shape[0], label)) \n",
    "    \n",
    "#train_data = np.concatenate(train_data)\n",
    "#train_labels = np.concatenate(train_labels)\n",
    "#train_basenames = np.concatenate(train_basenames)\n",
    "\n",
    "#new_train_data = []\n",
    "#new_train_labels = []\n",
    "#for basename in basenames:\n",
    "#    vectors = train_data[train_basenames == basename]\n",
    "#    label = train_labels[train_basenames == basename][0]\n",
    "#    vectors_tr = vectors[:len(vectors) - (len(vectors) % 1000)]\n",
    "#    new_vectors = vectors_tr.reshape((-1, 1000, vectors_tr.shape[1]))\n",
    "#    new_train_data.append(new_vectors)\n",
    "#    new_train_labels.append(np.full(new_vectors.shape[0], label - 1))\n",
    "\n",
    "train_data = np.concatenate(train_data)\n",
    "train_labels = np.concatenate(train_labels)\n",
    "\n",
    "print(train_data.shape)\n",
    "print(train_labels.shape)\n",
    "\n",
    "print(f'Finished reading all data in {time.time() - start}')"
   ]
  },
  {
   "cell_type": "markdown",
   "metadata": {},
   "source": [
    "Now we have two arrays containing the complete training dataset and the corresponging reference labels. Check the sizes, may be have a look to the content of one time instant. Do some checks on the data to be sure that everything is as expected:"
   ]
  },
  {
   "cell_type": "code",
   "execution_count": 30,
   "metadata": {},
   "outputs": [],
   "source": [
    "# Check the traininig data. Notice that if you apply VAD, the size of the training data must be smaller than the complete data set. \n",
    "# Register the size in frames and in time of training data for each language\n",
    "#raise CheckThisCell ## <---- Remove this after completeing/checking this cell"
   ]
  },
  {
   "cell_type": "markdown",
   "metadata": {},
   "source": [
    "Let's go training. Again, depending of the amount of data used, the model complexity and computational resources of the machine that you're using, this can take a while. So, relax while the computer works for you!"
   ]
  },
  {
   "cell_type": "code",
   "execution_count": 80,
   "metadata": {},
   "outputs": [
    {
     "name": "stdout",
     "output_type": "stream",
     "text": [
      "(1667100, 55)\n",
      "Training model for Basque\n",
      "Initialization 0\n",
      "  Iteration 1\t time lapse 31.78598s\t ll change inf\n",
      "  Iteration 2\t time lapse 3.92975s\t ll change 4.80636\n",
      "  Iteration 3\t time lapse 4.51427s\t ll change 13.42809\n",
      "  Iteration 4\t time lapse 3.99352s\t ll change 0.13961\n",
      "  Iteration 5\t time lapse 3.63482s\t ll change 0.09577\n",
      "  Iteration 6\t time lapse 4.27168s\t ll change 0.06675\n",
      "  Iteration 7\t time lapse 4.96322s\t ll change 0.04820\n",
      "  Iteration 8\t time lapse 4.18245s\t ll change 0.03668\n",
      "  Iteration 9\t time lapse 3.64023s\t ll change 0.02879\n",
      "  Iteration 10\t time lapse 3.56602s\t ll change 0.02326\n",
      "  Iteration 11\t time lapse 3.67217s\t ll change 0.01948\n",
      "  Iteration 12\t time lapse 3.59014s\t ll change 0.01673\n",
      "  Iteration 13\t time lapse 3.56069s\t ll change 0.01393\n",
      "  Iteration 14\t time lapse 3.62982s\t ll change 0.01115\n",
      "  Iteration 15\t time lapse 4.04787s\t ll change 0.00906\n",
      "  Iteration 16\t time lapse 4.13789s\t ll change 0.00752\n",
      "  Iteration 17\t time lapse 4.03553s\t ll change 0.00642\n",
      "  Iteration 18\t time lapse 3.85889s\t ll change 0.00563\n",
      "  Iteration 19\t time lapse 4.04334s\t ll change 0.00504\n",
      "  Iteration 20\t time lapse 3.56577s\t ll change 0.00459\n",
      "Initialization converged: False\t time lapse 106.62419s\t ll -47.30813\n"
     ]
    },
    {
     "name": "stderr",
     "output_type": "stream",
     "text": [
      "/Users/duartealmeida/miniconda3/envs/PFEnv/lib/python3.11/site-packages/sklearn/mixture/_base.py:274: ConvergenceWarning: Initialization 1 did not converge. Try different init parameters, or increase max_iter, tol or check for degenerate data.\n",
      "  warnings.warn(\n"
     ]
    },
    {
     "name": "stdout",
     "output_type": "stream",
     "text": [
      "Training model for Catalan\n",
      "Initialization 0\n",
      "  Iteration 1\t time lapse 29.81419s\t ll change inf\n",
      "  Iteration 2\t time lapse 5.22834s\t ll change 2.85957\n",
      "  Iteration 3\t time lapse 5.17970s\t ll change 9.08776\n",
      "  Iteration 4\t time lapse 4.95917s\t ll change 2.49831\n",
      "  Iteration 5\t time lapse 5.01347s\t ll change 0.08665\n",
      "  Iteration 6\t time lapse 5.74404s\t ll change 0.06203\n",
      "  Iteration 7\t time lapse 4.60123s\t ll change 0.04214\n",
      "  Iteration 8\t time lapse 4.98623s\t ll change 0.02931\n",
      "  Iteration 9\t time lapse 4.63861s\t ll change 0.02172\n",
      "  Iteration 10\t time lapse 4.78447s\t ll change 0.01689\n",
      "  Iteration 11\t time lapse 5.23107s\t ll change 0.01364\n",
      "  Iteration 12\t time lapse 6.51643s\t ll change 0.01142\n",
      "  Iteration 13\t time lapse 4.94706s\t ll change 0.00982\n",
      "  Iteration 14\t time lapse 5.11287s\t ll change 0.00860\n",
      "  Iteration 15\t time lapse 4.92180s\t ll change 0.00764\n",
      "  Iteration 16\t time lapse 4.90192s\t ll change 0.00684\n",
      "  Iteration 17\t time lapse 4.80879s\t ll change 0.00617\n",
      "  Iteration 18\t time lapse 5.04195s\t ll change 0.00562\n",
      "  Iteration 19\t time lapse 5.85640s\t ll change 0.00515\n",
      "  Iteration 20\t time lapse 6.02198s\t ll change 0.00473\n",
      "Initialization converged: False\t time lapse 128.32495s\t ll -53.26964\n"
     ]
    },
    {
     "name": "stderr",
     "output_type": "stream",
     "text": [
      "/Users/duartealmeida/miniconda3/envs/PFEnv/lib/python3.11/site-packages/sklearn/mixture/_base.py:274: ConvergenceWarning: Initialization 1 did not converge. Try different init parameters, or increase max_iter, tol or check for degenerate data.\n",
      "  warnings.warn(\n"
     ]
    },
    {
     "name": "stdout",
     "output_type": "stream",
     "text": [
      "Training model for English\n",
      "Initialization 0\n",
      "  Iteration 1\t time lapse 25.59637s\t ll change inf\n",
      "  Iteration 2\t time lapse 5.60004s\t ll change 5.19051\n",
      "  Iteration 3\t time lapse 4.20449s\t ll change 12.87902\n",
      "  Iteration 4\t time lapse 4.00986s\t ll change 0.12656\n",
      "  Iteration 5\t time lapse 4.09190s\t ll change 0.08717\n",
      "  Iteration 6\t time lapse 4.79645s\t ll change 0.06269\n",
      "  Iteration 7\t time lapse 3.77121s\t ll change 0.04635\n",
      "  Iteration 8\t time lapse 3.93371s\t ll change 0.03507\n",
      "  Iteration 9\t time lapse 3.98415s\t ll change 0.02770\n",
      "  Iteration 10\t time lapse 3.93669s\t ll change 0.02264\n",
      "  Iteration 11\t time lapse 4.03293s\t ll change 0.01912\n",
      "  Iteration 12\t time lapse 3.79336s\t ll change 0.01652\n",
      "  Iteration 13\t time lapse 3.98731s\t ll change 0.01426\n",
      "  Iteration 14\t time lapse 3.82972s\t ll change 0.01223\n",
      "  Iteration 15\t time lapse 3.88102s\t ll change 0.01060\n",
      "  Iteration 16\t time lapse 3.77623s\t ll change 0.00937\n",
      "  Iteration 17\t time lapse 4.02028s\t ll change 0.00841\n",
      "  Iteration 18\t time lapse 4.19339s\t ll change 0.00760\n",
      "  Iteration 19\t time lapse 3.86935s\t ll change 0.00680\n",
      "  Iteration 20\t time lapse 3.81982s\t ll change 0.00605\n",
      "Initialization converged: False\t time lapse 103.12839s\t ll -48.03855\n"
     ]
    },
    {
     "name": "stderr",
     "output_type": "stream",
     "text": [
      "/Users/duartealmeida/miniconda3/envs/PFEnv/lib/python3.11/site-packages/sklearn/mixture/_base.py:274: ConvergenceWarning: Initialization 1 did not converge. Try different init parameters, or increase max_iter, tol or check for degenerate data.\n",
      "  warnings.warn(\n"
     ]
    },
    {
     "name": "stdout",
     "output_type": "stream",
     "text": [
      "Training model for Galician\n",
      "Initialization 0\n",
      "  Iteration 1\t time lapse 23.18681s\t ll change inf\n",
      "  Iteration 2\t time lapse 3.75764s\t ll change 4.95915\n",
      "  Iteration 3\t time lapse 4.91367s\t ll change 13.05313\n",
      "  Iteration 4\t time lapse 5.62072s\t ll change 0.13952\n",
      "  Iteration 5\t time lapse 5.19337s\t ll change 0.09234\n",
      "  Iteration 6\t time lapse 5.80405s\t ll change 0.06242\n",
      "  Iteration 7\t time lapse 5.37366s\t ll change 0.04488\n",
      "  Iteration 8\t time lapse 5.18569s\t ll change 0.03335\n",
      "  Iteration 9\t time lapse 4.90992s\t ll change 0.02584\n",
      "  Iteration 10\t time lapse 6.66865s\t ll change 0.02074\n",
      "  Iteration 11\t time lapse 5.42248s\t ll change 0.01701\n",
      "  Iteration 12\t time lapse 5.18418s\t ll change 0.01413\n",
      "  Iteration 13\t time lapse 5.08617s\t ll change 0.01191\n",
      "  Iteration 14\t time lapse 5.80284s\t ll change 0.01017\n",
      "  Iteration 15\t time lapse 5.93725s\t ll change 0.00875\n",
      "  Iteration 16\t time lapse 5.13356s\t ll change 0.00762\n",
      "  Iteration 17\t time lapse 6.56617s\t ll change 0.00671\n",
      "  Iteration 18\t time lapse 4.84453s\t ll change 0.00596\n",
      "  Iteration 19\t time lapse 4.77514s\t ll change 0.00535\n",
      "  Iteration 20\t time lapse 4.84791s\t ll change 0.00485\n",
      "Initialization converged: False\t time lapse 124.21456s\t ll -47.88043\n"
     ]
    },
    {
     "name": "stderr",
     "output_type": "stream",
     "text": [
      "/Users/duartealmeida/miniconda3/envs/PFEnv/lib/python3.11/site-packages/sklearn/mixture/_base.py:274: ConvergenceWarning: Initialization 1 did not converge. Try different init parameters, or increase max_iter, tol or check for degenerate data.\n",
      "  warnings.warn(\n"
     ]
    },
    {
     "name": "stdout",
     "output_type": "stream",
     "text": [
      "Training model for Portuguese\n",
      "Initialization 0\n",
      "  Iteration 1\t time lapse 33.03795s\t ll change inf\n",
      "  Iteration 2\t time lapse 4.52537s\t ll change 4.58784\n",
      "  Iteration 3\t time lapse 4.60521s\t ll change 15.84703\n",
      "  Iteration 4\t time lapse 4.92818s\t ll change 0.14979\n",
      "  Iteration 5\t time lapse 4.46853s\t ll change 0.10269\n",
      "  Iteration 6\t time lapse 4.38661s\t ll change 0.06378\n",
      "  Iteration 7\t time lapse 4.35373s\t ll change 0.04333\n",
      "  Iteration 8\t time lapse 6.87170s\t ll change 0.03295\n",
      "  Iteration 9\t time lapse 5.31258s\t ll change 0.02661\n",
      "  Iteration 10\t time lapse 5.33545s\t ll change 0.02184\n",
      "  Iteration 11\t time lapse 5.29727s\t ll change 0.01809\n",
      "  Iteration 12\t time lapse 4.58437s\t ll change 0.01512\n",
      "  Iteration 13\t time lapse 4.55274s\t ll change 0.01274\n",
      "  Iteration 14\t time lapse 4.75982s\t ll change 0.01095\n",
      "  Iteration 15\t time lapse 4.37019s\t ll change 0.00960\n",
      "  Iteration 16\t time lapse 4.12821s\t ll change 0.00854\n",
      "  Iteration 17\t time lapse 4.21490s\t ll change 0.00770\n",
      "  Iteration 18\t time lapse 4.78139s\t ll change 0.00704\n",
      "  Iteration 19\t time lapse 4.35251s\t ll change 0.00651\n",
      "  Iteration 20\t time lapse 4.55060s\t ll change 0.00601\n",
      "Initialization converged: False\t time lapse 123.41749s\t ll -45.13112\n"
     ]
    },
    {
     "name": "stderr",
     "output_type": "stream",
     "text": [
      "/Users/duartealmeida/miniconda3/envs/PFEnv/lib/python3.11/site-packages/sklearn/mixture/_base.py:274: ConvergenceWarning: Initialization 1 did not converge. Try different init parameters, or increase max_iter, tol or check for degenerate data.\n",
      "  warnings.warn(\n"
     ]
    },
    {
     "name": "stdout",
     "output_type": "stream",
     "text": [
      "Training model for Spanish\n",
      "Initialization 0\n",
      "  Iteration 1\t time lapse 37.70812s\t ll change inf\n",
      "  Iteration 2\t time lapse 7.43439s\t ll change 3.43531\n",
      "  Iteration 3\t time lapse 6.59135s\t ll change 8.96249\n",
      "  Iteration 4\t time lapse 5.96142s\t ll change 4.49779\n",
      "  Iteration 5\t time lapse 6.57426s\t ll change 0.08338\n",
      "  Iteration 6\t time lapse 7.22239s\t ll change 0.06265\n",
      "  Iteration 7\t time lapse 6.85546s\t ll change 0.04648\n",
      "  Iteration 8\t time lapse 5.37903s\t ll change 0.03575\n",
      "  Iteration 9\t time lapse 5.49455s\t ll change 0.02739\n",
      "  Iteration 10\t time lapse 6.11373s\t ll change 0.02105\n",
      "  Iteration 11\t time lapse 6.50520s\t ll change 0.01665\n",
      "  Iteration 12\t time lapse 6.54866s\t ll change 0.01378\n",
      "  Iteration 13\t time lapse 6.19952s\t ll change 0.01190\n",
      "  Iteration 14\t time lapse 7.24232s\t ll change 0.01043\n",
      "  Iteration 15\t time lapse 6.66211s\t ll change 0.00919\n",
      "  Iteration 16\t time lapse 5.60204s\t ll change 0.00815\n",
      "  Iteration 17\t time lapse 5.92572s\t ll change 0.00730\n",
      "  Iteration 18\t time lapse 6.85272s\t ll change 0.00659\n",
      "  Iteration 19\t time lapse 5.73248s\t ll change 0.00600\n",
      "  Iteration 20\t time lapse 4.07384s\t ll change 0.00554\n",
      "Initialization converged: False\t time lapse 156.67949s\t ll -50.41562\n"
     ]
    },
    {
     "name": "stderr",
     "output_type": "stream",
     "text": [
      "/Users/duartealmeida/miniconda3/envs/PFEnv/lib/python3.11/site-packages/sklearn/mixture/_base.py:274: ConvergenceWarning: Initialization 1 did not converge. Try different init parameters, or increase max_iter, tol or check for degenerate data.\n",
      "  warnings.warn(\n"
     ]
    }
   ],
   "source": [
    "# TRAIN GMM models (ML) \n",
    "\n",
    "print(train_data.shape)\n",
    "models = {}\n",
    "n_gauss = 128\n",
    "for lang in LANGUAGES:\n",
    "    models[lang] = GaussianMixture(\n",
    "                        n_components=n_gauss, \n",
    "                        covariance_type='diag', \n",
    "                        max_iter=20, n_init=1, \n",
    "                        init_params='kmeans', \n",
    "                        verbose=2, \n",
    "                        verbose_interval=1)\n",
    "    #models[\"not_\" + lang] = GaussianMixture(\n",
    "    #                    n_components=n_gauss, \n",
    "    #                    covariance_type='diag', \n",
    "    #                    max_iter=20, n_init=1, \n",
    "    #                    init_params='kmeans', \n",
    "    #                    verbose=2, \n",
    "    #                    verbose_interval=1)\n",
    "    \n",
    "for lang in LANGUAGES:\n",
    "    print(f'Training model for {lang}')\n",
    "    models[lang].fit(train_data[train_labels==LANG2ID[lang]])\n",
    "    \n",
    "    #print(f'Training model for not {lang}')\n",
    "    #models[\"not_\" + lang].fit(train_data[train_labels!=LANG2ID[lang]])\n",
    "    \n",
    "\n"
   ]
  },
  {
   "cell_type": "markdown",
   "metadata": {},
   "source": [
    "Once the models have been trained, we can store them in disk for later usage. Again, be careful and avoid storing versions of useless models. By default, the model is stored in a folder inside the data partition folder and contains the feature extraction in the name and the date."
   ]
  },
  {
   "cell_type": "code",
   "execution_count": null,
   "metadata": {},
   "outputs": [],
   "source": [
    "# save models     \n",
    "now = str(datetime.datetime.now()).replace(' ','_').split('.')[0]\n",
    "path = Path(CWD) / trainset / 'models'\n",
    "if not os.path.isdir(path):\n",
    "    os.mkdir(path)\n",
    "filename = f'{path}/gmm_{transform_id}_{now}.model'\n",
    "pickle.dump(models, open(filename, 'wb'))"
   ]
  },
  {
   "cell_type": "markdown",
   "metadata": {},
   "source": [
    "You can also check the `sklearn` documentation and inspect the models trained:"
   ]
  },
  {
   "cell_type": "code",
   "execution_count": null,
   "metadata": {},
   "outputs": [],
   "source": [
    "models['Portuguese'].means_.shape"
   ]
  },
  {
   "cell_type": "markdown",
   "metadata": {},
   "source": [
    "## Identification and generation of the predictions file\n",
    "\n",
    "Now that we  already have trained models, let's predict/identify language in new audio data and test our model!!! \n",
    "\n",
    "But first, we need to obtain the development partition and do the feature extraction more or less as previously (using the Kalaka class).\n",
    "\n",
    "**IMPORTANT WARNING** Make sure to use the exact same feature extraction process as the one used for the train set. Otherwise, your model will be in disagreement with your evaluation data, and very likely, will not work at all.\n"
   ]
  },
  {
   "cell_type": "code",
   "execution_count": 81,
   "metadata": {},
   "outputs": [
    {
     "name": "stderr",
     "output_type": "stream",
     "text": [
      "/Users/duartealmeida/PF/Spoken-Language-Processing/lab02/pf_tools.py:91: UserWarning: The feature directory already exists, and no new feature extraction will be performed.\n",
      "  warnings.warn(\"The feature directory already exists, and no new feature extraction will be performed.\")\n"
     ]
    }
   ],
   "source": [
    "# Download and feature extract\n",
    "transform_id = 'mfcc_sdc_vad_chunk_300_300'\n",
    "#transform_id = 'mfcc4_formants5_cluster'\n",
    "\n",
    "# Notice that the chunking is mostly useless both in training and prediction with GMMs: each frame is a sample for which we obtain the probs\n",
    "devkalaka = Kalaka(CWD,'dev', \n",
    "                 transform_id=transform_id, \n",
    "                 audio_transform=transform[transform_id]['audio_transform'], \n",
    "                 chunk_transform=transform[transform_id]['chunk_transform'],\n",
    "                 chunk_size=transform[transform_id]['chunk_size'], \n",
    "                 chunk_hop=transform[transform_id]['chunk_hop']\n",
    "                )"
   ]
  },
  {
   "cell_type": "markdown",
   "metadata": {},
   "source": [
    "Now, we can iterate the data and use the models for scoring:"
   ]
  },
  {
   "cell_type": "code",
   "execution_count": 82,
   "metadata": {},
   "outputs": [
    {
     "name": "stdout",
     "output_type": "stream",
     "text": [
      "Finished reading all data in 11.725980997085571\n"
     ]
    }
   ],
   "source": [
    "start = time.time()\n",
    "dev_data = {}\n",
    "\n",
    "\n",
    "for data, label, basename in devkalaka:\n",
    "        if basename not in dev_data:\n",
    "                dev_data[basename] = {'data':[], 'label':label}\n",
    "        dev_data[basename]['data'].append(data)\n",
    "\n",
    "## We concatenate all the frames belonging to the same filename\n",
    "for basename in dev_data:\n",
    "        dev_data[basename]['data'] = np.concatenate(dev_data[basename]['data'])\n",
    "print(f'Finished reading all data in {time.time() - start}')\n"
   ]
  },
  {
   "cell_type": "code",
   "execution_count": null,
   "metadata": {},
   "outputs": [
    {
     "name": "stderr",
     "output_type": "stream",
     "text": [
      " 62%|████████████████████████████████████████████████████████▏                                  | 565/915 [01:03<00:36,  9.54it/s]"
     ]
    }
   ],
   "source": [
    "start = time.time()\n",
    "\n",
    "results_dev = {}\n",
    "results_dev['ref'] =  np.empty(len(dev_data),dtype=np.int32)\n",
    "results_dev['hyp'] =  np.empty(len(dev_data),dtype=np.int32)\n",
    "results_dev['llhs'] = np.empty((len(dev_data), len(LANGUAGES)), dtype=np.float64)\n",
    "results_dev['fileids'] = list()\n",
    "\n",
    "i = 0\n",
    "for i, fileid in tqdm(enumerate(sorted(dev_data)), total=len(dev_data)):\n",
    "    data = dev_data[fileid][\"data\"]\n",
    "    \n",
    "    results_dev['fileids'].append(fileid)     #fileid\n",
    "    \n",
    "    # obtain the log-likelihood score for each model and store\n",
    "    results_dev['llhs'][i,:] = np.array([models[lang].score(data) for lang in LANGUAGES]) \n",
    "    # store the reference. Notice that I only have this for the dev set, not for the eval\n",
    "    results_dev['ref'][i] = (dev_data[fileid]['label']) #referemce\n",
    "\n",
    "    # Obtain the maximum likelihood languge estimation\n",
    "    ix = np.argmax(results_dev['llhs'][i,:])\n",
    "    results_dev['hyp'][i] = LANG2ID[LANGUAGES[ix]]\n",
    "\n",
    "print(f'Finished predicting all data in {time.time() - start}')\n"
   ]
  },
  {
   "cell_type": "markdown",
   "metadata": {},
   "source": [
    "\n",
    "## Evaluation\n",
    "After running the previous cells, we obtain two arrays with the reference and hypothesis labels, respectively (we can also reload them in case we need them). We can use these to obtain different evaluation metrics and inspect the performance (and potential problems) of our system. Of course, you will only be able to do this evaluation with the development set, since you don't have access to the eval labels."
   ]
  },
  {
   "cell_type": "markdown",
   "metadata": {},
   "source": [
    "You can for instance obtain a classification report summary:"
   ]
  },
  {
   "cell_type": "code",
   "execution_count": null,
   "metadata": {},
   "outputs": [],
   "source": [
    "ref, hyp = results_dev['ref'], results_dev['hyp']\n",
    "print(classification_report(ref, hyp, target_names=LANGUAGES))"
   ]
  },
  {
   "cell_type": "markdown",
   "metadata": {},
   "source": [
    "Overall accuracy (this will be the **main metric for system ranking**):"
   ]
  },
  {
   "cell_type": "code",
   "execution_count": null,
   "metadata": {},
   "outputs": [],
   "source": [
    "accuracy_score(ref, hyp)"
   ]
  },
  {
   "cell_type": "markdown",
   "metadata": {},
   "source": [
    "Or a confusion matrix: "
   ]
  },
  {
   "cell_type": "code",
   "execution_count": null,
   "metadata": {},
   "outputs": [],
   "source": [
    "confusion_matrix(ref, hyp)"
   ]
  },
  {
   "cell_type": "markdown",
   "metadata": {},
   "source": [
    "and visualize it:"
   ]
  },
  {
   "cell_type": "code",
   "execution_count": null,
   "metadata": {},
   "outputs": [],
   "source": [
    "conf_matrix = confusion_matrix(ref, hyp)\n",
    "\n",
    "fig, ax = plt.subplots(figsize=(3.0, 3.0))\n",
    "ax.matshow(conf_matrix, cmap=plt.cm.Blues, alpha=0.3)\n",
    "for i in range(conf_matrix.shape[0]):\n",
    "    for j in range(conf_matrix.shape[1]):\n",
    "        ax.text(x=j, y=i,s=conf_matrix[i, j], va='center', ha='center')\n",
    "\n",
    "plt.xlabel('Predictions', fontsize=12)\n",
    "plt.ylabel('Actuals', fontsize=12)\n",
    "plt.title(f'Confusion Matrix\\n(Accuracy {100*accuracy_score(ref, hyp):.2f})', fontsize=12)\n",
    "plt.show()"
   ]
  },
  {
   "cell_type": "markdown",
   "metadata": {},
   "source": [
    "These results are poor. The baseline system is very limited in several aspects (features, time context, generative model, etc.). For instance, the likelihood scores are not normalized. It may happen, that one model  provides slightly higher scores for some reason. The following trick sometimes increases slightly the results:"
   ]
  },
  {
   "cell_type": "code",
   "execution_count": null,
   "metadata": {},
   "outputs": [],
   "source": [
    "llhs_norm = (results_dev['llhs'] - results_dev['llhs'].mean(axis=0))\n",
    "hyp_norm = np.empty(hyp.shape, like=hyp)\n",
    "for i in range(len(results_dev['fileids'])):\n",
    "    ix = np.argmax(llhs_norm[i,:])\n",
    "    hyp_norm[i] = LANG2ID[LANGUAGES[ix]]\n"
   ]
  },
  {
   "cell_type": "code",
   "execution_count": null,
   "metadata": {},
   "outputs": [],
   "source": [
    "conf_matrix = confusion_matrix(ref, hyp_norm)\n",
    "\n",
    "fig, ax = plt.subplots(figsize=(3.0, 3.0))\n",
    "ax.matshow(conf_matrix, cmap=plt.cm.Blues, alpha=0.3)\n",
    "for i in range(conf_matrix.shape[0]):\n",
    "    for j in range(conf_matrix.shape[1]):\n",
    "        ax.text(x=j, y=i,s=conf_matrix[i, j], va='center', ha='center')\n",
    "\n",
    "plt.xlabel('Predictions', fontsize=12)\n",
    "plt.ylabel('Actuals', fontsize=12)\n",
    "plt.title(f'Confusion Matrix\\n(Accuracy {100*accuracy_score(ref, hyp_norm):.2f})', fontsize=12)\n",
    "plt.show()"
   ]
  },
  {
   "cell_type": "markdown",
   "metadata": {},
   "source": [
    "This \"trick\" is probematic. Can you discuss why? Can you think of an altenative way of doing the same kind of normalization?"
   ]
  },
  {
   "cell_type": "markdown",
   "metadata": {},
   "source": [
    "## Running the prediction on the evl partition\n",
    "\n",
    "Once you are happy with your system and the results obtained in the development set, you are ready to generate the predictions on the `'evl'` partition. To do that, you have to follow the same process as for the development partition, but of course, this time you will not be able to obtain performance results because you don't have labels for this partition. \n",
    "\n",
    "We start by instantiating the `Kalaka` class for the `'evl'` partition:\n"
   ]
  },
  {
   "cell_type": "code",
   "execution_count": null,
   "metadata": {},
   "outputs": [],
   "source": [
    "transform_id = 'mfcc_sdc_vad_chunk_300_300'\n",
    "\n",
    "evlkalaka = Kalaka(CWD,'evl', \n",
    "                 transform_id=transform_id, \n",
    "                 audio_transform=transform[transform_id]['audio_transform'], \n",
    "                 chunk_transform=transform[transform_id]['chunk_transform'],\n",
    "                 chunk_size=transform[transform_id]['chunk_size'], \n",
    "                 chunk_hop=transform[transform_id]['chunk_hop']\n",
    "                )\n"
   ]
  },
  {
   "cell_type": "markdown",
   "metadata": {},
   "source": [
    "Then, we load the evaluation data:"
   ]
  },
  {
   "cell_type": "code",
   "execution_count": null,
   "metadata": {},
   "outputs": [],
   "source": [
    "start = time.time()\n",
    "evl_data = {}\n",
    "\n",
    "for data, label, basename in evlkalaka:\n",
    "        if basename not in evl_data:\n",
    "                evl_data[basename] = {'data':[], 'label':label}\n",
    "        evl_data[basename]['data'].append(data)\n",
    "\n",
    "for basename in evl_data:\n",
    "        evl_data[basename]['data'] = np.concatenate(evl_data[basename]['data'])\n",
    "\n",
    "print(f'Finished reading all data in {time.time() - start}')"
   ]
  },
  {
   "cell_type": "markdown",
   "metadata": {},
   "source": [
    "And apply the model(s) to the new `'evl'` data:"
   ]
  },
  {
   "cell_type": "code",
   "execution_count": null,
   "metadata": {},
   "outputs": [],
   "source": [
    "start = time.time()\n",
    "\n",
    "results_evl = {}\n",
    "results_evl['ref'] =  None\n",
    "results_evl['hyp'] =  np.empty(len(evl_data),dtype=np.int32)\n",
    "results_evl['llhs'] = np.empty((len(evl_data), len(LANGUAGES)), dtype=np.float64)\n",
    "results_evl['fileids'] = list()\n",
    "\n",
    "\n",
    "# Obtain LLH matrix\n",
    "for i, fileid in tqdm(enumerate(sorted(evl_data)), total=len(evl_data)):\n",
    "\n",
    "    data = evl_data[fileid]['data']  # the features\n",
    "    results_evl['fileids'].append(fileid)     #fileid\n",
    "\n",
    "    # obtain the log-likelihood score for each model and store\n",
    "    results_evl['llhs'][i,:] = np.array([models[lang].score(data) for lang in LANGUAGES])\n",
    "\n",
    "    # Obtain the maximum likelihood languge estimation\n",
    "    ix = np.argmax(results_evl['llhs'][i,:])\n",
    "    results_evl['hyp'][i] = LANG2ID[LANGUAGES[ix]]    \n",
    "\n",
    "print(f'Finished predicting all data in {time.time() - start}')"
   ]
  },
  {
   "cell_type": "markdown",
   "metadata": {},
   "source": [
    "## Create the predictions file\n",
    "\n",
    "The predictions file used for submission and scoring is a CSV file containing the predictions of both the `dev` and `evl` partitions.\n",
    "The file has two fields: fileId and Lang. The fileId is the unique audio file identifier and the Lang field is the language prediction (numeric from 1 to 6). The predictions file name must be as follows:\n",
    "\n",
    "`T<X>_G<YY>_<SYSTEMID>.csv` \n",
    "\n",
    "where `<X>` can be 1 or 2 depending on being a system for track 1 or track 2 evaluation; `<YY>` is the students' group number (use 2 digits) and `<SYSTEMID>` is a identifying string for that submission/system."
   ]
  },
  {
   "cell_type": "code",
   "execution_count": null,
   "metadata": {},
   "outputs": [],
   "source": [
    "group, system = '00', 'baseline_train100'\n",
    "with open(f'{os.getcwd()}/T1_G{group}_{system}.csv', 'w') as file:\n",
    "    csv_writer = csv.writer(file) # CSV writer\n",
    "    csv_writer.writerow(('fileId', 'Lang')) # Header of the CSV\n",
    "\n",
    "    # Save dev results\n",
    "    for i in range(len(results_dev['fileids'])):\n",
    "        csv_writer.writerow((results_dev['fileids'][i], results_dev['hyp'][i]))\n",
    "    # Save evl results\n",
    "    for i in range(len(results_evl['fileids'])):\n",
    "        csv_writer.writerow((results_evl['fileids'][i], results_evl['hyp'][i]))"
   ]
  },
  {
   "cell_type": "markdown",
   "metadata": {},
   "source": [
    "## Submit your prediction\n",
    "You can submit your prediction in the following Kaggle competition: https://www.kaggle.com/competitions/speech-processing-lab-2/\n",
    "\n",
    "## What should/can you do next?\n",
    "**Everything!!** Try to extend and improve the feature extraction. Try to play with the parameters. Try completely different feature extraction modules (look for openSMILE, torchaudio,). Try to increase the model complexity. Try different modeling approaches. Try to understand the impact of the different modifications. Once you are happy with your system, try to train on the full set and check the impact of adding data to your system.\n"
   ]
  },
  {
   "cell_type": "markdown",
   "metadata": {},
   "source": [
    "# PART 2 - Using pre-trained embeddings (Track 2)\n",
    "\n",
    "There exist plenty of resources and pre-trained models that can be extremely useful for our task. For instance, x-vectors are currently the state of the art approach to obtain speech embeddings that characterize very efficiently speaker or language, among others. Particularly, the following x-vector model is available and it has been trained using a large corpus of 107 languages for language identification: https://huggingface.co/speechbrain/lang-id-voxlingua107-ecapa\n",
    "\n",
    "You can obtain it from the `speechbrain` module, that you need to install now if you are using Google Colab:\n",
    "\n"
   ]
  },
  {
   "cell_type": "code",
   "execution_count": 32,
   "metadata": {},
   "outputs": [],
   "source": [
    "# If you are using Google Colab, you'll have to install the speechbrain module\n",
    "#raise CheckThisCell ## <---- Remove this after completing/checking this cell\n",
    "#!pip install speechbrain"
   ]
  },
  {
   "cell_type": "markdown",
   "metadata": {},
   "source": [
    "The following code cell imports such model and shows how to obtain an embedding vector:"
   ]
  },
  {
   "cell_type": "code",
   "execution_count": 33,
   "metadata": {},
   "outputs": [
    {
     "name": "stderr",
     "output_type": "stream",
     "text": [
      "torchvision is not available - cannot save figures\n",
      "/Users/duartealmeida/miniconda3/envs/PFEnv/lib/python3.11/site-packages/torch/functional.py:641: UserWarning: stft with return_complex=False is deprecated. In a future pytorch release, stft will return complex tensors for all inputs, and return_complex=False will raise an error.\n",
      "Note: you can still call torch.view_as_real on the complex output to recover the old return format. (Triggered internally at /Users/runner/work/pytorch/pytorch/pytorch/aten/src/ATen/native/SpectralOps.cpp:867.)\n",
      "  return _VF.stft(input, n_fft, hop_length, win_length, window,  # type: ignore[attr-defined]\n"
     ]
    }
   ],
   "source": [
    "import torchaudio\n",
    "import speechbrain\n",
    "\n",
    "from speechbrain.pretrained import EncoderClassifier\n",
    "from torch.nn.utils.rnn import pad_sequence\n",
    "\n",
    "language_id = EncoderClassifier.from_hparams(source=\"speechbrain/lang-id-voxlingua107-ecapa\", savedir=\"tmp\")\n",
    "\n",
    "signal = language_id.load_audio(f'{CWD}/train100/audio/0a5c0729.wav')\n",
    "emb =  language_id.encode_batch(signal)"
   ]
  },
  {
   "cell_type": "markdown",
   "metadata": {},
   "source": [
    "In fact, the model is trained for language identification of 107 languages and we could use it directly for identification:"
   ]
  },
  {
   "cell_type": "code",
   "execution_count": 35,
   "metadata": {},
   "outputs": [],
   "source": [
    "prediction =  language_id.classify_batch(signal)"
   ]
  },
  {
   "cell_type": "markdown",
   "metadata": {},
   "source": [
    "Invest some time to inspect the model and the outputs. Notice that the six target languages are included among the 107. The output indices are: \n",
    "\n",
    "```python\n",
    "XVEC_LANG_INDEX = (24,13,20,29,75,22) \n",
    "```\n",
    "\n",
    "corresponding respectively to the following languages:\n",
    "\n",
    "```python \n",
    "LANGUAGES = ('Basque',  'Catalan',  'English',  'Galician',  'Portuguese',  'Spanish')\n",
    "```\n",
    "\n",
    "Knowing this, it should be easy to obtain the predicted class among the six possible candidates:"
   ]
  },
  {
   "cell_type": "code",
   "execution_count": 67,
   "metadata": {},
   "outputs": [
    {
     "name": "stdout",
     "output_type": "stream",
     "text": [
      "(tensor([[-2.9975e+01, -2.4753e+01, -2.6890e+01, -2.5036e+01, -2.5616e+01,\n",
      "         -2.9381e+01, -2.6129e+01, -2.4117e+01, -2.1818e+01, -2.5811e+01,\n",
      "         -2.7217e+01, -2.1010e+01, -1.9641e+01, -1.1617e+01, -2.8839e+01,\n",
      "         -2.2405e+01, -2.3068e+01, -2.5963e+01, -2.4562e+01, -2.3203e+01,\n",
      "         -2.5318e+01, -2.5335e+01, -1.2961e+01, -2.2991e+01, -1.8358e-05,\n",
      "         -2.4563e+01, -2.2281e+01, -2.2013e+01, -2.4234e+01, -1.1917e+01,\n",
      "         -2.0779e+01, -2.8328e+01, -2.8824e+01, -2.6362e+01, -2.8434e+01,\n",
      "         -2.5956e+01, -2.1831e+01, -2.9302e+01, -2.0622e+01, -2.2650e+01,\n",
      "         -2.1664e+01, -2.3153e+01, -2.3304e+01, -1.6736e+01, -2.2176e+01,\n",
      "         -2.3187e+01, -2.4300e+01, -2.4373e+01, -2.5808e+01, -3.0292e+01,\n",
      "         -2.7065e+01, -2.3673e+01, -2.1856e+01, -2.7216e+01, -2.6991e+01,\n",
      "         -2.7725e+01, -2.4401e+01, -2.3977e+01, -2.5947e+01, -2.5304e+01,\n",
      "         -1.8570e+01, -2.6321e+01, -2.5487e+01, -2.8656e+01, -2.3365e+01,\n",
      "         -2.3755e+01, -2.9803e+01, -2.4354e+01, -2.6542e+01, -2.2383e+01,\n",
      "         -2.4229e+01, -1.5478e+01, -2.5342e+01, -2.2168e+01, -2.2650e+01,\n",
      "         -2.2360e+01, -1.9789e+01, -2.6602e+01, -3.3803e+01, -2.7995e+01,\n",
      "         -2.8686e+01, -2.5382e+01, -2.2458e+01, -2.3041e+01, -2.7549e+01,\n",
      "         -2.5373e+01, -1.9212e+01, -2.2192e+01, -2.7005e+01, -2.4563e+01,\n",
      "         -2.2843e+01, -2.5973e+01, -2.5653e+01, -2.1928e+01, -2.8901e+01,\n",
      "         -2.9568e+01, -2.5699e+01, -2.8488e+01, -2.5253e+01, -2.6160e+01,\n",
      "         -2.7212e+01, -2.3934e+01, -2.5982e+01, -2.8327e+01, -2.7347e+01,\n",
      "         -3.3176e+01, -2.8574e+01]]), tensor([-1.8358e-05]), tensor([24]), ['eu: Basque'])\n"
     ]
    }
   ],
   "source": [
    "XVEC_LANG_INDEX = (24,13,20,29,75,22) \n",
    "\n",
    "# Obtain the predicted class out of the 6 target ones\n",
    "print(prediction)\n",
    "#res = prediction[1][0]"
   ]
  },
  {
   "cell_type": "markdown",
   "metadata": {},
   "source": [
    "## Using the x-vector up-stream model for language ID\n",
    "\n",
    "Let's try first something simple: use the the pre-trained model for idenfication. In this simple test, you don't need to train anyhing simply classify the dev and test sets. To do so, first configure the right transformation for the Kalaka class (one that simply loads the audio without any chunking):"
   ]
  },
  {
   "cell_type": "code",
   "execution_count": 37,
   "metadata": {},
   "outputs": [
    {
     "name": "stderr",
     "output_type": "stream",
     "text": [
      "/Users/duartealmeida/PF/Spoken-Language-Processing/lab02/pf_tools.py:91: UserWarning: The feature directory already exists, and no new feature extraction will be performed.\n",
      "  warnings.warn(\"The feature directory already exists, and no new feature extraction will be performed.\")\n"
     ]
    }
   ],
   "source": [
    "# Confifure the tranformation\n",
    "#raise CheckThisCell ## <---- Remove this after completeing/checking this cell\n",
    "\n",
    "transform = { \n",
    "                'raw_xvec' :\n",
    "                {\n",
    "                    'audio_transform': lambda x: librosa.load(x, sr=16000, mono=True)[0].reshape(-1, 1),\n",
    "                    'chunk_transform': None,\n",
    "                    'chunk_size': 0,\n",
    "                    'chunk_hop':0   \n",
    "                }\n",
    "            }\n",
    "\n",
    "# Download and feature extract\n",
    "transform_id = 'raw_xvec'\n",
    "\n",
    "\n",
    "devkalaka = Kalaka(CWD, 'dev', \n",
    "                 transform_id=transform_id, \n",
    "                 audio_transform=transform[transform_id]['audio_transform'], \n",
    "                 chunk_transform=transform[transform_id]['chunk_transform'],\n",
    "                 chunk_size=transform[transform_id]['chunk_size'], \n",
    "                 chunk_hop=transform[transform_id]['chunk_hop']\n",
    "                )"
   ]
  },
  {
   "cell_type": "markdown",
   "metadata": {},
   "source": [
    "Now you have all the elements to predict langauge using the langID pre-trained model.\n",
    "In case you have access to a GPU, it may be good using a Pytorch Dataloader to batch the dev samples:"
   ]
  },
  {
   "cell_type": "code",
   "execution_count": 38,
   "metadata": {},
   "outputs": [],
   "source": [
    "import torch\n",
    "if torch.cuda.is_available():\n",
    "  device = torch.device('cuda:0')\n",
    "else:\n",
    "  device = torch.device('cpu')"
   ]
  },
  {
   "cell_type": "markdown",
   "metadata": {},
   "source": [
    "Since the audios are of different size, we need to pass an auxiliary function to the dataloader that handles this (by adding 0s). This can be done as follows:"
   ]
  },
  {
   "cell_type": "code",
   "execution_count": 71,
   "metadata": {},
   "outputs": [],
   "source": [
    "def collate_batch(batch): \n",
    "    label_list, audio_list, basename_list, audiolen_list = [], [], [], []\n",
    "\n",
    "    for (_audio,_label, _basename) in batch:\n",
    "        label_list.append(_label)\n",
    "        audio_list.append(torch.tensor(_audio.reshape(-1)))\n",
    "        basename_list.append(_basename)\n",
    "        audiolen_list.append(_audio.shape[0])\n",
    "\n",
    "    label_list = torch.tensor(label_list, dtype=torch.int64)\n",
    "    audio_list = pad_sequence(audio_list, batch_first=True, padding_value=0)\n",
    "    max_len = max(audiolen_list)\n",
    "    audiolen_list = torch.tensor([l/max_len for l in audiolen_list])\n",
    "\n",
    "    return audio_list.to(device),label_list.to(device), basename_list, audiolen_list.to(device)\n",
    "\n",
    "batch_size = 10\n",
    "dataloader = torch.utils.data.DataLoader(\n",
    "        dataset=devkalaka,\n",
    "        batch_size=batch_size,\n",
    "        collate_fn=collate_batch,\n",
    "        shuffle=False  # <-- We want to keep the original order of the dev set\n",
    ")\n"
   ]
  },
  {
   "cell_type": "markdown",
   "metadata": {},
   "source": [
    "Complete the following piece of code to store properly the hypothesis and the reference:"
   ]
  },
  {
   "cell_type": "code",
   "execution_count": 72,
   "metadata": {},
   "outputs": [
    {
     "name": "stderr",
     "output_type": "stream",
     "text": [
      "  0%|                                                                                                      | 0/92 [06:52<?, ?it/s]\n"
     ]
    },
    {
     "ename": "KeyboardInterrupt",
     "evalue": "",
     "output_type": "error",
     "traceback": [
      "\u001b[0;31m---------------------------------------------------------------------------\u001b[0m",
      "\u001b[0;31mKeyboardInterrupt\u001b[0m                         Traceback (most recent call last)",
      "Cell \u001b[0;32mIn[72], line 12\u001b[0m\n\u001b[1;32m     10\u001b[0m \u001b[38;5;28;01mfor\u001b[39;00m i, batch \u001b[38;5;129;01min\u001b[39;00m tqdm(\u001b[38;5;28menumerate\u001b[39m(dataloader), total\u001b[38;5;241m=\u001b[39m\u001b[38;5;241m1\u001b[39m\u001b[38;5;241m+\u001b[39m\u001b[38;5;28mlen\u001b[39m(devkalaka)\u001b[38;5;241m/\u001b[39m\u001b[38;5;241m/\u001b[39mbatch_size):\n\u001b[1;32m     11\u001b[0m     data, label, basename, audiolen \u001b[38;5;241m=\u001b[39m batch\n\u001b[0;32m---> 12\u001b[0m     predictions \u001b[38;5;241m=\u001b[39m language_id\u001b[38;5;241m.\u001b[39mclassify_batch(data, wav_lens\u001b[38;5;241m=\u001b[39maudiolen)\n\u001b[1;32m     14\u001b[0m     \u001b[38;5;66;03m# Complete the code to store the hypothesis (careful if you use argmax, you will ned to add 1 to the predicted class),\u001b[39;00m\n\u001b[1;32m     15\u001b[0m     \u001b[38;5;66;03m# the reference and the fileids. In the call to the prediction method, you should pass the audio length information, so that \u001b[39;00m\n\u001b[1;32m     16\u001b[0m     \u001b[38;5;66;03m# the padded 0s can be ignored\u001b[39;00m\n\u001b[1;32m     17\u001b[0m     results_dev[\u001b[38;5;124m\"\u001b[39m\u001b[38;5;124mhyp\u001b[39m\u001b[38;5;124m\"\u001b[39m]\u001b[38;5;241m.\u001b[39mappend(predictions)\n",
      "File \u001b[0;32m~/miniconda3/envs/PFEnv/lib/python3.11/site-packages/speechbrain/pretrained/interfaces.py:981\u001b[0m, in \u001b[0;36mEncoderClassifier.classify_batch\u001b[0;34m(self, wavs, wav_lens)\u001b[0m\n\u001b[1;32m    952\u001b[0m \u001b[38;5;28;01mdef\u001b[39;00m \u001b[38;5;21mclassify_batch\u001b[39m(\u001b[38;5;28mself\u001b[39m, wavs, wav_lens\u001b[38;5;241m=\u001b[39m\u001b[38;5;28;01mNone\u001b[39;00m):\n\u001b[1;32m    953\u001b[0m \u001b[38;5;250m    \u001b[39m\u001b[38;5;124;03m\"\"\"Performs classification on the top of the encoded features.\u001b[39;00m\n\u001b[1;32m    954\u001b[0m \n\u001b[1;32m    955\u001b[0m \u001b[38;5;124;03m    It returns the posterior probabilities, the index and, if the label\u001b[39;00m\n\u001b[0;32m   (...)\u001b[0m\n\u001b[1;32m    979\u001b[0m \u001b[38;5;124;03m        (label encoder should be provided).\u001b[39;00m\n\u001b[1;32m    980\u001b[0m \u001b[38;5;124;03m    \"\"\"\u001b[39;00m\n\u001b[0;32m--> 981\u001b[0m     emb \u001b[38;5;241m=\u001b[39m \u001b[38;5;28mself\u001b[39m\u001b[38;5;241m.\u001b[39mencode_batch(wavs, wav_lens)\n\u001b[1;32m    982\u001b[0m     out_prob \u001b[38;5;241m=\u001b[39m \u001b[38;5;28mself\u001b[39m\u001b[38;5;241m.\u001b[39mmods\u001b[38;5;241m.\u001b[39mclassifier(emb)\u001b[38;5;241m.\u001b[39msqueeze(\u001b[38;5;241m1\u001b[39m)\n\u001b[1;32m    983\u001b[0m     score, index \u001b[38;5;241m=\u001b[39m torch\u001b[38;5;241m.\u001b[39mmax(out_prob, dim\u001b[38;5;241m=\u001b[39m\u001b[38;5;241m-\u001b[39m\u001b[38;5;241m1\u001b[39m)\n",
      "File \u001b[0;32m~/miniconda3/envs/PFEnv/lib/python3.11/site-packages/speechbrain/pretrained/interfaces.py:945\u001b[0m, in \u001b[0;36mEncoderClassifier.encode_batch\u001b[0;34m(self, wavs, wav_lens, normalize)\u001b[0m\n\u001b[1;32m    943\u001b[0m feats \u001b[38;5;241m=\u001b[39m \u001b[38;5;28mself\u001b[39m\u001b[38;5;241m.\u001b[39mmods\u001b[38;5;241m.\u001b[39mcompute_features(wavs)\n\u001b[1;32m    944\u001b[0m feats \u001b[38;5;241m=\u001b[39m \u001b[38;5;28mself\u001b[39m\u001b[38;5;241m.\u001b[39mmods\u001b[38;5;241m.\u001b[39mmean_var_norm(feats, wav_lens)\n\u001b[0;32m--> 945\u001b[0m embeddings \u001b[38;5;241m=\u001b[39m \u001b[38;5;28mself\u001b[39m\u001b[38;5;241m.\u001b[39mmods\u001b[38;5;241m.\u001b[39membedding_model(feats, wav_lens)\n\u001b[1;32m    946\u001b[0m \u001b[38;5;28;01mif\u001b[39;00m normalize:\n\u001b[1;32m    947\u001b[0m     embeddings \u001b[38;5;241m=\u001b[39m \u001b[38;5;28mself\u001b[39m\u001b[38;5;241m.\u001b[39mhparams\u001b[38;5;241m.\u001b[39mmean_var_norm_emb(\n\u001b[1;32m    948\u001b[0m         embeddings, torch\u001b[38;5;241m.\u001b[39mones(embeddings\u001b[38;5;241m.\u001b[39mshape[\u001b[38;5;241m0\u001b[39m], device\u001b[38;5;241m=\u001b[39m\u001b[38;5;28mself\u001b[39m\u001b[38;5;241m.\u001b[39mdevice)\n\u001b[1;32m    949\u001b[0m     )\n",
      "File \u001b[0;32m~/miniconda3/envs/PFEnv/lib/python3.11/site-packages/torch/nn/modules/module.py:1501\u001b[0m, in \u001b[0;36mModule._call_impl\u001b[0;34m(self, *args, **kwargs)\u001b[0m\n\u001b[1;32m   1496\u001b[0m \u001b[38;5;66;03m# If we don't have any hooks, we want to skip the rest of the logic in\u001b[39;00m\n\u001b[1;32m   1497\u001b[0m \u001b[38;5;66;03m# this function, and just call forward.\u001b[39;00m\n\u001b[1;32m   1498\u001b[0m \u001b[38;5;28;01mif\u001b[39;00m \u001b[38;5;129;01mnot\u001b[39;00m (\u001b[38;5;28mself\u001b[39m\u001b[38;5;241m.\u001b[39m_backward_hooks \u001b[38;5;129;01mor\u001b[39;00m \u001b[38;5;28mself\u001b[39m\u001b[38;5;241m.\u001b[39m_backward_pre_hooks \u001b[38;5;129;01mor\u001b[39;00m \u001b[38;5;28mself\u001b[39m\u001b[38;5;241m.\u001b[39m_forward_hooks \u001b[38;5;129;01mor\u001b[39;00m \u001b[38;5;28mself\u001b[39m\u001b[38;5;241m.\u001b[39m_forward_pre_hooks\n\u001b[1;32m   1499\u001b[0m         \u001b[38;5;129;01mor\u001b[39;00m _global_backward_pre_hooks \u001b[38;5;129;01mor\u001b[39;00m _global_backward_hooks\n\u001b[1;32m   1500\u001b[0m         \u001b[38;5;129;01mor\u001b[39;00m _global_forward_hooks \u001b[38;5;129;01mor\u001b[39;00m _global_forward_pre_hooks):\n\u001b[0;32m-> 1501\u001b[0m     \u001b[38;5;28;01mreturn\u001b[39;00m forward_call(\u001b[38;5;241m*\u001b[39margs, \u001b[38;5;241m*\u001b[39m\u001b[38;5;241m*\u001b[39mkwargs)\n\u001b[1;32m   1502\u001b[0m \u001b[38;5;66;03m# Do not call functions when jit is used\u001b[39;00m\n\u001b[1;32m   1503\u001b[0m full_backward_hooks, non_full_backward_hooks \u001b[38;5;241m=\u001b[39m [], []\n",
      "File \u001b[0;32m~/miniconda3/envs/PFEnv/lib/python3.11/site-packages/speechbrain/lobes/models/ECAPA_TDNN.py:498\u001b[0m, in \u001b[0;36mECAPA_TDNN.forward\u001b[0;34m(self, x, lengths)\u001b[0m\n\u001b[1;32m    495\u001b[0m x \u001b[38;5;241m=\u001b[39m \u001b[38;5;28mself\u001b[39m\u001b[38;5;241m.\u001b[39mmfa(x)\n\u001b[1;32m    497\u001b[0m \u001b[38;5;66;03m# Attentive Statistical Pooling\u001b[39;00m\n\u001b[0;32m--> 498\u001b[0m x \u001b[38;5;241m=\u001b[39m \u001b[38;5;28mself\u001b[39m\u001b[38;5;241m.\u001b[39masp(x, lengths\u001b[38;5;241m=\u001b[39mlengths)\n\u001b[1;32m    499\u001b[0m x \u001b[38;5;241m=\u001b[39m \u001b[38;5;28mself\u001b[39m\u001b[38;5;241m.\u001b[39masp_bn(x)\n\u001b[1;32m    501\u001b[0m \u001b[38;5;66;03m# Final linear transformation\u001b[39;00m\n",
      "File \u001b[0;32m~/miniconda3/envs/PFEnv/lib/python3.11/site-packages/torch/nn/modules/module.py:1501\u001b[0m, in \u001b[0;36mModule._call_impl\u001b[0;34m(self, *args, **kwargs)\u001b[0m\n\u001b[1;32m   1496\u001b[0m \u001b[38;5;66;03m# If we don't have any hooks, we want to skip the rest of the logic in\u001b[39;00m\n\u001b[1;32m   1497\u001b[0m \u001b[38;5;66;03m# this function, and just call forward.\u001b[39;00m\n\u001b[1;32m   1498\u001b[0m \u001b[38;5;28;01mif\u001b[39;00m \u001b[38;5;129;01mnot\u001b[39;00m (\u001b[38;5;28mself\u001b[39m\u001b[38;5;241m.\u001b[39m_backward_hooks \u001b[38;5;129;01mor\u001b[39;00m \u001b[38;5;28mself\u001b[39m\u001b[38;5;241m.\u001b[39m_backward_pre_hooks \u001b[38;5;129;01mor\u001b[39;00m \u001b[38;5;28mself\u001b[39m\u001b[38;5;241m.\u001b[39m_forward_hooks \u001b[38;5;129;01mor\u001b[39;00m \u001b[38;5;28mself\u001b[39m\u001b[38;5;241m.\u001b[39m_forward_pre_hooks\n\u001b[1;32m   1499\u001b[0m         \u001b[38;5;129;01mor\u001b[39;00m _global_backward_pre_hooks \u001b[38;5;129;01mor\u001b[39;00m _global_backward_hooks\n\u001b[1;32m   1500\u001b[0m         \u001b[38;5;129;01mor\u001b[39;00m _global_forward_hooks \u001b[38;5;129;01mor\u001b[39;00m _global_forward_pre_hooks):\n\u001b[0;32m-> 1501\u001b[0m     \u001b[38;5;28;01mreturn\u001b[39;00m forward_call(\u001b[38;5;241m*\u001b[39margs, \u001b[38;5;241m*\u001b[39m\u001b[38;5;241m*\u001b[39mkwargs)\n\u001b[1;32m   1502\u001b[0m \u001b[38;5;66;03m# Do not call functions when jit is used\u001b[39;00m\n\u001b[1;32m   1503\u001b[0m full_backward_hooks, non_full_backward_hooks \u001b[38;5;241m=\u001b[39m [], []\n",
      "File \u001b[0;32m~/miniconda3/envs/PFEnv/lib/python3.11/site-packages/speechbrain/lobes/models/ECAPA_TDNN.py:271\u001b[0m, in \u001b[0;36mAttentiveStatisticsPooling.forward\u001b[0;34m(self, x, lengths)\u001b[0m\n\u001b[1;32m    268\u001b[0m     attn \u001b[38;5;241m=\u001b[39m x\n\u001b[1;32m    270\u001b[0m \u001b[38;5;66;03m# Apply layers\u001b[39;00m\n\u001b[0;32m--> 271\u001b[0m attn \u001b[38;5;241m=\u001b[39m \u001b[38;5;28mself\u001b[39m\u001b[38;5;241m.\u001b[39mconv(\u001b[38;5;28mself\u001b[39m\u001b[38;5;241m.\u001b[39mtanh(\u001b[38;5;28mself\u001b[39m\u001b[38;5;241m.\u001b[39mtdnn(attn)))\n\u001b[1;32m    273\u001b[0m \u001b[38;5;66;03m# Filter out zero-paddings\u001b[39;00m\n\u001b[1;32m    274\u001b[0m attn \u001b[38;5;241m=\u001b[39m attn\u001b[38;5;241m.\u001b[39mmasked_fill(mask \u001b[38;5;241m==\u001b[39m \u001b[38;5;241m0\u001b[39m, \u001b[38;5;28mfloat\u001b[39m(\u001b[38;5;124m\"\u001b[39m\u001b[38;5;124m-inf\u001b[39m\u001b[38;5;124m\"\u001b[39m))\n",
      "File \u001b[0;32m~/miniconda3/envs/PFEnv/lib/python3.11/site-packages/torch/nn/modules/module.py:1501\u001b[0m, in \u001b[0;36mModule._call_impl\u001b[0;34m(self, *args, **kwargs)\u001b[0m\n\u001b[1;32m   1496\u001b[0m \u001b[38;5;66;03m# If we don't have any hooks, we want to skip the rest of the logic in\u001b[39;00m\n\u001b[1;32m   1497\u001b[0m \u001b[38;5;66;03m# this function, and just call forward.\u001b[39;00m\n\u001b[1;32m   1498\u001b[0m \u001b[38;5;28;01mif\u001b[39;00m \u001b[38;5;129;01mnot\u001b[39;00m (\u001b[38;5;28mself\u001b[39m\u001b[38;5;241m.\u001b[39m_backward_hooks \u001b[38;5;129;01mor\u001b[39;00m \u001b[38;5;28mself\u001b[39m\u001b[38;5;241m.\u001b[39m_backward_pre_hooks \u001b[38;5;129;01mor\u001b[39;00m \u001b[38;5;28mself\u001b[39m\u001b[38;5;241m.\u001b[39m_forward_hooks \u001b[38;5;129;01mor\u001b[39;00m \u001b[38;5;28mself\u001b[39m\u001b[38;5;241m.\u001b[39m_forward_pre_hooks\n\u001b[1;32m   1499\u001b[0m         \u001b[38;5;129;01mor\u001b[39;00m _global_backward_pre_hooks \u001b[38;5;129;01mor\u001b[39;00m _global_backward_hooks\n\u001b[1;32m   1500\u001b[0m         \u001b[38;5;129;01mor\u001b[39;00m _global_forward_hooks \u001b[38;5;129;01mor\u001b[39;00m _global_forward_pre_hooks):\n\u001b[0;32m-> 1501\u001b[0m     \u001b[38;5;28;01mreturn\u001b[39;00m forward_call(\u001b[38;5;241m*\u001b[39margs, \u001b[38;5;241m*\u001b[39m\u001b[38;5;241m*\u001b[39mkwargs)\n\u001b[1;32m   1502\u001b[0m \u001b[38;5;66;03m# Do not call functions when jit is used\u001b[39;00m\n\u001b[1;32m   1503\u001b[0m full_backward_hooks, non_full_backward_hooks \u001b[38;5;241m=\u001b[39m [], []\n",
      "File \u001b[0;32m~/miniconda3/envs/PFEnv/lib/python3.11/site-packages/speechbrain/lobes/models/ECAPA_TDNN.py:81\u001b[0m, in \u001b[0;36mTDNNBlock.forward\u001b[0;34m(self, x)\u001b[0m\n\u001b[1;32m     79\u001b[0m \u001b[38;5;28;01mdef\u001b[39;00m \u001b[38;5;21mforward\u001b[39m(\u001b[38;5;28mself\u001b[39m, x):\n\u001b[1;32m     80\u001b[0m \u001b[38;5;250m    \u001b[39m\u001b[38;5;124;03m\"\"\" Processes the input tensor x and returns an output tensor.\"\"\"\u001b[39;00m\n\u001b[0;32m---> 81\u001b[0m     \u001b[38;5;28;01mreturn\u001b[39;00m \u001b[38;5;28mself\u001b[39m\u001b[38;5;241m.\u001b[39mnorm(\u001b[38;5;28mself\u001b[39m\u001b[38;5;241m.\u001b[39mactivation(\u001b[38;5;28mself\u001b[39m\u001b[38;5;241m.\u001b[39mconv(x)))\n",
      "File \u001b[0;32m~/miniconda3/envs/PFEnv/lib/python3.11/site-packages/torch/nn/modules/module.py:1501\u001b[0m, in \u001b[0;36mModule._call_impl\u001b[0;34m(self, *args, **kwargs)\u001b[0m\n\u001b[1;32m   1496\u001b[0m \u001b[38;5;66;03m# If we don't have any hooks, we want to skip the rest of the logic in\u001b[39;00m\n\u001b[1;32m   1497\u001b[0m \u001b[38;5;66;03m# this function, and just call forward.\u001b[39;00m\n\u001b[1;32m   1498\u001b[0m \u001b[38;5;28;01mif\u001b[39;00m \u001b[38;5;129;01mnot\u001b[39;00m (\u001b[38;5;28mself\u001b[39m\u001b[38;5;241m.\u001b[39m_backward_hooks \u001b[38;5;129;01mor\u001b[39;00m \u001b[38;5;28mself\u001b[39m\u001b[38;5;241m.\u001b[39m_backward_pre_hooks \u001b[38;5;129;01mor\u001b[39;00m \u001b[38;5;28mself\u001b[39m\u001b[38;5;241m.\u001b[39m_forward_hooks \u001b[38;5;129;01mor\u001b[39;00m \u001b[38;5;28mself\u001b[39m\u001b[38;5;241m.\u001b[39m_forward_pre_hooks\n\u001b[1;32m   1499\u001b[0m         \u001b[38;5;129;01mor\u001b[39;00m _global_backward_pre_hooks \u001b[38;5;129;01mor\u001b[39;00m _global_backward_hooks\n\u001b[1;32m   1500\u001b[0m         \u001b[38;5;129;01mor\u001b[39;00m _global_forward_hooks \u001b[38;5;129;01mor\u001b[39;00m _global_forward_pre_hooks):\n\u001b[0;32m-> 1501\u001b[0m     \u001b[38;5;28;01mreturn\u001b[39;00m forward_call(\u001b[38;5;241m*\u001b[39margs, \u001b[38;5;241m*\u001b[39m\u001b[38;5;241m*\u001b[39mkwargs)\n\u001b[1;32m   1502\u001b[0m \u001b[38;5;66;03m# Do not call functions when jit is used\u001b[39;00m\n\u001b[1;32m   1503\u001b[0m full_backward_hooks, non_full_backward_hooks \u001b[38;5;241m=\u001b[39m [], []\n",
      "File \u001b[0;32m~/miniconda3/envs/PFEnv/lib/python3.11/site-packages/speechbrain/nnet/CNN.py:439\u001b[0m, in \u001b[0;36mConv1d.forward\u001b[0;34m(self, x)\u001b[0m\n\u001b[1;32m    433\u001b[0m \u001b[38;5;28;01melse\u001b[39;00m:\n\u001b[1;32m    434\u001b[0m     \u001b[38;5;28;01mraise\u001b[39;00m \u001b[38;5;167;01mValueError\u001b[39;00m(\n\u001b[1;32m    435\u001b[0m         \u001b[38;5;124m\"\u001b[39m\u001b[38;5;124mPadding must be \u001b[39m\u001b[38;5;124m'\u001b[39m\u001b[38;5;124msame\u001b[39m\u001b[38;5;124m'\u001b[39m\u001b[38;5;124m, \u001b[39m\u001b[38;5;124m'\u001b[39m\u001b[38;5;124mvalid\u001b[39m\u001b[38;5;124m'\u001b[39m\u001b[38;5;124m or \u001b[39m\u001b[38;5;124m'\u001b[39m\u001b[38;5;124mcausal\u001b[39m\u001b[38;5;124m'\u001b[39m\u001b[38;5;124m. Got \u001b[39m\u001b[38;5;124m\"\u001b[39m\n\u001b[1;32m    436\u001b[0m         \u001b[38;5;241m+\u001b[39m \u001b[38;5;28mself\u001b[39m\u001b[38;5;241m.\u001b[39mpadding\n\u001b[1;32m    437\u001b[0m     )\n\u001b[0;32m--> 439\u001b[0m wx \u001b[38;5;241m=\u001b[39m \u001b[38;5;28mself\u001b[39m\u001b[38;5;241m.\u001b[39mconv(x)\n\u001b[1;32m    441\u001b[0m \u001b[38;5;28;01mif\u001b[39;00m \u001b[38;5;28mself\u001b[39m\u001b[38;5;241m.\u001b[39munsqueeze:\n\u001b[1;32m    442\u001b[0m     wx \u001b[38;5;241m=\u001b[39m wx\u001b[38;5;241m.\u001b[39msqueeze(\u001b[38;5;241m1\u001b[39m)\n",
      "File \u001b[0;32m~/miniconda3/envs/PFEnv/lib/python3.11/site-packages/torch/nn/modules/module.py:1501\u001b[0m, in \u001b[0;36mModule._call_impl\u001b[0;34m(self, *args, **kwargs)\u001b[0m\n\u001b[1;32m   1496\u001b[0m \u001b[38;5;66;03m# If we don't have any hooks, we want to skip the rest of the logic in\u001b[39;00m\n\u001b[1;32m   1497\u001b[0m \u001b[38;5;66;03m# this function, and just call forward.\u001b[39;00m\n\u001b[1;32m   1498\u001b[0m \u001b[38;5;28;01mif\u001b[39;00m \u001b[38;5;129;01mnot\u001b[39;00m (\u001b[38;5;28mself\u001b[39m\u001b[38;5;241m.\u001b[39m_backward_hooks \u001b[38;5;129;01mor\u001b[39;00m \u001b[38;5;28mself\u001b[39m\u001b[38;5;241m.\u001b[39m_backward_pre_hooks \u001b[38;5;129;01mor\u001b[39;00m \u001b[38;5;28mself\u001b[39m\u001b[38;5;241m.\u001b[39m_forward_hooks \u001b[38;5;129;01mor\u001b[39;00m \u001b[38;5;28mself\u001b[39m\u001b[38;5;241m.\u001b[39m_forward_pre_hooks\n\u001b[1;32m   1499\u001b[0m         \u001b[38;5;129;01mor\u001b[39;00m _global_backward_pre_hooks \u001b[38;5;129;01mor\u001b[39;00m _global_backward_hooks\n\u001b[1;32m   1500\u001b[0m         \u001b[38;5;129;01mor\u001b[39;00m _global_forward_hooks \u001b[38;5;129;01mor\u001b[39;00m _global_forward_pre_hooks):\n\u001b[0;32m-> 1501\u001b[0m     \u001b[38;5;28;01mreturn\u001b[39;00m forward_call(\u001b[38;5;241m*\u001b[39margs, \u001b[38;5;241m*\u001b[39m\u001b[38;5;241m*\u001b[39mkwargs)\n\u001b[1;32m   1502\u001b[0m \u001b[38;5;66;03m# Do not call functions when jit is used\u001b[39;00m\n\u001b[1;32m   1503\u001b[0m full_backward_hooks, non_full_backward_hooks \u001b[38;5;241m=\u001b[39m [], []\n",
      "File \u001b[0;32m~/miniconda3/envs/PFEnv/lib/python3.11/site-packages/torch/nn/modules/conv.py:313\u001b[0m, in \u001b[0;36mConv1d.forward\u001b[0;34m(self, input)\u001b[0m\n\u001b[1;32m    312\u001b[0m \u001b[38;5;28;01mdef\u001b[39;00m \u001b[38;5;21mforward\u001b[39m(\u001b[38;5;28mself\u001b[39m, \u001b[38;5;28minput\u001b[39m: Tensor) \u001b[38;5;241m-\u001b[39m\u001b[38;5;241m>\u001b[39m Tensor:\n\u001b[0;32m--> 313\u001b[0m     \u001b[38;5;28;01mreturn\u001b[39;00m \u001b[38;5;28mself\u001b[39m\u001b[38;5;241m.\u001b[39m_conv_forward(\u001b[38;5;28minput\u001b[39m, \u001b[38;5;28mself\u001b[39m\u001b[38;5;241m.\u001b[39mweight, \u001b[38;5;28mself\u001b[39m\u001b[38;5;241m.\u001b[39mbias)\n",
      "File \u001b[0;32m~/miniconda3/envs/PFEnv/lib/python3.11/site-packages/torch/nn/modules/conv.py:309\u001b[0m, in \u001b[0;36mConv1d._conv_forward\u001b[0;34m(self, input, weight, bias)\u001b[0m\n\u001b[1;32m    305\u001b[0m \u001b[38;5;28;01mif\u001b[39;00m \u001b[38;5;28mself\u001b[39m\u001b[38;5;241m.\u001b[39mpadding_mode \u001b[38;5;241m!=\u001b[39m \u001b[38;5;124m'\u001b[39m\u001b[38;5;124mzeros\u001b[39m\u001b[38;5;124m'\u001b[39m:\n\u001b[1;32m    306\u001b[0m     \u001b[38;5;28;01mreturn\u001b[39;00m F\u001b[38;5;241m.\u001b[39mconv1d(F\u001b[38;5;241m.\u001b[39mpad(\u001b[38;5;28minput\u001b[39m, \u001b[38;5;28mself\u001b[39m\u001b[38;5;241m.\u001b[39m_reversed_padding_repeated_twice, mode\u001b[38;5;241m=\u001b[39m\u001b[38;5;28mself\u001b[39m\u001b[38;5;241m.\u001b[39mpadding_mode),\n\u001b[1;32m    307\u001b[0m                     weight, bias, \u001b[38;5;28mself\u001b[39m\u001b[38;5;241m.\u001b[39mstride,\n\u001b[1;32m    308\u001b[0m                     _single(\u001b[38;5;241m0\u001b[39m), \u001b[38;5;28mself\u001b[39m\u001b[38;5;241m.\u001b[39mdilation, \u001b[38;5;28mself\u001b[39m\u001b[38;5;241m.\u001b[39mgroups)\n\u001b[0;32m--> 309\u001b[0m \u001b[38;5;28;01mreturn\u001b[39;00m F\u001b[38;5;241m.\u001b[39mconv1d(\u001b[38;5;28minput\u001b[39m, weight, bias, \u001b[38;5;28mself\u001b[39m\u001b[38;5;241m.\u001b[39mstride,\n\u001b[1;32m    310\u001b[0m                 \u001b[38;5;28mself\u001b[39m\u001b[38;5;241m.\u001b[39mpadding, \u001b[38;5;28mself\u001b[39m\u001b[38;5;241m.\u001b[39mdilation, \u001b[38;5;28mself\u001b[39m\u001b[38;5;241m.\u001b[39mgroups)\n",
      "\u001b[0;31mKeyboardInterrupt\u001b[0m: "
     ]
    }
   ],
   "source": [
    "import time\n",
    "from tqdm import tqdm\n",
    "start = time.time()\n",
    "\n",
    "results_dev = {}\n",
    "results_dev['ref'] =  []\n",
    "results_dev['hyp'] =  []\n",
    "results_dev['fileids'] = [] \n",
    "\n",
    "for i, batch in tqdm(enumerate(dataloader), total=1+len(devkalaka)//batch_size):\n",
    "    data, label, basename, audiolen = batch\n",
    "    predictions = language_id.classify_batch(data, wav_lens=audiolen)\n",
    "    \n",
    "    # Complete the code to store the hypothesis (careful if you use argmax, you will ned to add 1 to the predicted class),\n",
    "    # the reference and the fileids. In the call to the prediction method, you should pass the audio length information, so that \n",
    "    # the padded 0s can be ignored\n",
    "    results_dev[\"hyp\"].append(predictions)\n",
    "    results_dev[\"ref\"].append(labels)\n",
    "    results_dev[\"fileids\"].append(basename)\n",
    "    #raise CheckThisCell ## <---- Remove this after completeing/checking this cell\n",
    "    \n",
    "print(f'Finished preocessing all data in {time.time() - start}')"
   ]
  },
  {
   "cell_type": "markdown",
   "metadata": {},
   "source": [
    "And now let's see how well this model behaves on our dev partition:"
   ]
  },
  {
   "cell_type": "code",
   "execution_count": null,
   "metadata": {},
   "outputs": [],
   "source": [
    "ref, hyp = results_dev['ref'], results_dev['hyp']\n",
    "\n",
    "conf_matrix = confusion_matrix(ref, hyp)\n",
    "\n",
    "fig, ax = plt.subplots(figsize=(3.0, 3.0))\n",
    "ax.matshow(conf_matrix, cmap=plt.cm.Blues, alpha=0.3)\n",
    "for i in range(conf_matrix.shape[0]):\n",
    "    for j in range(conf_matrix.shape[1]):\n",
    "        ax.text(x=j, y=i,s=conf_matrix[i, j], va='center', ha='center')\n",
    "\n",
    "plt.xlabel('Predictions', fontsize=12)\n",
    "plt.ylabel('Actuals', fontsize=12)\n",
    "plt.title(f'Confusion Matrix\\n(Accuracy {100*accuracy_score(ref, hyp):.2f})', fontsize=12)\n",
    "plt.show()"
   ]
  },
  {
   "cell_type": "markdown",
   "metadata": {},
   "source": [
    "That was pretty impressive, right!?! And  easier than Part I of this lab! \n",
    "\n",
    "Well, here comes some bad news: you can not use this langid classifier in the challenge. However, you can use the pre-trained x-vector embeddings as a feature extractor to train your language classification system (may be a simple K-means on top of the x-vectors work well). You can also try to change the classification head of the x-vector model and fine-tune with the challenge data. You have plenty of options, but remember, any system that use these pre-trained embeddings (or any similar ones) are only valid for the Track 2 of the Challenge and the prediction file should be  namedlike this: `T2_G<YY>_<SYSTEMID>.csv` \n",
    "\n"
   ]
  },
  {
   "cell_type": "markdown",
   "metadata": {},
   "source": [
    "# What should you deliver at the end of this lab assignment?\n",
    "You should deliver the following three elements:\n",
    "- You must submit at least one prediction file to the Kaggle competition in the format previously described: https://www.kaggle.com/competitions/speech-processing-lab-2/\n",
    "- You must submit (via Fênix) the modified notebook (or code) of your proposed systems(s).\n",
    "- You must submit a report (via Fênix) of maximum 2 pages describing your system, approaches (may be unsuccesful), lessons learnt, results on the dev partition, etc. You can use the following Overleaf template for the report: https://www.overleaf.com/latex/templates/interspeech-2023-paper-kit/kzcdqdmkqvbr"
   ]
  },
  {
   "cell_type": "markdown",
   "metadata": {},
   "source": [
    "# Contacts and support\n",
    "You can contact the professors during the classes or the office hours.\n",
    "\n",
    "Particularly, for this second laboratory assignment, you should contact Prof. Alberto Abad: alberto.abad@tecnico.ulisboa.pt\n",
    "\n",
    "\n",
    "\n"
   ]
  },
  {
   "cell_type": "markdown",
   "metadata": {},
   "source": []
  }
 ],
 "metadata": {
  "kernelspec": {
   "display_name": "Python 3 (ipykernel)",
   "language": "python",
   "name": "python3"
  },
  "language_info": {
   "codemirror_mode": {
    "name": "ipython",
    "version": 3
   },
   "file_extension": ".py",
   "mimetype": "text/x-python",
   "name": "python",
   "nbconvert_exporter": "python",
   "pygments_lexer": "ipython3",
   "version": "3.11.3"
  }
 },
 "nbformat": 4,
 "nbformat_minor": 2
}
