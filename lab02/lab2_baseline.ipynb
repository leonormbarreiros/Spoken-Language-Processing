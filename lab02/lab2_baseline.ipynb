{
 "cells": [
  {
   "cell_type": "markdown",
   "metadata": {},
   "source": [
    "# Speech Processing - Instituto Superior Técnico\n",
    "### Laboratory Assignment 2 - Spoken Language Indentification challenge\n",
    "\n",
    "The second laboratory assignment of the course is designed to simulate a **spoken language identification** challenge. In this challenge, partipants (a.k.a students enrolled in the course) receive a train, development and evaluation (blind) data set, and a simple (and weak) baseline system for the task at hand: closed-set identification of the spoken language in a given audio file out of a set of six target langauges: Basque,  Catalan,  English,  Galician,  Portuguese and  Spanish.\n",
    "\n",
    "The **goal** for each participant is to develop/build the best spoken language identification system. To this end, participants are encouraged to modify this baseline, incorporate any other techniques and in general explore any approach that permit  improving their results.\n",
    "\n",
    "During the first week (Part 1), students are expected to:\n",
    "- Run and understand the main components of the baseline.\n",
    "- Propose and develop simple modifications to the baseline feature extraction process.\n",
    "- Propose and develop simple modifications to the baseline GMM language models.\n",
    "- Evaluate the models on the development partition.\n",
    "\n",
    "During the second week (Part 2), students are expected to:\n",
    "- Propose and develop other *classical* modifications to any component of the processing pipeline (openSMILE features, segment-based features, SVM classifiers, MLP/CNN classifiers, etc.)\n",
    "- Run and understand the second part of Notebook that explores a pre-trained model.\n",
    "- Propose and develop more recent advanced approaches, including x-vectors.\n",
    "- Evaluate the models on the development partition.\n",
    "- Obtain predictions for the blind test partition and prepare the submission.\n",
    "\n",
    "The challenge distinguishes two different tracks or evaluation conditions:\n",
    "- Track 1 - Participants are not allowed to use any kind of pre-trained model (such as x-vectors).\n",
    "- Track 2 - Participants are allowed to use anything.\n",
    "\n",
    "\n",
    "## About the data\n",
    "\n",
    "The data consists of mono audio files sampled at 16 kHz all of them containing speech of only one of the following target languages:\n",
    "```python \n",
    "LANGUAGES = ('Basque',  'Catalan',  'English',  'Galician',  'Portuguese',  'Spanish')\n",
    "```\n",
    "\n",
    "The dataset is organized in 4 partitions:\n",
    "- `'train'`: This is the full training set, consisting of 3060 clean audio samples correponding to speech segments of TV broadcast shows. (**ATENTION**: Do not use this dataset for training your models, unless your system is very fast or if you want to build your final model. It can be slow)\n",
    "- `'train100'`: This is a subset of the full training set that consists of 100 audio files per target language (**RECOMMENDATION**: Use this partition in your quick experiments, to more rapidly validate alternatives)\n",
    "- `'dev'`: This is the development set. It contains audio extracted from YouTube. You will typically use this to validate the quality of your model.\n",
    "- `'evl'`: This is the evaluation set. It contains audio extracted from YouTube. You don't have the groud-truth for this set. You are expected to produce it and submit it.\n",
    "\n",
    "The data used in this challenge is a subset of the KALAKA-3 database: https://aclanthology.org/L14-1576/\n",
    "\n",
    "The  difference is that only the clean train audio segments and the Plenty Closed evaluation condition have been considered. "
   ]
  },
  {
   "cell_type": "markdown",
   "metadata": {},
   "source": [
    "## Before starting\n",
    "The following conditions are neecessary to run correctly this notebook:\n",
    "\n",
    "*   All modules included in the requirements file need to be \n",
    "installed in the Python environment.\n",
    "*   The module `pf_tools` needs to be accessible (if you are using Google Colab, you will need to copy the `pf_tools.py` every time you start a new session)."
   ]
  },
  {
   "cell_type": "code",
   "execution_count": 1,
   "metadata": {},
   "outputs": [],
   "source": [
    "from pf_tools import CheckThisCell"
   ]
  },
  {
   "cell_type": "markdown",
   "metadata": {},
   "source": [
    "## How can you download (and process) the data\n",
    "\n",
    "The first thing we have to do is to set our working directory. If you are using Google Colab, you  probably want to mount Google Drive to keep persistent information, such as data, features and models:"
   ]
  },
  {
   "cell_type": "code",
   "execution_count": 406,
   "metadata": {},
   "outputs": [
    {
     "data": {
      "text/plain": [
       "'/Users/duartealmeida/PF/Spoken-Language-Processing/lab02'"
      ]
     },
     "execution_count": 406,
     "metadata": {},
     "output_type": "execute_result"
    }
   ],
   "source": [
    "import os \n",
    "CWD = os.getcwd() # Change this variable to your working directory to store data, features and models\n",
    "CWD"
   ]
  },
  {
   "cell_type": "markdown",
   "metadata": {},
   "source": [
    "The class `Kalaka` permits downloading, transforming and storing the different data partitions. Each `Kalaka` instance can be used to iterate over all the samples of the partition. It can also be used in combination with pytorch dataloader to read batches of data to train neural networks with pytorch. For instance, consider the following piece of code:\n"
   ]
  },
  {
   "cell_type": "code",
   "execution_count": 3,
   "metadata": {},
   "outputs": [
    {
     "name": "stderr",
     "output_type": "stream",
     "text": [
      "/Users/duartealmeida/PF/Spoken-Language-Processing/lab02/pf_tools.py:91: UserWarning: The feature directory already exists, and no new feature extraction will be performed.\n",
      "  warnings.warn(\"The feature directory already exists, and no new feature extraction will be performed.\")\n"
     ]
    }
   ],
   "source": [
    "import numpy as np\n",
    "from pf_tools import Kalaka\n",
    "import librosa \n",
    "\n",
    "def audio_transform(filename):\n",
    "    y, _ = librosa.load(filename, sr=16000, mono=True)\n",
    "    return y.reshape(-1,1)\n",
    "    \n",
    "trainkalaka = Kalaka(CWD, 'train100', transform_id='raw', audio_transform=audio_transform)"
   ]
  },
  {
   "cell_type": "markdown",
   "metadata": {},
   "source": [
    "\n",
    "This will first download and uncompress the .tar.gz file containing all the necessary data of the `'train100'` partition, that is, the audio files that are stored to disk (in CWD/train100/audio/) and key file (CWD/train100/key.lst). Then, the audio transformation `'transform'` will be applied to each file and the result stored to disk CWD/train100/raw/. \n",
    "\n",
    "**Audio transformations** receive a filename of an audio file and returns an array of dimensions (NxD), in which N is the time dimension and D the dimension of the feature vector. In this simple case D is 1 because the transform is just returning the raw audio signal.\n",
    "\n",
    "The `Kalaka` class permits chunking the output of the audio transformation (of size NxD) in chunks of CxD size. The chunking operation divides the orignal sample, in multiple smaller samples with a configurable chunk size and hop length. These chunks can be further transformed and stored as individual feature files. For instance:"
   ]
  },
  {
   "cell_type": "code",
   "execution_count": 4,
   "metadata": {},
   "outputs": [],
   "source": [
    "trainkalaka = Kalaka(CWD, 'train100', \n",
    "                     transform_id='chunks', \n",
    "                     audio_transform=audio_transform, \n",
    "                     chunk_size=4*16000, \n",
    "                     chunk_hop=2*16000)"
   ]
  },
  {
   "cell_type": "markdown",
   "metadata": {},
   "source": [
    "This will download and uncompress the partition data, only if was not already done before. Then, as previously, the simple tranform that returns the waveform is applied to each audio file. After this, the resulting array of dimension Nx1, in which N=16000xduration_in_seconds, is split in continuous chunks of length 64000 (that is, 4 seconds) with chunk hop of 2 seconds. Each one of these chunks of 4 seconds is stored and will be accessed whenever we iterate the dataset. \n",
    "\n",
    "Adittionally, the optional argument `chunk_transform` pertmits defining a transformation to be applied to each chunk before storing to disk. It can be any function that receives an array of size CxD and returns an array HxW, in which H is the *new time dimension*. For instance, the following example takes the audio segments of 64000x1, computes the mean and variance every 0.1 sec (1600 samples) and returns a feature vector of size 40x2."
   ]
  },
  {
   "cell_type": "code",
   "execution_count": 5,
   "metadata": {},
   "outputs": [],
   "source": [
    "def chunk_transform(x):\n",
    "    x = x.reshape(-1,1600)\n",
    "    return np.concatenate((x.mean(axis=1, keepdims=True), x.std(axis=1, keepdims=True)),axis=1)\n",
    "\n",
    "trainkalaka = Kalaka(CWD, 'train100', \n",
    "                     transform_id='chunks_mv', \n",
    "                     audio_transform=audio_transform, \n",
    "                     chunk_size=4*16000, \n",
    "                     chunk_hop=2*16000, \n",
    "                     chunk_transform=chunk_transform)\n"
   ]
  },
  {
   "cell_type": "markdown",
   "metadata": {},
   "source": [
    "\n",
    "Notice that, while the above example is probably useless as an effective feature extraction method, the proper combination of audio and chunk transformations is expected to permit quite flexible feature extraction that (hopefully) can match the needs of almost any training setting. \n",
    "\n",
    "Once we have instanciated a Kalaka dataset, it can be iterated to have access to each processed sample, for instance: "
   ]
  },
  {
   "cell_type": "code",
   "execution_count": 6,
   "metadata": {},
   "outputs": [
    {
     "name": "stdout",
     "output_type": "stream",
     "text": [
      "0 (40, 2) 6 0006ebda\n",
      "1000 (40, 2) 1 11a3790f\n",
      "2000 (40, 2) 4 271621da\n",
      "3000 (40, 2) 5 3b9d2c2f\n",
      "4000 (40, 2) 1 4d10f8f2\n",
      "5000 (40, 2) 6 5fb949a1\n",
      "6000 (40, 2) 6 70d28e30\n",
      "7000 (40, 2) 6 7d5515f0\n",
      "8000 (40, 2) 3 937623c2\n",
      "9000 (40, 2) 5 a4a7491b\n",
      "10000 (40, 2) 5 bc3f6e51\n",
      "11000 (40, 2) 3 cd82bcca\n",
      "12000 (40, 2) 1 df0b27f2\n",
      "13000 (40, 2) 3 f3ba1f4d\n",
      "Finished reading all data in 3.522908926010132\n"
     ]
    }
   ],
   "source": [
    "import time\n",
    "start = time.time()\n",
    "for i, sample in enumerate(trainkalaka):\n",
    "    data, label, basename = sample # array, int, str\n",
    "    if i % 1000 == 0:\n",
    "        print(i, data.shape, label, basename)\n",
    "\n",
    "print(f'Finished reading all data in {time.time() - start}')"
   ]
  },
  {
   "cell_type": "markdown",
   "metadata": {},
   "source": [
    "Now you can use the `Kalaka` class to check the  number of files and size (in minutes) of the training set for each target language. You cankKeep these numbers to include in your system description paper:"
   ]
  },
  {
   "cell_type": "code",
   "execution_count": 7,
   "metadata": {},
   "outputs": [
    {
     "name": "stderr",
     "output_type": "stream",
     "text": [
      "  0%|                                                                                                     | 0/600 [00:00<?, ?it/s]/Users/duartealmeida/PF/Spoken-Language-Processing/lab02/pf_tools.py:145: FutureWarning: get_duration() keyword argument 'filename' has been renamed to 'path' in version 0.10.0.\n",
      "\tThis alias will be removed in version 1.0.\n",
      "  minutes[language] += librosa.get_duration(filename=audioin)\n",
      "100%|███████████████████████████████████████████████████████████████████████████████████████████| 600/600 [00:20<00:00, 29.53it/s]"
     ]
    },
    {
     "name": "stdout",
     "output_type": "stream",
     "text": [
      "Number of files per language:\n",
      "\tBasque: 100\n",
      "\tCatalan: 100\n",
      "\tEnglish: 100\n",
      "\tGalician: 100\n",
      "\tPortuguese: 100\n",
      "\tSpanish: 100\n",
      "\n",
      "Minutes per language:\n",
      "\tBasque: 4743.38\n",
      "\tCatalan: 5111.188999999999\n",
      "\tEnglish: 5254.2998125\n",
      "\tGalician: 4833.832437500003\n",
      "\tPortuguese: 4569.997062499999\n",
      "\tSpanish: 4745.947999999998\n",
      "\n"
     ]
    },
    {
     "name": "stderr",
     "output_type": "stream",
     "text": [
      "\n"
     ]
    }
   ],
   "source": [
    "# Inspect the training data to find the size of each training language\n",
    "num_files, minutes = trainkalaka.get_metrics_per_language()\n",
    "\n",
    "print(\"Number of files per language:\\n\\tBasque: {}\\n\\tCatalan: {}\\n\\tEnglish: {}\\n\\tGalician: {}\\n\\tPortuguese: {}\\n\\tSpanish: {}\\n\"\\\n",
    "    .format(num_files['Basque'], num_files['Catalan'], num_files['English'], num_files['Galician'], num_files['Portuguese'], num_files['Spanish']))\n",
    "print(\"Minutes per language:\\n\\tBasque: {}\\n\\tCatalan: {}\\n\\tEnglish: {}\\n\\tGalician: {}\\n\\tPortuguese: {}\\n\\tSpanish: {}\\n\"\\\n",
    "    .format(minutes['Basque'], minutes['Catalan'], minutes['English'], minutes['Galician'], minutes['Portuguese'], minutes['Spanish']))\n",
    "\n",
    "#raise CheckThisCell ## <---- Remove this after completeing/checking this cell"
   ]
  },
  {
   "cell_type": "markdown",
   "metadata": {},
   "source": [
    "Notice that the `Kalaka` class extends the `torch.utils.data.Dataset` and it can be used in combination with a Pytorch DataLoader to read data in batches:"
   ]
  },
  {
   "cell_type": "code",
   "execution_count": 8,
   "metadata": {},
   "outputs": [
    {
     "name": "stderr",
     "output_type": "stream",
     "text": [
      "/Users/duartealmeida/PF/Spoken-Language-Processing/lab02/pf_tools.py:91: UserWarning: The feature directory already exists, and no new feature extraction will be performed.\n",
      "  warnings.warn(\"The feature directory already exists, and no new feature extraction will be performed.\")\n"
     ]
    },
    {
     "name": "stdout",
     "output_type": "stream",
     "text": [
      "torch.Size([10, 40, 2]) torch.Size([10]) 10\n",
      "torch.Size([10, 40, 2]) torch.Size([10]) 10\n",
      "torch.Size([10, 40, 2]) torch.Size([10]) 10\n",
      "torch.Size([10, 40, 2]) torch.Size([10]) 10\n",
      "torch.Size([10, 40, 2]) torch.Size([10]) 10\n",
      "torch.Size([10, 40, 2]) torch.Size([10]) 10\n",
      "torch.Size([10, 40, 2]) torch.Size([10]) 10\n",
      "torch.Size([10, 40, 2]) torch.Size([10]) 10\n",
      "torch.Size([10, 40, 2]) torch.Size([10]) 10\n",
      "torch.Size([10, 40, 2]) torch.Size([10]) 10\n",
      "torch.Size([10, 40, 2]) torch.Size([10]) 10\n",
      "torch.Size([10, 40, 2]) torch.Size([10]) 10\n",
      "torch.Size([10, 40, 2]) torch.Size([10]) 10\n",
      "torch.Size([10, 40, 2]) torch.Size([10]) 10\n",
      "Finished reading all data in 4.791247844696045\n"
     ]
    }
   ],
   "source": [
    "import torch \n",
    "\n",
    "trainkalaka = Kalaka(CWD, 'train100', \n",
    "                     transform_id='chunks_mv', \n",
    "                     audio_transform=audio_transform, \n",
    "                     chunk_size=4*16000, \n",
    "                     chunk_hop=2*16000, \n",
    "                     chunk_transform=chunk_transform)\n",
    "\n",
    "dataloader = torch.utils.data.DataLoader(\n",
    "        dataset=trainkalaka,\n",
    "        batch_size=10,\n",
    "        shuffle=True\n",
    ")\n",
    "\n",
    "start = time.time()\n",
    "for i, batch in enumerate(dataloader):\n",
    "    data, label, basename = batch\n",
    "    if i % 100 == 0:\n",
    "        print(data.shape, label.shape, len(basename))\n",
    "\n",
    "print(f'Finished reading all data in {time.time() - start}')\n"
   ]
  },
  {
   "cell_type": "markdown",
   "metadata": {},
   "source": [
    "Finally, remind that you can change anything you want. This includes the Kalaka class. Eventually, you can decide not using it at all and loading the data in some alternative way.  You can inspect the class to find the URLs for downloading the datasets. It is up to you! \n",
    "\n",
    "Before moving to the next stage, you probably want to delete the folders containing the dummy features that you just generated."
   ]
  },
  {
   "cell_type": "markdown",
   "metadata": {},
   "source": [
    "# PART 1 - The baseline (Track 1)\n",
    "The baseline consists of MFCC feature extraction  (based on the `librosa` module) with SDC computation and VAD removal, followed by GMMs of 64 dimensions for each language (using the `sklearn` module). The rest of this notebook contains the guide and code cells (some of them partially incomplete) that permit implementing this baseline and score it on the development set. Read carefully the Markdown information, but also the comments inside the code cells (they provide useful information and hints), and also the code itself. The better you understand it, the easier will be modyfing it."
   ]
  },
  {
   "cell_type": "markdown",
   "metadata": {},
   "source": [
    "## Initialization and importing modules"
   ]
  },
  {
   "cell_type": "code",
   "execution_count": 9,
   "metadata": {},
   "outputs": [],
   "source": [
    "import os\n",
    "from pf_tools import Kalaka\n",
    "import librosa\n",
    "import numpy as np\n",
    "import torch\n",
    "from sklearn.mixture import GaussianMixture\n",
    "from sklearn.neural_network import MLPClassifier, MLPRegressor\n",
    "from sklearn.svm import SVC\n",
    "from sklearn.decomposition import PCA\n",
    "from sklearn.cluster import KMeans\n",
    "from sklearn.metrics import classification_report, accuracy_score, confusion_matrix\n",
    "import matplotlib.pyplot as plt\n",
    "\n",
    "import time\n",
    "import random\n",
    "import datetime\n",
    "from pathlib import Path\n",
    "import pickle\n",
    "import csv \n",
    "from tqdm import tqdm\n",
    "\n",
    "from nn import FeedforwardNetwork, ClassificationDataset\n",
    "import torch.optim as optim\n",
    "import torch.nn as nn\n",
    "\n",
    "from parselmouth import praat\n",
    "\n",
    "GLOBAL_SEED = 35731\n",
    "\n",
    "np.random.seed(GLOBAL_SEED)\n",
    "torch.manual_seed(GLOBAL_SEED)\n",
    "random.seed(GLOBAL_SEED)\n",
    "\n",
    "\n",
    "LANGUAGES = ('Basque',  'Catalan',  'English',  'Galician',  'Portuguese',  'Spanish')\n",
    "LANG2ID = {'Basque':1, 'Catalan':2, 'English':3, 'Galician':4, 'Portuguese':5, 'Spanish':6}\n",
    "ID2LANG = dict((LANG2ID[k],k)for k in LANG2ID)"
   ]
  },
  {
   "cell_type": "markdown",
   "metadata": {},
   "source": [
    "## The baseline feature extraction module\n",
    "The next function extracts MFCCs, but there are plenty of things that can be improved. You are free to change anything you want, including the number of formal parameters, the number of returned expressions, etc. "
   ]
  },
  {
   "cell_type": "code",
   "execution_count": 10,
   "metadata": {},
   "outputs": [],
   "source": [
    "import math\n",
    "# Read carefully this function and understand it\n",
    "def feat_extract(filename, orig_sr=16000, mono=True, n_mfcc = 13, remove_c0=False, delta_order=0, apply_sdc=False, apply_vad=False, apply_cmvn=False,\n",
    "                 num_formants = 0, cluster_order = 0):\n",
    "    \n",
    "    sr=16000\n",
    "    n_mels = 40\n",
    "    n_fft = 512 \n",
    "    hop_length = 160\n",
    "    fmin = 50\n",
    "    fmax = 7800\n",
    "    \n",
    "    if apply_sdc and (delta_order > 0):\n",
    "        raise ValueError(\"Applying SDC and delta > 0 is not compatible\")\n",
    "\n",
    "    # Load audio wav into numpy array\n",
    "    y, _ = librosa.load(filename, sr=orig_sr, mono=mono)\n",
    "    \n",
    "    # Resample in case it's needed\n",
    "    if orig_sr != sr:\n",
    "        y = librosa.resample(y, orig_sr=orig_sr,target_sr=sr)\n",
    "\n",
    "    ## OPTIONAL ADDIDITIONAL STAGES - LAB WORK\n",
    "    # 1 - PREPROCESSING - Typical preprocessing may include normalization of audio (mean removal), \n",
    "    #                       but also speech enhancement and others more complex\n",
    "\n",
    "    # Extract MFFCs\n",
    "    mfcc = librosa.feature.mfcc(y=y, sr=sr, n_fft=n_fft, \n",
    "                                n_mfcc=n_mfcc, n_mels=n_mels, \n",
    "                                hop_length=hop_length, \n",
    "                                fmin=fmin, fmax=fmax, htk=False).T\n",
    "    \n",
    "    ## OPTIONAL ADDIDITIONAL STAGES - LAB WORK\n",
    "\n",
    "    # 2 Compute deltas --> Hint you can use librosa (order size may be a parameter?)\n",
    "    if delta_order > 0:\n",
    "        mfcc = compute_delta(mfcc)\n",
    "    \n",
    "    # 3 SDC --> Hint: You can build this using deltas (of extented context)  \n",
    "    if apply_sdc:\n",
    "        mfcc = compute_sdc(mfcc)\n",
    "    \n",
    "    # Compute formants\n",
    "    if num_formants > 0:\n",
    "        sound = parselmouth.Sound(filename)\n",
    "        formants = praat.call(sound, \"To Formant (burg)\", (hop_length / sr), num_formants, 5500, (n_fft / sr), 50)\n",
    "        all_formants = np.zeros((len(mfcc), num_formants))\n",
    "        for i in range(len(mfcc)):\n",
    "            t = i * (hop_length / sr)\n",
    "            for j in range(num_formants):\n",
    "                all_formants[i, j] = praat.call(formants, \"Get value at time\", j + 1, t, \"Hertz\", \"Linear\")\n",
    "        mfcc = np.concatenate((mfcc, all_formants), axis = 1)\n",
    "        mfcc = np.nan_to_num(mfcc)\n",
    "        \n",
    "    \n",
    "    # 4 COMPUTE VAD --> Hint: You can use any vad (theshold energy, something avaialble in the net, a biGaussian model...).\n",
    "    #                         Coeff0 is highly related with Energy and sometimes it is removed\n",
    "    #                   ATTENTION: Using a VAD may have a significant impact  \n",
    "    if apply_vad:\n",
    "        energy = librosa.feature.rms(y = y, hop_length = hop_length)\n",
    "        mfcc, vad = compute_vad(mfcc, energy = librosa.feature.rms(y = y, hop_length = hop_length).reshape(-1, 1))\n",
    "        mfcc = mfcc[:, 1:]\n",
    "             \n",
    "    # 5 APPLY CMVN --> ATTENTION: Using normalization may have a significant impact\n",
    "    if apply_cmvn:\n",
    "        mfcc = compute_cmvn(mfcc)\n",
    "        \n",
    "    if cluster_order > 0:\n",
    "        mfcc = KMeans(cluster_order).fit(mfcc).cluster_centers_\n",
    "    #print(mfcc)\n",
    "        \n",
    "    \n",
    "    return mfcc, y\n"
   ]
  },
  {
   "cell_type": "markdown",
   "metadata": {},
   "source": [
    "Try to define some or all of the following steps to improve your feature extraction pipeline "
   ]
  },
  {
   "cell_type": "code",
   "execution_count": 11,
   "metadata": {},
   "outputs": [],
   "source": [
    "# Numpy arrays have methods to compute mean and variance, so this one should be really easy\n",
    "def compute_cmvn(features):\n",
    "    # subtract the mean and divide by the variance along each column\n",
    "    if (features.shape[0] == 0):\n",
    "        return features\n",
    "    else:\n",
    "        stddev = np.std(features, axis = 0)\n",
    "        stddev[stddev == 0] = 1\n",
    "        return (features - np.mean(features, axis = 0)) / stddev\n"
   ]
  },
  {
   "cell_type": "code",
   "execution_count": 12,
   "metadata": {},
   "outputs": [],
   "source": [
    "# librosa contains functions to compute deltas\n",
    "def compute_delta(features, win=3, delta_order=2, keep_static=True):\n",
    "    deltas = librosa.feature.delta(features, width = win, order = 1)\n",
    "    for i in range(1, delta_order):\n",
    "        new_delta = librosa.feature.delta(features, width = win, order = i + 1)\n",
    "        deltas = np.concatenate((deltas, new_delta), axis = 1)\n",
    "    if keep_static:\n",
    "        return np.concatenate((features, deltas), axis = 1)\n",
    "    else:\n",
    "        return deltas"
   ]
  },
  {
   "cell_type": "code",
   "execution_count": 13,
   "metadata": {},
   "outputs": [],
   "source": [
    "# Compute deltas and then select previous and next deltas with fixed intervals to cocatentate. \n",
    "# You may need to code a bit here or dinf some function that helps with this\n",
    "def compute_sdc(features, P=3, D=1, K=7, keep_static=True):\n",
    "    N = len(features)\n",
    "    \n",
    "    # need to pad with D zeros before and after (to allow order-1 delta at all vectors)\n",
    "    # need to pad with (K - 1) * P zeros at the end so that the last vector can have the other K - 1 deltas\n",
    "    features_pad = np.pad(features, ((D, D + ((K - 1) * P)), (0, 0)), mode = \"edge\")\n",
    "    \n",
    "    # NOTE: librosa does not allow deltas at a window smaller than 3\n",
    "    deltas = features_pad[2 * D:] - features_pad[0 : -2 * D]\n",
    "    sdc = deltas[:N]\n",
    "    # append the delta vector at distace k * P (k = 1, ..., K - 1)\n",
    "    for k in range(1, K):\n",
    "        sdc = np.concatenate((sdc, deltas[k * P: k * P + N]), axis = 1)\n",
    "        \n",
    "    if keep_static:\n",
    "        return np.concatenate((features, sdc), axis = 1)\n",
    "    else:\n",
    "        return sdc\n"
   ]
  },
  {
   "cell_type": "code",
   "execution_count": 14,
   "metadata": {},
   "outputs": [],
   "source": [
    "# You can think of several strattegies to compute VAD, simple ones based on energy and a threshold, or maybe some more \n",
    "# ellaborated ones, like training a GMM with 2 mixtures with the Energy. \n",
    "# In addition to the features without some frames, this function may return a sequence of 0s and 1s that helps you to validate the method.\n",
    "def compute_vad(features, energy, y=None):\n",
    "    gm = GaussianMixture(n_components = 2, random_state = GLOBAL_SEED).fit(energy)\n",
    "    voiced = np.argmax(gm.means_)\n",
    "    vad = gm.fit_predict(energy)\n",
    "    voiced_features = features[vad == voiced]\n",
    "    return voiced_features, vad"
   ]
  },
  {
   "cell_type": "markdown",
   "metadata": {},
   "source": [
    "You can test in an isolated audio file and inspect the dimensions, verify that your code is doing what is expected, inspect and visualize the data using some of the lessons learnt in LAB1. Also, don't forget to listen some of the examples!!"
   ]
  },
  {
   "cell_type": "code",
   "execution_count": 15,
   "metadata": {},
   "outputs": [],
   "source": [
    "#mfcc_sdc, _ = feat_extract('sample.wav', apply_cmvn=False, apply_sdc=True)\n",
    "#mfcc_dd, _ = feat_extract('sample.wav', apply_cmvn=False, delta_order=2)\n",
    "#mfcc_d, _ = feat_extract('sample.wav', apply_cmvn=False, delta_order=1)\n",
    "#mfcc, y = feat_extract('sample.wav', apply_vad=True, num_formants = 5, cluster_order = 5)\n"
   ]
  },
  {
   "cell_type": "markdown",
   "metadata": {},
   "source": [
    "To run the data processing stage for the train100 partition we will simply instanciate the Kalaka class as mentioned previosly. Take a sit because it can take a bit:"
   ]
  },
  {
   "cell_type": "code",
   "execution_count": 719,
   "metadata": {},
   "outputs": [
    {
     "name": "stderr",
     "output_type": "stream",
     "text": [
      "/Users/duartealmeida/PF/Spoken-Language-Processing/lab02/pf_tools.py:91: UserWarning: The feature directory already exists, and no new feature extraction will be performed.\n",
      "  warnings.warn(\"The feature directory already exists, and no new feature extraction will be performed.\")\n"
     ]
    }
   ],
   "source": [
    "sr = 16000\n",
    "sec = 8\n",
    "hop_length = 160\n",
    "vectors_4_sec = int((sr * sec) // hop_length)\n",
    "\n",
    "transform = { 'mfcc_sdc_vad_chunk_300_300' : \n",
    "                 { \n",
    "                     'audio_transform': lambda x : feat_extract(x, orig_sr=16000, mono=True, n_mfcc = 7, apply_sdc=True, apply_vad=True, apply_cmvn=True)[0],\n",
    "                     'chunk_transform': None,\n",
    "                     'chunk_size': 300,\n",
    "                     'chunk_hop':300\n",
    "                 },\n",
    "                 'mfcc13' : \n",
    "                 { \n",
    "                     'audio_transform': lambda x : feat_extract(x, orig_sr=16000, mono=True, n_mfcc = 13, apply_sdc=False, apply_vad=False, apply_cmvn=True)[0],\n",
    "                     'chunk_transform': None,\n",
    "                     'chunk_size': 300,\n",
    "                     'chunk_hop':300\n",
    "                 },\n",
    "                 'mfcc7' : \n",
    "                 { \n",
    "                     'audio_transform': lambda x: feat_extract(x, orig_sr=16000, mono=True, n_mfcc = 7, apply_sdc = False, apply_vad = True, apply_cmvn = True)[0],\n",
    "                     'chunk_transform': None,\n",
    "                     'chunk_size': vectors_4_sec,\n",
    "                     'chunk_hop': vectors_4_sec\n",
    "                 },\n",
    "                 'mfcc7_delta_deltadelta' : \n",
    "                 { \n",
    "                     'audio_transform': lambda x: feat_extract(x, orig_sr=16000, mono=True, n_mfcc = 7, apply_sdc = False, delta_order = 2, apply_vad = True, apply_cmvn = True)[0],\n",
    "                     'chunk_transform': None,\n",
    "                     'chunk_size': vectors_4_sec,\n",
    "                     'chunk_hop': vectors_4_sec\n",
    "                 },\n",
    "                 'mfcc4_formants5_cluster' : \n",
    "                 { \n",
    "                     'audio_transform': lambda x: feat_extract(x, orig_sr=16000, mono=True, n_mfcc = 4, apply_sdc = False, apply_vad = True, apply_cmvn = True, num_formants = 5)[0],\n",
    "                     'chunk_transform': None,\n",
    "                     'chunk_size': 300, \n",
    "                     'chunk_hop': 300, \n",
    "                 },\n",
    "            }\n",
    "\n",
    "\n",
    "trainset = 'train100'\n",
    "transform_id = 'mfcc_sdc_vad_chunk_300_300'\n",
    "\n",
    "trainkalaka = Kalaka(CWD, trainset, \n",
    "                 transform_id=transform_id, \n",
    "                 audio_transform=transform[transform_id]['audio_transform'], \n",
    "                 chunk_transform=transform[transform_id]['chunk_transform'],\n",
    "                 chunk_size=transform[transform_id]['chunk_size'], \n",
    "                 chunk_hop=transform[transform_id]['chunk_hop']\n",
    "                )\n"
   ]
  },
  {
   "cell_type": "raw",
   "metadata": {},
   "source": [
    "Check your current folder, many things happened!! \n",
    "\n",
    "Notice that if you instanciate again the Kalaka class for the 'train100' partition, the data will not be downloaded again. \n",
    "Additionally, if there is already a folder with the name `transform_id`, feature extraction will not run again. You need to delete from your filesystem the folder with the features if you want to run again the feature extraction (using the same identifier) or , alternatively, you can change the identifier. Be careful because you can easily increase the amount of data generated. If you try a feature extraction method that provides bad results, you probably don't want to keep the features in disk."
   ]
  },
  {
   "cell_type": "markdown",
   "metadata": {},
   "source": [
    "## The baseline spoken language models\n",
    "The baseline model is extremely simple: we'll train an individual GMM model for each language on top of the features that we just extracted. Later, in prediction time, given a test audio sample, we'll compute the loglikelihood obtained with each GMM model and select as the identified language the one whose model gives the highest likelihood. Let's go for it!!\n"
   ]
  },
  {
   "cell_type": "code",
   "execution_count": 730,
   "metadata": {},
   "outputs": [
    {
     "name": "stdout",
     "output_type": "stream",
     "text": [
      "Finished reading all data in 6.5503249168396\n"
     ]
    }
   ],
   "source": [
    "# IN GMM training each training sample contains more than one frame;\n",
    "# so we cocatenate all data to have all training datain one array \n",
    "# and the corresponding label with same time duration\n",
    "# actually, here the chunking process is useless, \n",
    "#I could have obtained the same without chunking (with slight differences due to trunkation)\n",
    "\n",
    "start = time.time()\n",
    "train_data = []\n",
    "train_labels = []\n",
    "dict_languages = {}\n",
    "for data, label, basename in trainkalaka:\n",
    "    train_data.append(data)\n",
    "    train_labels.append(np.full(data.shape[0], label)) \n",
    "\n",
    "train_data = np.concatenate(train_data)\n",
    "train_labels = np.concatenate(train_labels)\n",
    "\n",
    "print(f'Finished reading all data in {time.time() - start}')"
   ]
  },
  {
   "cell_type": "markdown",
   "metadata": {},
   "source": [
    "Now we have two arrays containing the complete training dataset and the corresponging reference labels. Check the sizes, may be have a look to the content of one time instant. Do some checks on the data to be sure that everything is as expected:"
   ]
  },
  {
   "cell_type": "code",
   "execution_count": 18,
   "metadata": {},
   "outputs": [],
   "source": [
    "# Check the traininig data. Notice that if you apply VAD, the size of the training data must be smaller than the complete data set. \n",
    "# Register the size in frames and in time of training data for each language\n",
    "#raise CheckThisCell ## <---- Remove this after completeing/checking this cell"
   ]
  },
  {
   "cell_type": "markdown",
   "metadata": {},
   "source": [
    "Let's go training. Again, depending of the amount of data used, the model complexity and computational resources of the machine that you're using, this can take a while. So, relax while the computer works for you!"
   ]
  },
  {
   "cell_type": "code",
   "execution_count": 732,
   "metadata": {},
   "outputs": [],
   "source": [
    "# TRAIN UBM\n",
    "train_ubm = 0\n",
    "\n",
    "if train_ubm:\n",
    "    n_gauss = 64\n",
    "    ubm = GaussianMixture(\n",
    "                n_components=n_gauss, \n",
    "                covariance_type='diag', \n",
    "                max_iter=20, n_init=1, \n",
    "                init_params='kmeans', \n",
    "                verbose=2, \n",
    "                verbose_interval=1)\n",
    "    ubm.fit(train_data)\n"
   ]
  },
  {
   "cell_type": "code",
   "execution_count": null,
   "metadata": {},
   "outputs": [],
   "source": [
    "from sklearn.base import clone\n",
    "from copy import deepcopy\n",
    "from scipy.stats import multivariate_normal\n",
    "\n",
    "if train_ubm:\n",
    "    # PERFORM MAP ADAPTATION\n",
    "    models = {}\n",
    "    weights = ubm.weights_\n",
    "    means = ubm.means_\n",
    "    covariances = ubm.covariances_\n",
    "    for lang in LANGUAGES:\n",
    "        print(f\"Training model for {lang}\")\n",
    "        data_lang = train_data[train_labels == LANG2ID[lang], :]\n",
    "        component_probs = np.zeros((data_lang.shape[0], n_gauss))\n",
    "        for i in range(n_gauss):\n",
    "            component_probs[:, i] = multivariate_normal.pdf(data_lang, mean=means[i], cov=np.diag(covariances[i]))\n",
    "\n",
    "        Pr_unnormalized = component_probs * weigths\n",
    "        Pr = Pr_unnormalized / np.sum(Pr_unnormalized, axis = 1).reshape(-1, 1)\n",
    "        n = np.sum(Pr, axis = 0).reshape(-1, 1)\n",
    "        E = (Pr.T @ data_lang) / n\n",
    "        E_sqr = (Pr.T @ (data_lang ** 2)) / n\n",
    "        alpha = n / (n + 128)\n",
    "        new_means = E * alpha + means * (1 - alpha)\n",
    "        new_covariances = E_sqr * alpha + (1 - alpha) * (covariances + (means ** 2)) - (new_means ** 2)\n",
    "        new_weights = alpha.flatten() * (n.flatten() / data_lang.shape[0]) + (1 - alpha.flatten()) * weights\n",
    "        new_weights = new_weights / np.sum(new_weights)\n",
    "\n",
    "        models[lang] = deepcopy(ubm)\n",
    "        models[lang].means_ = new_means\n",
    "        models[lang].covariances_ = new_covariances\n",
    "        models[lang].weights_ = new_weights\n",
    "else:\n",
    "    # TRAIN GMM models (ML) \n",
    "    models = {}\n",
    "    n_gauss = 256\n",
    "    for lang in LANGUAGES:\n",
    "        models[lang] = GaussianMixture(\n",
    "                            n_components=n_gauss, \n",
    "                            covariance_type='diag', \n",
    "                            max_iter=256, n_init=1, \n",
    "                            init_params='kmeans', \n",
    "                            verbose=2, \n",
    "                            verbose_interval=1)\n",
    "\n",
    "    for lang in LANGUAGES:\n",
    "        print(f'Training model for {lang}')\n",
    "        models[lang].fit(train_data[train_labels==LANG2ID[lang]])\n"
   ]
  },
  {
   "cell_type": "code",
   "execution_count": 733,
   "metadata": {},
   "outputs": [],
   "source": [
    "normalize = 0\n",
    "\n",
    "if normalize:\n",
    "    new_models = {lang: (models[lang],) for lang in LANGUAGES}\n",
    "    for lang in LANGUAGES:\n",
    "        print(f\"Evaluating mean and variance for {lang}\")\n",
    "        curr = new_models[lang][0]\n",
    "        impostor_scores = curr.score_samples(train_data)\n",
    "        new_models[lang] += (np.mean(impostor_scores), np.var(impostor_scores))\n",
    "\n",
    "\n"
   ]
  },
  {
   "cell_type": "markdown",
   "metadata": {},
   "source": [
    "Once the models have been trained, we can store them in disk for later usage. Again, be careful and avoid storing versions of useless models. By default, the model is stored in a folder inside the data partition folder and contains the feature extraction in the name and the date."
   ]
  },
  {
   "cell_type": "code",
   "execution_count": 410,
   "metadata": {},
   "outputs": [],
   "source": [
    "# save models     \n",
    "now = str(datetime.datetime.now()).replace(' ','_').split('.')[0]\n",
    "path = Path(CWD) / trainset / 'models'\n",
    "if not os.path.isdir(path):\n",
    "    os.mkdir(path)\n",
    "filename = f'{path}/gmm_{transform_id}_{now}.model'\n",
    "pickle.dump(models, open(filename, 'wb'))"
   ]
  },
  {
   "cell_type": "markdown",
   "metadata": {},
   "source": [
    "You can also check the `sklearn` documentation and inspect the models trained:"
   ]
  },
  {
   "cell_type": "code",
   "execution_count": 411,
   "metadata": {},
   "outputs": [
    {
     "data": {
      "text/plain": [
       "(64, 55)"
      ]
     },
     "execution_count": 411,
     "metadata": {},
     "output_type": "execute_result"
    }
   ],
   "source": [
    "models['Portuguese'].means_.shape"
   ]
  },
  {
   "cell_type": "markdown",
   "metadata": {},
   "source": [
    "## Identification and generation of the predictions file\n",
    "\n",
    "Now that we  already have trained models, let's predict/identify language in new audio data and test our model!!! \n",
    "\n",
    "But first, we need to obtain the development partition and do the feature extraction more or less as previously (using the Kalaka class).\n",
    "\n",
    "**IMPORTANT WARNING** Make sure to use the exact same feature extraction process as the one used for the train set. Otherwise, your model will be in disagreement with your evaluation data, and very likely, will not work at all.\n"
   ]
  },
  {
   "cell_type": "code",
   "execution_count": 588,
   "metadata": {},
   "outputs": [
    {
     "name": "stderr",
     "output_type": "stream",
     "text": [
      "/Users/duartealmeida/PF/Spoken-Language-Processing/lab02/pf_tools.py:91: UserWarning: The feature directory already exists, and no new feature extraction will be performed.\n",
      "  warnings.warn(\"The feature directory already exists, and no new feature extraction will be performed.\")\n"
     ]
    }
   ],
   "source": [
    "# Download and feature extract\n",
    "transform_id = 'mfcc_sdc_vad_chunk_300_300'\n",
    "#transform_id = 'mfcc4_formants5_cluster'\n",
    "\n",
    "# Notice that the chunking is mostly useless both in training and prediction with GMMs: each frame is a sample for which we obtain the probs\n",
    "devkalaka = Kalaka(CWD,'dev', \n",
    "                 transform_id=transform_id, \n",
    "                 audio_transform=transform[transform_id]['audio_transform'], \n",
    "                 chunk_transform=transform[transform_id]['chunk_transform'],\n",
    "                 chunk_size=transform[transform_id]['chunk_size'], \n",
    "                 chunk_hop=transform[transform_id]['chunk_hop']\n",
    "                )"
   ]
  },
  {
   "cell_type": "markdown",
   "metadata": {},
   "source": [
    "Now, we can iterate the data and use the models for scoring:"
   ]
  },
  {
   "cell_type": "code",
   "execution_count": 413,
   "metadata": {},
   "outputs": [
    {
     "name": "stdout",
     "output_type": "stream",
     "text": [
      "Finished reading all data in 11.35106873512268\n"
     ]
    }
   ],
   "source": [
    "start = time.time()\n",
    "dev_data = {}\n",
    "\n",
    "\n",
    "for data, label, basename in devkalaka:\n",
    "        if basename not in dev_data:\n",
    "                dev_data[basename] = {'data':[], 'label':label}\n",
    "        dev_data[basename]['data'].append(data)\n",
    "\n",
    "## We concatenate all the frames belonging to the same filename\n",
    "for basename in dev_data:\n",
    "        dev_data[basename]['data'] = np.concatenate(dev_data[basename]['data'])\n",
    "print(f'Finished reading all data in {time.time() - start}')\n"
   ]
  },
  {
   "cell_type": "code",
   "execution_count": 722,
   "metadata": {},
   "outputs": [
    {
     "name": "stderr",
     "output_type": "stream",
     "text": [
      "100%|███████████████████████████████████████████████████████████████████████████████████████████| 915/915 [01:10<00:00, 12.92it/s]"
     ]
    },
    {
     "name": "stdout",
     "output_type": "stream",
     "text": [
      "Finished predicting all data in 70.89105796813965\n"
     ]
    },
    {
     "name": "stderr",
     "output_type": "stream",
     "text": [
      "\n"
     ]
    }
   ],
   "source": [
    "start = time.time()\n",
    "\n",
    "results_dev = {}\n",
    "results_dev['ref'] =  np.empty(len(dev_data),dtype=np.int32)\n",
    "results_dev['hyp'] =  np.empty(len(dev_data),dtype=np.int32)\n",
    "results_dev['llhs'] = np.empty((len(dev_data), len(LANGUAGES)), dtype=np.float64)\n",
    "results_dev['fileids'] = list()\n",
    "\n",
    "i = 0\n",
    "for i, fileid in tqdm(enumerate(sorted(dev_data)), total=len(dev_data)):\n",
    "    data = dev_data[fileid][\"data\"]\n",
    "    \n",
    "    results_dev['fileids'].append(fileid)     #fileid\n",
    "    \n",
    "    # obtain the log-likelihood score for each model and store\n",
    "    if normalize:\n",
    "        results_dev['llhs'][i,:] = (np.array([new_models[lang][0].score(data) for lang in LANGUAGES]) -\n",
    "                                    np.array([new_models[lang][1] for lang in LANGUAGES])) / \\\n",
    "                                    np.array([np.sqrt(new_models[lang][2]) for lang in LANGUAGES])\n",
    "         store the reference. Notice that I only have this for the dev set, not for the eval\n",
    "    else:\n",
    "        results_dev['llhs'][i,:] = (np.array([models[lang].score(data) for lang in LANGUAGES]))\n",
    "        \n",
    "    # Obtain references\n",
    "    results_dev['ref'][i] = (dev_data[fileid]['label']) #referemce\n",
    "\n",
    "    # Obtain the maximum likelihood languge estimation\n",
    "    ix = np.argmax(results_dev['llhs'][i,:])\n",
    "    results_dev['hyp'][i] = LANG2ID[LANGUAGES[ix]]\n",
    "\n",
    "\n",
    "print(f'Finished predicting all data in {time.time() - start}')\n"
   ]
  },
  {
   "cell_type": "markdown",
   "metadata": {},
   "source": [
    "\n",
    "## Evaluation\n",
    "After running the previous cells, we obtain two arrays with the reference and hypothesis labels, respectively (we can also reload them in case we need them). We can use these to obtain different evaluation metrics and inspect the performance (and potential problems) of our system. Of course, you will only be able to do this evaluation with the development set, since you don't have access to the eval labels."
   ]
  },
  {
   "cell_type": "markdown",
   "metadata": {},
   "source": [
    "You can for instance obtain a classification report summary:"
   ]
  },
  {
   "cell_type": "code",
   "execution_count": 723,
   "metadata": {},
   "outputs": [
    {
     "name": "stdout",
     "output_type": "stream",
     "text": [
      "              precision    recall  f1-score   support\n",
      "\n",
      "      Basque       0.41      0.44      0.42       153\n",
      "     Catalan       0.70      0.31      0.43       149\n",
      "     English       0.91      0.70      0.79       149\n",
      "    Galician       0.51      0.19      0.28       151\n",
      "  Portuguese       0.55      0.76      0.64       160\n",
      "     Spanish       0.32      0.59      0.41       153\n",
      "\n",
      "    accuracy                           0.50       915\n",
      "   macro avg       0.56      0.50      0.50       915\n",
      "weighted avg       0.56      0.50      0.50       915\n",
      "\n"
     ]
    }
   ],
   "source": [
    "ref, hyp = results_dev['ref'], results_dev['hyp']\n",
    "print(classification_report(ref, hyp, target_names=LANGUAGES))"
   ]
  },
  {
   "cell_type": "markdown",
   "metadata": {},
   "source": [
    "Overall accuracy (this will be the **main metric for system ranking**):"
   ]
  },
  {
   "cell_type": "code",
   "execution_count": 724,
   "metadata": {},
   "outputs": [
    {
     "data": {
      "text/plain": [
       "0.5038251366120219"
      ]
     },
     "execution_count": 724,
     "metadata": {},
     "output_type": "execute_result"
    }
   ],
   "source": [
    "accuracy_score(ref, hyp)"
   ]
  },
  {
   "cell_type": "markdown",
   "metadata": {},
   "source": [
    "Or a confusion matrix: "
   ]
  },
  {
   "cell_type": "code",
   "execution_count": 725,
   "metadata": {},
   "outputs": [
    {
     "data": {
      "text/plain": [
       "array([[ 68,   2,   1,   2,  19,  61],\n",
       "       [ 23,  46,   1,  14,  14,  51],\n",
       "       [ 16,   0, 105,   1,  20,   7],\n",
       "       [ 19,  12,   0,  29,  26,  65],\n",
       "       [ 16,   1,   8,   2, 122,  11],\n",
       "       [ 25,   5,   1,   9,  22,  91]])"
      ]
     },
     "execution_count": 725,
     "metadata": {},
     "output_type": "execute_result"
    }
   ],
   "source": [
    "confusion_matrix(ref, hyp)"
   ]
  },
  {
   "cell_type": "markdown",
   "metadata": {},
   "source": [
    "and visualize it:"
   ]
  },
  {
   "cell_type": "code",
   "execution_count": 726,
   "metadata": {},
   "outputs": [
    {
     "data": {
      "image/png": "[encoded data removed]",
      "text/plain": [
       "<Figure size 300x300 with 1 Axes>"
      ]
     },
     "metadata": {},
     "output_type": "display_data"
    }
   ],
   "source": [
    "conf_matrix = confusion_matrix(ref, hyp)\n",
    "\n",
    "fig, ax = plt.subplots(figsize=(3.0, 3.0))\n",
    "ax.matshow(conf_matrix, cmap=plt.cm.Blues, alpha=0.3)\n",
    "for i in range(conf_matrix.shape[0]):\n",
    "    for j in range(conf_matrix.shape[1]):\n",
    "        ax.text(x=j, y=i,s=conf_matrix[i, j], va='center', ha='center')\n",
    "\n",
    "plt.xlabel('Predictions', fontsize=12)\n",
    "plt.ylabel('Actuals', fontsize=12)\n",
    "plt.title(f'Confusion Matrix\\n(Accuracy {100*accuracy_score(ref, hyp):.2f})', fontsize=12)\n",
    "plt.show()"
   ]
  },
  {
   "cell_type": "markdown",
   "metadata": {},
   "source": [
    "These results are poor. The baseline system is very limited in several aspects (features, time context, generative model, etc.). For instance, the likelihood scores are not normalized. It may happen, that one model  provides slightly higher scores for some reason. The following trick sometimes increases slightly the results:"
   ]
  },
  {
   "cell_type": "code",
   "execution_count": 727,
   "metadata": {},
   "outputs": [],
   "source": [
    "llhs_norm = (results_dev['llhs'] - results_dev['llhs'].mean(axis=0))\n",
    "hyp_norm = np.empty(hyp.shape, like=hyp)\n",
    "for i in range(len(results_dev['fileids'])):\n",
    "    ix = np.argmax(llhs_norm[i,:])\n",
    "    hyp_norm[i] = LANG2ID[LANGUAGES[ix]]\n"
   ]
  },
  {
   "cell_type": "code",
   "execution_count": 728,
   "metadata": {},
   "outputs": [
    {
     "data": {
      "image/png": "[encoded data removed]",
      "text/plain": [
       "<Figure size 300x300 with 1 Axes>"
      ]
     },
     "metadata": {},
     "output_type": "display_data"
    }
   ],
   "source": [
    "conf_matrix = confusion_matrix(ref, hyp_norm)\n",
    "\n",
    "fig, ax = plt.subplots(figsize=(3.0, 3.0))\n",
    "ax.matshow(conf_matrix, cmap=plt.cm.Blues, alpha=0.3)\n",
    "for i in range(conf_matrix.shape[0]):\n",
    "    for j in range(conf_matrix.shape[1]):\n",
    "        ax.text(x=j, y=i,s=conf_matrix[i, j], va='center', ha='center')\n",
    "\n",
    "plt.xlabel('Predictions', fontsize=12)\n",
    "plt.ylabel('Actuals', fontsize=12)\n",
    "plt.title(f'Confusion Matrix\\n(Accuracy {100*accuracy_score(ref, hyp_norm):.2f})', fontsize=12)\n",
    "plt.show()"
   ]
  },
  {
   "cell_type": "markdown",
   "metadata": {},
   "source": [
    "This \"trick\" is probematic. Can you discuss why? Can you think of an altenative way of doing the same kind of normalization?"
   ]
  },
  {
   "cell_type": "markdown",
   "metadata": {},
   "source": [
    "## Running the prediction on the evl partition\n",
    "\n",
    "Once you are happy with your system and the results obtained in the development set, you are ready to generate the predictions on the `'evl'` partition. To do that, you have to follow the same process as for the development partition, but of course, this time you will not be able to obtain performance results because you don't have labels for this partition. \n",
    "\n",
    "We start by instantiating the `Kalaka` class for the `'evl'` partition:\n"
   ]
  },
  {
   "cell_type": "code",
   "execution_count": null,
   "metadata": {},
   "outputs": [],
   "source": [
    "transform_id = 'mfcc_sdc_vad_chunk_300_300'\n",
    "\n",
    "evlkalaka = Kalaka(CWD,'evl', \n",
    "                 transform_id=transform_id, \n",
    "                 audio_transform=transform[transform_id]['audio_transform'], \n",
    "                 chunk_transform=transform[transform_id]['chunk_transform'],\n",
    "                 chunk_size=transform[transform_id]['chunk_size'], \n",
    "                 chunk_hop=transform[transform_id]['chunk_hop']\n",
    "                )\n"
   ]
  },
  {
   "cell_type": "markdown",
   "metadata": {},
   "source": [
    "Then, we load the evaluation data:"
   ]
  },
  {
   "cell_type": "code",
   "execution_count": null,
   "metadata": {},
   "outputs": [],
   "source": [
    "start = time.time()\n",
    "evl_data = {}\n",
    "\n",
    "for data, label, basename in evlkalaka:\n",
    "        if basename not in evl_data:\n",
    "                evl_data[basename] = {'data':[], 'label':label}\n",
    "        evl_data[basename]['data'].append(data)\n",
    "\n",
    "for basename in evl_data:\n",
    "        evl_data[basename]['data'] = np.concatenate(evl_data[basename]['data'])\n",
    "\n",
    "print(f'Finished reading all data in {time.time() - start}')"
   ]
  },
  {
   "cell_type": "markdown",
   "metadata": {},
   "source": [
    "And apply the model(s) to the new `'evl'` data:"
   ]
  },
  {
   "cell_type": "code",
   "execution_count": null,
   "metadata": {},
   "outputs": [],
   "source": [
    "start = time.time()\n",
    "\n",
    "results_evl = {}\n",
    "results_evl['ref'] =  None\n",
    "results_evl['hyp'] =  np.empty(len(evl_data),dtype=np.int32)\n",
    "results_evl['llhs'] = np.empty((len(evl_data), len(LANGUAGES)), dtype=np.float64)\n",
    "results_evl['fileids'] = list()\n",
    "\n",
    "\n",
    "# Obtain LLH matrix\n",
    "for i, fileid in tqdm(enumerate(sorted(evl_data)), total=len(evl_data)):\n",
    "\n",
    "    data = evl_data[fileid]['data']  # the features\n",
    "    results_evl['fileids'].append(fileid)     #fileid\n",
    "\n",
    "    # obtain the log-likelihood score for each model and store\n",
    "    results_evl['llhs'][i,:] = np.array([models[lang].score(data) for lang in LANGUAGES])\n",
    "\n",
    "    # Obtain the maximum likelihood languge estimation\n",
    "    ix = np.argmax(results_evl['llhs'][i,:])\n",
    "    results_evl['hyp'][i] = LANG2ID[LANGUAGES[ix]]    \n",
    "\n",
    "print(f'Finished predicting all data in {time.time() - start}')"
   ]
  },
  {
   "cell_type": "markdown",
   "metadata": {},
   "source": [
    "## Create the predictions file\n",
    "\n",
    "The predictions file used for submission and scoring is a CSV file containing the predictions of both the `dev` and `evl` partitions.\n",
    "The file has two fields: fileId and Lang. The fileId is the unique audio file identifier and the Lang field is the language prediction (numeric from 1 to 6). The predictions file name must be as follows:\n",
    "\n",
    "`T<X>_G<YY>_<SYSTEMID>.csv` \n",
    "\n",
    "where `<X>` can be 1 or 2 depending on being a system for track 1 or track 2 evaluation; `<YY>` is the students' group number (use 2 digits) and `<SYSTEMID>` is a identifying string for that submission/system."
   ]
  },
  {
   "cell_type": "code",
   "execution_count": null,
   "metadata": {},
   "outputs": [],
   "source": [
    "group, system = '00', 'baseline_train100'\n",
    "with open(f'{os.getcwd()}/T1_G{group}_{system}.csv', 'w') as file:\n",
    "    csv_writer = csv.writer(file) # CSV writer\n",
    "    csv_writer.writerow(('fileId', 'Lang')) # Header of the CSV\n",
    "\n",
    "    # Save dev results\n",
    "    for i in range(len(results_dev['fileids'])):\n",
    "        csv_writer.writerow((results_dev['fileids'][i], results_dev['hyp'][i]))\n",
    "    # Save evl results\n",
    "    for i in range(len(results_evl['fileids'])):\n",
    "        csv_writer.writerow((results_evl['fileids'][i], results_evl['hyp'][i]))"
   ]
  },
  {
   "cell_type": "markdown",
   "metadata": {},
   "source": [
    "## Submit your prediction\n",
    "You can submit your prediction in the following Kaggle competition: https://www.kaggle.com/competitions/speech-processing-lab-2/\n",
    "\n",
    "## What should/can you do next?\n",
    "**Everything!!** Try to extend and improve the feature extraction. Try to play with the parameters. Try completely different feature extraction modules (look for openSMILE, torchaudio,). Try to increase the model complexity. Try different modeling approaches. Try to understand the impact of the different modifications. Once you are happy with your system, try to train on the full set and check the impact of adding data to your system.\n"
   ]
  },
  {
   "cell_type": "markdown",
   "metadata": {},
   "source": [
    "# PART 2 - Using pre-trained embeddings (Track 2)\n",
    "\n",
    "There exist plenty of resources and pre-trained models that can be extremely useful for our task. For instance, x-vectors are currently the state of the art approach to obtain speech embeddings that characterize very efficiently speaker or language, among others. Particularly, the following x-vector model is available and it has been trained using a large corpus of 107 languages for language identification: https://huggingface.co/speechbrain/lang-id-voxlingua107-ecapa\n",
    "\n",
    "You can obtain it from the `speechbrain` module, that you need to install now if you are using Google Colab:\n",
    "\n"
   ]
  },
  {
   "cell_type": "code",
   "execution_count": null,
   "metadata": {},
   "outputs": [],
   "source": [
    "# If you are using Google Colab, you'll have to install the speechbrain module\n",
    "#raise CheckThisCell ## <---- Remove this after completing/checking this cell\n",
    "#!pip install speechbrain"
   ]
  },
  {
   "cell_type": "markdown",
   "metadata": {},
   "source": [
    "The following code cell imports such model and shows how to obtain an embedding vector:"
   ]
  },
  {
   "cell_type": "code",
   "execution_count": 22,
   "metadata": {},
   "outputs": [
    {
     "name": "stderr",
     "output_type": "stream",
     "text": [
      "torchvision is not available - cannot save figures\n",
      "/Users/duartealmeida/miniconda3/envs/PFEnv/lib/python3.11/site-packages/torch/functional.py:641: UserWarning: stft with return_complex=False is deprecated. In a future pytorch release, stft will return complex tensors for all inputs, and return_complex=False will raise an error.\n",
      "Note: you can still call torch.view_as_real on the complex output to recover the old return format. (Triggered internally at /Users/runner/work/pytorch/pytorch/pytorch/aten/src/ATen/native/SpectralOps.cpp:867.)\n",
      "  return _VF.stft(input, n_fft, hop_length, win_length, window,  # type: ignore[attr-defined]\n"
     ]
    },
    {
     "name": "stdout",
     "output_type": "stream",
     "text": [
      "tensor([[[ 1.8070e+01,  4.9016e+01, -1.1503e+01,  3.4845e+01,  2.9686e+01,\n",
      "           1.2965e+01,  3.3693e+01, -7.0847e+00,  2.7003e+01,  1.3238e+00,\n",
      "           2.0937e+00,  4.6716e+01,  4.0381e+01,  2.7669e+01,  1.0301e+01,\n",
      "           3.5585e+01,  2.2612e+01,  1.2936e+00, -1.1567e+01, -1.3776e+01,\n",
      "          -1.1318e+01,  3.5121e+01,  4.2536e+00,  2.4499e+01,  3.0473e+01,\n",
      "          -5.9533e+00,  4.5652e+01,  3.7024e+01,  2.7054e+01, -8.8062e+00,\n",
      "          -8.1440e+00,  6.4745e+00, -2.6677e+01,  3.3796e+01, -3.0038e+01,\n",
      "          -1.7247e-01,  5.4481e+01,  3.9470e+01,  2.0512e+01, -8.1592e-02,\n",
      "           2.6525e+01,  3.1203e+01,  1.0836e+01,  3.2499e+01,  4.0244e+01,\n",
      "           2.0815e+01, -1.9671e+01,  2.0470e+01,  2.8246e+01,  1.0630e+01,\n",
      "           3.8383e+01,  3.9727e+01,  1.4472e+01, -1.2266e+01,  4.2925e+01,\n",
      "           2.0044e+01,  6.4850e+00,  3.2841e+01, -1.4509e+01, -1.2985e+01,\n",
      "           3.3707e+01, -9.6947e-01,  1.0855e+01,  6.0152e+01,  2.4352e+01,\n",
      "           2.1603e+01, -9.7926e+00,  2.9390e+01, -2.2173e+00, -3.3638e+00,\n",
      "           4.8273e+01,  1.0692e+01,  3.8967e+01,  2.8704e+01, -5.8261e+00,\n",
      "           3.2022e+01,  2.4757e+01, -7.7966e+00,  1.8626e+01, -7.8224e+00,\n",
      "           2.8190e+01,  4.9842e+00,  4.2994e+00, -8.0592e-01,  2.9977e+01,\n",
      "           4.1527e+01, -1.3047e+00, -1.2731e+01,  1.9631e+01,  2.8731e+00,\n",
      "           1.8824e+01,  5.0482e+01,  2.2286e+01, -1.0218e+00,  4.6919e+01,\n",
      "           2.1899e+01,  2.4317e+01,  2.6492e+01,  3.3278e+01,  3.2031e+01,\n",
      "          -4.1231e+01,  3.4662e+01,  2.4520e+01,  2.8429e+01,  3.5341e+01,\n",
      "          -1.0551e+01,  4.3213e+01,  1.5197e+01,  1.7396e+01,  7.4938e+00,\n",
      "          -2.3048e-02,  4.3253e+01,  5.4199e+01,  2.3842e+01,  5.2045e+01,\n",
      "           3.1460e+01, -1.5323e+01,  3.2432e+01,  3.5282e+01,  1.0007e+01,\n",
      "          -8.0838e+00,  4.3653e+01,  4.1021e+01,  2.4784e+01, -4.7729e+00,\n",
      "           4.7695e+01,  2.3475e+01,  1.1837e+01, -1.6561e+01, -8.0444e+00,\n",
      "           4.1422e+01,  4.2183e+00,  1.5965e+01,  2.0727e+01, -7.9551e+00,\n",
      "           7.9424e+00,  1.5093e+01, -2.0001e+01,  3.6952e+00,  1.0057e+01,\n",
      "           4.0957e+01,  2.7816e+01,  3.3992e+01,  3.3837e+01,  1.2656e+01,\n",
      "           4.1203e+01,  3.5218e+00,  2.7509e+01, -2.2015e+00,  2.2821e+01,\n",
      "           2.9692e+00,  2.0169e+01,  2.6165e+01,  1.6486e+00,  2.5613e+01,\n",
      "           2.4129e+01,  1.8668e+01,  1.5845e+01,  3.5413e+01, -6.7563e-01,\n",
      "           3.6949e+01, -3.6415e+00, -1.0221e+01, -1.7361e+01, -1.4424e+01,\n",
      "           2.9268e+01,  2.5267e+01,  3.5836e+01,  6.0360e+00,  2.5561e+01,\n",
      "           2.9744e+01, -2.3328e+00, -5.0860e+00, -1.9902e+01, -1.3084e+01,\n",
      "           1.5151e+01, -4.2092e-01,  4.0266e+01, -2.8743e+00, -2.6095e+00,\n",
      "           3.4798e+01,  4.2029e+01,  2.4344e+00, -2.8125e+00,  3.1801e+01,\n",
      "          -2.0691e+01,  4.1834e-01,  2.1168e+01,  3.7587e+01,  5.5274e+00,\n",
      "           1.5494e+01,  2.0039e+01, -1.5568e+01,  1.8700e+00,  4.4543e+01,\n",
      "          -1.5364e+01,  4.0498e+01, -2.1164e+01,  2.2235e+01,  2.0061e+01,\n",
      "           1.9529e+01,  2.8505e+01, -1.0544e+01, -1.1293e+01, -1.0593e+01,\n",
      "           1.6494e+01,  2.7672e+01,  4.7490e+01,  2.9543e+01,  4.2975e+01,\n",
      "           1.1277e+01,  5.4494e-01,  3.3305e+01,  1.9006e-01,  1.8360e+00,\n",
      "          -1.2950e+01,  3.8245e+01,  2.1754e+00,  4.8622e+01, -1.9358e+01,\n",
      "           1.7756e+01, -1.1256e+01,  2.6004e+01,  1.1220e+01, -1.8738e+00,\n",
      "           4.3551e+01,  1.9475e+00,  2.7118e+01,  2.7920e+01, -1.0213e+01,\n",
      "           1.1461e+01,  3.4331e+01,  2.0447e+01, -3.8040e+00,  4.5237e+01,\n",
      "           1.6698e+01,  8.7658e+00, -3.7491e+01,  4.7739e+01,  1.4744e+01,\n",
      "           2.4159e+01,  2.9657e+01,  3.9794e+01,  4.6539e+01,  2.2086e+01,\n",
      "           4.0285e+01, -7.6225e+00, -2.5155e+01, -2.2113e+01, -1.0897e+01,\n",
      "           3.7085e+01,  9.5355e+00,  1.4110e+01,  7.7991e+00, -3.7041e+00,\n",
      "           3.4251e+01]]])\n"
     ]
    }
   ],
   "source": [
    "import torchaudio\n",
    "import speechbrain\n",
    "\n",
    "from speechbrain.pretrained import EncoderClassifier\n",
    "from torch.nn.utils.rnn import pad_sequence\n",
    "\n",
    "language_id = EncoderClassifier.from_hparams(source=\"speechbrain/lang-id-voxlingua107-ecapa\", savedir=\"tmp\")\n",
    "\n",
    "signal = language_id.load_audio(f'{CWD}/train100/audio/0a5c0729.wav')\n",
    "emb =  language_id.encode_batch(signal)"
   ]
  },
  {
   "cell_type": "markdown",
   "metadata": {},
   "source": [
    "In fact, the model is trained for language identification of 107 languages and we could use it directly for identification:"
   ]
  },
  {
   "cell_type": "code",
   "execution_count": null,
   "metadata": {},
   "outputs": [],
   "source": [
    "prediction =  language_id.classify_batch(signal)"
   ]
  },
  {
   "cell_type": "markdown",
   "metadata": {},
   "source": [
    "Invest some time to inspect the model and the outputs. Notice that the six target languages are included among the 107. The output indices are: \n",
    "\n",
    "```python\n",
    "XVEC_LANG_INDEX = (24,13,20,29,75,22) \n",
    "```\n",
    "\n",
    "corresponding respectively to the following languages:\n",
    "\n",
    "```python \n",
    "LANGUAGES = ('Basque',  'Catalan',  'English',  'Galician',  'Portuguese',  'Spanish')\n",
    "```\n",
    "\n",
    "Knowing this, it should be easy to obtain the predicted class among the six possible candidates:"
   ]
  },
  {
   "cell_type": "code",
   "execution_count": null,
   "metadata": {},
   "outputs": [],
   "source": [
    "XVEC_LANG_INDEX = (24,13,20,29,75,22) \n",
    "\n",
    "# Obtain the predicted class out of the 6 target ones\n",
    "print(prediction)\n",
    "#res = prediction[1][0]"
   ]
  },
  {
   "cell_type": "markdown",
   "metadata": {},
   "source": [
    "## Using the x-vector up-stream model for language ID\n",
    "\n",
    "Let's try first something simple: use the the pre-trained model for idenfication. In this simple test, you don't need to train anyhing simply classify the dev and test sets. To do so, first configure the right transformation for the Kalaka class (one that simply loads the audio without any chunking):"
   ]
  },
  {
   "cell_type": "code",
   "execution_count": null,
   "metadata": {},
   "outputs": [],
   "source": [
    "def extract_xvec(x):\n",
    "    signal = librosa.load(x, sr=16000, mono=True)[0]\n",
    "    emb =  language_id.encode_batch(torch.tensor(signal))\n",
    "    return emb[0][0]\n",
    "def extract_xvec_segments(x, sec):\n",
    "    signal = torch.tensor(librosa.load(x, sr=16000, mono=True)[0])\n",
    "    split_signal = torch.split(signal, (16000 * sec))\n",
    "    batch_split = pad_sequence(split_signal, batch_first=True, padding_value=0)\n",
    "    emb = language_id.encode_batch(batch_split)\n",
    "    return emb.reshape(emb.shape[0], emb.shape[2])\n",
    "def extract_pretrained(x):\n",
    "    signal = language_id.load_audio(x)\n",
    "    emb = language_id.classify_batch(signal)\n",
    "    return emb[0][0]"
   ]
  },
  {
   "cell_type": "code",
   "execution_count": 715,
   "metadata": {},
   "outputs": [
    {
     "name": "stderr",
     "output_type": "stream",
     "text": [
      "/Users/duartealmeida/PF/Spoken-Language-Processing/lab02/pf_tools.py:91: UserWarning: The feature directory already exists, and no new feature extraction will be performed.\n",
      "  warnings.warn(\"The feature directory already exists, and no new feature extraction will be performed.\")\n",
      "/var/folders/1m/wmfsxxg15h75p6f5brh_y24h0000gn/T/ipykernel_20763/2260030844.py:87: UserWarning: you are shuffling a 'Tensor' object which is not a subclass of 'Sequence'; `shuffle` is not guaranteed to behave correctly. E.g., non-numpy array/tensor objects with view semantics may contain duplicates after shuffling.\n",
      "  np.random.shuffle(curr_data)\n"
     ]
    },
    {
     "name": "stdout",
     "output_type": "stream",
     "text": [
      "(162, 256)\n",
      "(162,)\n"
     ]
    }
   ],
   "source": [
    "trainset = 'train100'\n",
    "transform_id = 'raw_xvec_segments_2'\n",
    "\n",
    "transform = {  'raw' :\n",
    "                {\n",
    "                    'audio_transform': lambda x: extract_xvec(x),\n",
    "                    'chunk_transform': None,\n",
    "                    'chunk_size': 0,\n",
    "                    'chunk_hop':0   \n",
    "                },\n",
    "                'raw_xvec' :\n",
    "                {\n",
    "                    'audio_transform': lambda x: extract_xvec(x),\n",
    "                    'chunk_transform': None,\n",
    "                    'chunk_size': 0,\n",
    "                    'chunk_hop':0   \n",
    "                },\n",
    "                'raw_xvec_segments_2' :\n",
    "                {\n",
    "                    'audio_transform': lambda x: extract_xvec_segments(x, 2),\n",
    "                    'chunk_transform': None,\n",
    "                    'chunk_size': 0,\n",
    "                    'chunk_hop':0   \n",
    "                },\n",
    "                 'raw_xvec_segments_4' :\n",
    "                {\n",
    "                    'audio_transform': lambda x: extract_xvec_segments(x, 4),\n",
    "                    'chunk_transform': None,\n",
    "                    'chunk_size': 0,\n",
    "                    'chunk_hop':0   \n",
    "                },\n",
    "                'raw_xvec_segments_16' :\n",
    "                {\n",
    "                    'audio_transform': lambda x: extract_xvec_segments(x, 16),\n",
    "                    'chunk_transform': None,\n",
    "                    'chunk_size': 0,\n",
    "                    'chunk_hop':0   \n",
    "                },\n",
    "                 'pretrained' :\n",
    "                {\n",
    "                    'audio_transform': lambda x: extract_xvec_pretrained(x),\n",
    "                    'chunk_transform': None,\n",
    "                    'chunk_size': 0,\n",
    "                    'chunk_hop':0   \n",
    "                }\n",
    "             \n",
    "             \n",
    "            }\n",
    "\n",
    "trainkalaka = Kalaka(CWD, trainset, \n",
    "                 transform_id=transform_id, \n",
    "                 audio_transform=transform[transform_id]['audio_transform'], \n",
    "                 chunk_transform=transform[transform_id]['chunk_transform'],\n",
    "                 chunk_size=transform[transform_id]['chunk_size'], \n",
    "                 chunk_hop=transform[transform_id]['chunk_hop']\n",
    "                )\n",
    "\n",
    "ensemble = 0\n",
    "if !ensemble:\n",
    "    train_data = []\n",
    "    train_labels = []\n",
    "    dict_languages = {}\n",
    "    for data, label, basename in trainkalaka:\n",
    "        #train_data.append(data.numpy())\n",
    "        #train_labels.append(label)\n",
    "        train_data.append(data)\n",
    "        train_labels.append(np.full(data.shape[0], label)) \n",
    "\n",
    "    train_data = np.concatenate(train_data)\n",
    "    train_labels = np.concatenate(train_labels)\n",
    "\n",
    "    #train_data = np.array(train_data)\n",
    "    #train_labels = np.array(train_labels)\n",
    "\n",
    "    print(train_data.shape)\n",
    "    print(train_labels.shape)\n",
    "\n",
    "    print(train_data)\n",
    "else:\n",
    "    num_datasets = 10\n",
    "    train_data_dict = {}\n",
    "    train_labels_dict = {}\n",
    "    for i in range(num_datasets):\n",
    "        train_data_dict[i] = []\n",
    "        train_labels_dict[i] = []\n",
    "    count = 0\n",
    "    for data, label, basename in trainkalaka:\n",
    "        sizes = [(i * data.shape[0]) // num_datasets for i in range(num_datasets)]\n",
    "        sizes.append(data.shape[0])\n",
    "        sizes = np.array([[sizes[i], sizes[i + 1]] for i in range(len(sizes) - 1)])\n",
    "        np.random.shuffle(sizes)\n",
    "\n",
    "        curr_data = data\n",
    "        np.random.shuffle(curr_data)\n",
    "\n",
    "        for i in range(num_datasets):\n",
    "            curr_train_data = curr_data[sizes[i][0] : sizes[i][1], :]\n",
    "            train_data_dict[i].append(curr_train_data)\n",
    "            train_labels_dict[i].append(np.full(curr_train_data.shape[0], label)) \n",
    "\n",
    "    for i in range(num_datasets):\n",
    "        train_data_dict[i] = np.concatenate(train_data_dict[i])\n",
    "        train_labels_dict[i] = np.concatenate(train_labels_dict[i])\n",
    "\n",
    "\n",
    "    print(train_data_dict[1].shape)\n",
    "    print(train_labels_dict[1].shape)\n"
   ]
  },
  {
   "cell_type": "code",
   "execution_count": 716,
   "metadata": {},
   "outputs": [
    {
     "name": "stdout",
     "output_type": "stream",
     "text": [
      "Dataset 0\n",
      "Dataset 1\n",
      "Dataset 2\n",
      "Dataset 3\n",
      "Dataset 4\n",
      "Dataset 5\n",
      "Dataset 6\n",
      "Dataset 7\n",
      "Dataset 8\n",
      "Dataset 9\n",
      "Dataset 10\n",
      "Dataset 11\n",
      "Dataset 12\n",
      "Dataset 13\n",
      "Dataset 14\n",
      "Dataset 15\n",
      "Dataset 16\n",
      "Dataset 17\n",
      "Dataset 18\n",
      "Dataset 19\n",
      "Dataset 20\n",
      "Dataset 21\n",
      "Dataset 22\n",
      "Dataset 23\n",
      "Dataset 24\n",
      "Dataset 25\n",
      "Dataset 26\n",
      "Dataset 27\n",
      "Dataset 28\n",
      "Dataset 29\n",
      "Dataset 30\n",
      "Dataset 31\n",
      "Dataset 32\n",
      "Dataset 33\n",
      "Dataset 34\n",
      "Dataset 35\n",
      "Dataset 36\n",
      "Dataset 37\n",
      "Dataset 38\n",
      "Dataset 39\n",
      "Dataset 40\n",
      "Dataset 41\n",
      "Dataset 42\n",
      "Dataset 43\n",
      "Dataset 44\n",
      "Dataset 45\n",
      "Dataset 46\n",
      "Dataset 47\n",
      "Dataset 48\n",
      "Dataset 49\n",
      "Dataset 50\n",
      "Dataset 51\n",
      "Dataset 52\n",
      "Dataset 53\n",
      "Dataset 54\n",
      "Dataset 55\n",
      "Dataset 56\n",
      "Dataset 57\n",
      "Dataset 58\n",
      "Dataset 59\n",
      "Dataset 60\n",
      "Dataset 61\n",
      "Dataset 62\n",
      "Dataset 63\n",
      "Dataset 64\n",
      "Dataset 65\n",
      "Dataset 66\n",
      "Dataset 67\n",
      "Dataset 68\n",
      "Dataset 69\n",
      "Dataset 70\n",
      "Dataset 71\n",
      "Dataset 72\n",
      "Dataset 73\n",
      "Dataset 74\n",
      "Dataset 75\n",
      "Dataset 76\n",
      "Dataset 77\n",
      "Dataset 78\n",
      "Dataset 79\n",
      "Dataset 80\n",
      "Dataset 81\n",
      "Dataset 82\n",
      "Dataset 83\n",
      "Dataset 84\n",
      "Dataset 85\n",
      "Dataset 86\n",
      "Dataset 87\n",
      "Dataset 88\n",
      "Dataset 89\n",
      "Dataset 90\n",
      "Dataset 91\n",
      "Dataset 92\n",
      "Dataset 93\n",
      "Dataset 94\n",
      "Dataset 95\n",
      "Dataset 96\n",
      "Dataset 97\n",
      "Dataset 98\n",
      "Dataset 99\n"
     ]
    }
   ],
   "source": [
    "#XVEC_LANG_INDEX = (24,13,20,29,75,22) \n",
    "#train_data = train_data[:, XVEC_LANG_INDEX]\n",
    "#print(train_data)\n",
    "\n",
    "model = SVC(kernel = \"linear\", verbose = True)\n",
    "model.fit(train_data, train_labels)\n",
    "\n",
    "#models = [SVC(kernel = \"linear\") for i in range(num_datasets)]\n",
    "#for i in range(num_datasets):\n",
    "#    print(f\"Dataset {i}\")\n",
    "#    models[i].fit(train_data_dict[i], train_labels_dict[i])\n",
    "\n",
    "#model = LogisticRegression(max_iter = int(1e6))\n",
    "#model.fit(train_data, train_labels)\n",
    "\n",
    "#model = MLPClassifier(hidden_layer_sizes = [12, 6], max_iter = int(1e6))\n",
    "#model.fit(train_data, train_labels)"
   ]
  },
  {
   "cell_type": "code",
   "execution_count": 691,
   "metadata": {},
   "outputs": [
    {
     "name": "stderr",
     "output_type": "stream",
     "text": [
      "/Users/duartealmeida/PF/Spoken-Language-Processing/lab02/pf_tools.py:91: UserWarning: The feature directory already exists, and no new feature extraction will be performed.\n",
      "  warnings.warn(\"The feature directory already exists, and no new feature extraction will be performed.\")\n"
     ]
    }
   ],
   "source": [
    "# Confifure the tranformation\n",
    "#raise CheckThisCell ## <---- Remove this after completeing/checking this cell\n",
    "\n",
    "\n",
    "# Download and feature extract\n",
    "transform_id = 'raw_xvec_segments_16'\n",
    "\n",
    "\n",
    "devkalaka = Kalaka(CWD, 'dev', \n",
    "                 transform_id=transform_id, \n",
    "                 audio_transform=transform[transform_id]['audio_transform'], \n",
    "                 chunk_transform=transform[transform_id]['chunk_transform'],\n",
    "                 chunk_size=transform[transform_id]['chunk_size'], \n",
    "                 chunk_hop=transform[transform_id]['chunk_hop']\n",
    "                )"
   ]
  },
  {
   "cell_type": "markdown",
   "metadata": {},
   "source": [
    "Now you have all the elements to predict langauge using the langID pre-trained model.\n",
    "In case you have access to a GPU, it may be good using a Pytorch Dataloader to batch the dev samples:"
   ]
  },
  {
   "cell_type": "code",
   "execution_count": 660,
   "metadata": {},
   "outputs": [],
   "source": [
    "import torch\n",
    "if torch.cuda.is_available():\n",
    "    device = torch.device('cuda:0')\n",
    "else:\n",
    "    device = torch.device('cpu')"
   ]
  },
  {
   "cell_type": "markdown",
   "metadata": {},
   "source": [
    "Since the audios are of different size, we need to pass an auxiliary function to the dataloader that handles this (by adding 0s). This can be done as follows:"
   ]
  },
  {
   "cell_type": "code",
   "execution_count": 708,
   "metadata": {},
   "outputs": [],
   "source": [
    "def collate_batch(batch): \n",
    "    label_list, audio_list, basename_list, audiolen_list = [], [], [], []\n",
    "\n",
    "    for (_audio,_label, _basename) in batch:\n",
    "        label_list.append(_label)\n",
    "        audio_list.append(_audio)\n",
    "        basename_list.append(_basename)\n",
    "        audiolen_list.append(_audio.shape[0])\n",
    "\n",
    "    label_list = torch.tensor(label_list, dtype=torch.int64)\n",
    "    audio_list = pad_sequence(audio_list, batch_first=True, padding_value=0)\n",
    "    max_len = max(audiolen_list)\n",
    "    audiolen_list = torch.tensor([l/max_len for l in audiolen_list])\n",
    "\n",
    "    return audio_list.to(device),label_list.to(device), basename_list, audiolen_list.to(device)\n",
    "\n",
    "batch_size = 1\n",
    "dataloader = torch.utils.data.DataLoader(\n",
    "        dataset=devkalaka,\n",
    "        batch_size=batch_size,\n",
    "        collate_fn=collate_batch,\n",
    "        shuffle=False  # <-- We want to keep the original order of the dev set\n",
    ")\n"
   ]
  },
  {
   "cell_type": "markdown",
   "metadata": {},
   "source": [
    "Complete the following piece of code to store properly the hypothesis and the reference:"
   ]
  },
  {
   "cell_type": "code",
   "execution_count": 717,
   "metadata": {},
   "outputs": [
    {
     "name": "stderr",
     "output_type": "stream",
     "text": [
      "100%|██████████████████████████████████████████████████████████████████████████████████████████▉| 917/918 [00:26<00:00, 34.82it/s]"
     ]
    },
    {
     "name": "stdout",
     "output_type": "stream",
     "text": [
      "Finished preocessing all data in 26.339537858963013\n"
     ]
    },
    {
     "name": "stderr",
     "output_type": "stream",
     "text": [
      "\n"
     ]
    }
   ],
   "source": [
    "import time\n",
    "from tqdm import tqdm\n",
    "from scipy import stats\n",
    "start = time.time()\n",
    "\n",
    "results_dev = {}\n",
    "results_dev['ref'] =  []\n",
    "results_dev['hyp'] =  []\n",
    "results_dev['fileids'] = [] \n",
    "\n",
    "for i, batch in tqdm(enumerate(dataloader), total=1+len(devkalaka)//batch_size):\n",
    "    data, label, basename, audiolen = batch\n",
    "    #predictions = language_id.classify_batch(data, wav_lens=audiolen)\n",
    "    \n",
    "    if ensemble:\n",
    "        prediction = []\n",
    "        for i in range(num_datasets):\n",
    "            prediction.append(models[i].predict(data[0]))\n",
    "        prediction = np.concatenate(prediction)\n",
    "        prediction = stats.mode(prediction, keepdims = True).mode[0]\n",
    "    else:\n",
    "        prediction = model.predict(data[:, XVEC_LANG_INDEX])\n",
    "    \n",
    "    # Complete the code to store the hypothesis (careful if you use argmax, you will ned to add 1 to the predicted class),\n",
    "    # the reference and the fileids. In the call to the prediction method, you should pass the audio length information, so that \n",
    "    # the padded 0s can be ignored\n",
    "    results_dev[\"hyp\"].append(prediction)\n",
    "    results_dev[\"ref\"].append(label[0].detach().numpy())\n",
    "    results_dev[\"fileids\"].append(basename)\n",
    "    #raise CheckThisCell ## <---- Remove this after completeing/checking this cell\n",
    "    \n",
    "print(f'Finished preocessing all data in {time.time() - start}')"
   ]
  },
  {
   "cell_type": "markdown",
   "metadata": {},
   "source": [
    "And now let's see how well this model behaves on our dev partition:"
   ]
  },
  {
   "cell_type": "code",
   "execution_count": 718,
   "metadata": {},
   "outputs": [
    {
     "data": {
      "image/png": "[encoded data removed]",
      "text/plain": [
       "<Figure size 300x300 with 1 Axes>"
      ]
     },
     "metadata": {},
     "output_type": "display_data"
    }
   ],
   "source": [
    "ref, hyp = results_dev['ref'], results_dev['hyp']\n",
    "\n",
    "conf_matrix = confusion_matrix(ref, hyp)\n",
    "\n",
    "fig, ax = plt.subplots(figsize=(3.0, 3.0))\n",
    "ax.matshow(conf_matrix, cmap=plt.cm.Blues, alpha=0.3)\n",
    "for i in range(conf_matrix.shape[0]):\n",
    "    for j in range(conf_matrix.shape[1]):\n",
    "        ax.text(x=j, y=i,s=conf_matrix[i, j], va='center', ha='center')\n",
    "\n",
    "plt.xlabel('Predictions', fontsize=12)\n",
    "plt.ylabel('Actuals', fontsize=12)\n",
    "plt.title(f'Confusion Matrix\\n(Accuracy {100*accuracy_score(ref, hyp):.2f})', fontsize=12)\n",
    "plt.show()"
   ]
  },
  {
   "cell_type": "markdown",
   "metadata": {},
   "source": [
    "That was pretty impressive, right!?! And  easier than Part I of this lab! \n",
    "\n",
    "Well, here comes some bad news: you can not use this langid classifier in the challenge. However, you can use the pre-trained x-vector embeddings as a feature extractor to train your language classification system (may be a simple K-means on top of the x-vectors work well). You can also try to change the classification head of the x-vector model and fine-tune with the challenge data. You have plenty of options, but remember, any system that use these pre-trained embeddings (or any similar ones) are only valid for the Track 2 of the Challenge and the prediction file should be  namedlike this: `T2_G<YY>_<SYSTEMID>.csv` \n",
    "\n"
   ]
  },
  {
   "cell_type": "markdown",
   "metadata": {},
   "source": [
    "# What should you deliver at the end of this lab assignment?\n",
    "You should deliver the following three elements:\n",
    "- You must submit at least one prediction file to the Kaggle competition in the format previously described: https://www.kaggle.com/competitions/speech-processing-lab-2/\n",
    "- You must submit (via Fênix) the modified notebook (or code) of your proposed systems(s).\n",
    "- You must submit a report (via Fênix) of maximum 2 pages describing your system, approaches (may be unsuccesful), lessons learnt, results on the dev partition, etc. You can use the following Overleaf template for the report: https://www.overleaf.com/latex/templates/interspeech-2023-paper-kit/kzcdqdmkqvbr"
   ]
  },
  {
   "cell_type": "markdown",
   "metadata": {},
   "source": [
    "# Contacts and support\n",
    "You can contact the professors during the classes or the office hours.\n",
    "\n",
    "Particularly, for this second laboratory assignment, you should contact Prof. Alberto Abad: alberto.abad@tecnico.ulisboa.pt\n",
    "\n",
    "\n",
    "\n"
   ]
  },
  {
   "cell_type": "markdown",
   "metadata": {},
   "source": []
  }
 ],
 "metadata": {
  "kernelspec": {
   "display_name": "Python 3 (ipykernel)",
   "language": "python",
   "name": "python3"
  },
  "language_info": {
   "codemirror_mode": {
    "name": "ipython",
    "version": 3
   },
   "file_extension": ".py",
   "mimetype": "text/x-python",
   "name": "python",
   "nbconvert_exporter": "python",
   "pygments_lexer": "ipython3",
   "version": "3.11.3"
  }
 },
 "nbformat": 4,
 "nbformat_minor": 2
}
